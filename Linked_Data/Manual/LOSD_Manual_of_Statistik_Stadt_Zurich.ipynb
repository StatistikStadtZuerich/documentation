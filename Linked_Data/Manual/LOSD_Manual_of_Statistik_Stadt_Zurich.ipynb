{
 "cells": [
  {
   "cell_type": "markdown",
   "metadata": {
    "toc": true
   },
   "source": [
    "<h1>Table of Contents<span class=\"tocSkip\"></span></h1>\n",
    "<div class=\"toc\"><ul class=\"toc-item\"><li><span><a href=\"#Table-of-Contents\" data-toc-modified-id=\"Table-of-Contents-1\"><span class=\"toc-item-num\">1&nbsp;&nbsp;</span>Table of Contents</a></span></li><li><span><a href=\"#1-Introduction\" data-toc-modified-id=\"1-Introduction-2\"><span class=\"toc-item-num\">2&nbsp;&nbsp;</span>1 Introduction</a></span></li><li><span><a href=\"#2-Linked-Open-Data\" data-toc-modified-id=\"2-Linked-Open-Data-3\"><span class=\"toc-item-num\">3&nbsp;&nbsp;</span>2 Linked Open Data</a></span><ul class=\"toc-item\"><li><span><a href=\"#2.1-The-Semantic-Web\" data-toc-modified-id=\"2.1-The-Semantic-Web-3.1\"><span class=\"toc-item-num\">3.1&nbsp;&nbsp;</span>2.1 The Semantic Web</a></span></li><li><span><a href=\"#2.2-Open-Data-and-Linked-Data\" data-toc-modified-id=\"2.2-Open-Data-and-Linked-Data-3.2\"><span class=\"toc-item-num\">3.2&nbsp;&nbsp;</span>2.2 Open Data and Linked Data</a></span></li><li><span><a href=\"#2.3-Graph-Database-vs.-Relational-Database\" data-toc-modified-id=\"2.3-Graph-Database-vs.-Relational-Database-3.3\"><span class=\"toc-item-num\">3.3&nbsp;&nbsp;</span>2.3 Graph Database vs. Relational Database</a></span></li><li><span><a href=\"#2.4-Triple-Storage-and-Resource-Description-Framework-(RDF)\" data-toc-modified-id=\"2.4-Triple-Storage-and-Resource-Description-Framework-(RDF)-3.4\"><span class=\"toc-item-num\">3.4&nbsp;&nbsp;</span>2.4 Triple Storage and Resource Description Framework (RDF)</a></span></li><li><span><a href=\"#2.5-RDF-vocabulary\" data-toc-modified-id=\"2.5-RDF-vocabulary-3.5\"><span class=\"toc-item-num\">3.5&nbsp;&nbsp;</span>2.5 RDF vocabulary</a></span></li><li><span><a href=\"#2.6-RDF-Serialization\" data-toc-modified-id=\"2.6-RDF-Serialization-3.6\"><span class=\"toc-item-num\">3.6&nbsp;&nbsp;</span>2.6 RDF Serialization</a></span></li><li><span><a href=\"#2.7-RDF-Data-Cube-model\" data-toc-modified-id=\"2.7-RDF-Data-Cube-model-3.7\"><span class=\"toc-item-num\">3.7&nbsp;&nbsp;</span>2.7 RDF Data Cube model</a></span></li><li><span><a href=\"#2.8-SPARQL-and-how-to-query-Linked-Data\" data-toc-modified-id=\"2.8-SPARQL-and-how-to-query-Linked-Data-3.8\"><span class=\"toc-item-num\">3.8&nbsp;&nbsp;</span>2.8 SPARQL and how to query Linked Data</a></span></li><li><span><a href=\"#2.9-SPARQL-vs.-SQL\" data-toc-modified-id=\"2.9-SPARQL-vs.-SQL-3.9\"><span class=\"toc-item-num\">3.9&nbsp;&nbsp;</span>2.9 SPARQL vs. SQL</a></span></li></ul></li><li><span><a href=\"#3-Data-Model\" data-toc-modified-id=\"3-Data-Model-4\"><span class=\"toc-item-num\">4&nbsp;&nbsp;</span>3 Data Model</a></span><ul class=\"toc-item\"><li><span><a href=\"#3.1-The-SDMX-Standard\" data-toc-modified-id=\"3.1-The-SDMX-Standard-4.1\"><span class=\"toc-item-num\">4.1&nbsp;&nbsp;</span>3.1 The SDMX Standard</a></span></li><li><span><a href=\"#3.2-Concepts-of-the-Historic-Data\" data-toc-modified-id=\"3.2-Concepts-of-the-Historic-Data-4.2\"><span class=\"toc-item-num\">4.2&nbsp;&nbsp;</span>3.2 Concepts of the Historic Data</a></span></li><li><span><a href=\"#3.3-Concepts-of-the-RDF-Data-Cube\" data-toc-modified-id=\"3.3-Concepts-of-the-RDF-Data-Cube-4.3\"><span class=\"toc-item-num\">4.3&nbsp;&nbsp;</span>3.3 Concepts of the RDF Data Cube</a></span></li><li><span><a href=\"#3.4-Other-important-concepts\" data-toc-modified-id=\"3.4-Other-important-concepts-4.4\"><span class=\"toc-item-num\">4.4&nbsp;&nbsp;</span>3.4 Other important concepts</a></span></li></ul></li><li><span><a href=\"#4-SPARQL-Interface\" data-toc-modified-id=\"4-SPARQL-Interface-5\"><span class=\"toc-item-num\">5&nbsp;&nbsp;</span>4 SPARQL-Interface</a></span><ul class=\"toc-item\"><li><span><a href=\"#4.1-SPARQL-in-this-notebook\" data-toc-modified-id=\"4.1-SPARQL-in-this-notebook-5.1\"><span class=\"toc-item-num\">5.1&nbsp;&nbsp;</span>4.1 SPARQL in this notebook</a></span></li><li><span><a href=\"#4.2-Example-Query:-all-DataSets\" data-toc-modified-id=\"4.2-Example-Query:-all-DataSets-5.2\"><span class=\"toc-item-num\">5.2&nbsp;&nbsp;</span>4.2 Example Query: all DataSets</a></span><ul class=\"toc-item\"><li><span><a href=\"#4.2.1-Explanation\" data-toc-modified-id=\"4.2.1-Explanation-5.2.1\"><span class=\"toc-item-num\">5.2.1&nbsp;&nbsp;</span>4.2.1 Explanation</a></span></li></ul></li><li><span><a href=\"#4.3-Example-Query:-the-first-100-Triples\" data-toc-modified-id=\"4.3-Example-Query:-the-first-100-Triples-5.3\"><span class=\"toc-item-num\">5.3&nbsp;&nbsp;</span>4.3 Example Query: the first 100 Triples</a></span><ul class=\"toc-item\"><li><span><a href=\"#4.3.1-Explanation\" data-toc-modified-id=\"4.3.1-Explanation-5.3.1\"><span class=\"toc-item-num\">5.3.1&nbsp;&nbsp;</span>4.3.1 Explanation</a></span></li></ul></li><li><span><a href=\"#4.4-Example-Query:-total-number-of-Triples\" data-toc-modified-id=\"4.4-Example-Query:-total-number-of-Triples-5.4\"><span class=\"toc-item-num\">5.4&nbsp;&nbsp;</span>4.4 Example Query: total number of Triples</a></span><ul class=\"toc-item\"><li><span><a href=\"#4.4.1-Explanation\" data-toc-modified-id=\"4.4.1-Explanation-5.4.1\"><span class=\"toc-item-num\">5.4.1&nbsp;&nbsp;</span>4.4.1 Explanation</a></span></li></ul></li><li><span><a href=\"#4.5-Example-Query:-number-of-Observations-per-DataSet\" data-toc-modified-id=\"4.5-Example-Query:-number-of-Observations-per-DataSet-5.5\"><span class=\"toc-item-num\">5.5&nbsp;&nbsp;</span>4.5 Example Query: number of Observations per DataSet</a></span><ul class=\"toc-item\"><li><span><a href=\"#4.5.1-Explanation\" data-toc-modified-id=\"4.5.1-Explanation-5.5.1\"><span class=\"toc-item-num\">5.5.1&nbsp;&nbsp;</span>4.5.1 Explanation</a></span></li></ul></li><li><span><a href=\"#4.6-Example-Query:-filter-with-regular-expressions\" data-toc-modified-id=\"4.6-Example-Query:-filter-with-regular-expressions-5.6\"><span class=\"toc-item-num\">5.6&nbsp;&nbsp;</span>4.6 Example Query: filter with regular expressions</a></span><ul class=\"toc-item\"><li><span><a href=\"#4.6.1-Explanation\" data-toc-modified-id=\"4.6.1-Explanation-5.6.1\"><span class=\"toc-item-num\">5.6.1&nbsp;&nbsp;</span>4.6.1 Explanation</a></span></li></ul></li><li><span><a href=\"#4.7-Example-Query:-Kennzahlen-and-measures\" data-toc-modified-id=\"4.7-Example-Query:-Kennzahlen-and-measures-5.7\"><span class=\"toc-item-num\">5.7&nbsp;&nbsp;</span>4.7 Example Query: Kennzahlen and measures</a></span><ul class=\"toc-item\"><li><span><a href=\"#4.7.1-Explanation\" data-toc-modified-id=\"4.7.1-Explanation-5.7.1\"><span class=\"toc-item-num\">5.7.1&nbsp;&nbsp;</span>4.7.1 Explanation</a></span></li></ul></li><li><span><a href=\"#4.8-Example-Query:-Groups-and-dimensions\" data-toc-modified-id=\"4.8-Example-Query:-Groups-and-dimensions-5.8\"><span class=\"toc-item-num\">5.8&nbsp;&nbsp;</span>4.8 Example Query: Groups and dimensions</a></span><ul class=\"toc-item\"><li><span><a href=\"#4.8.1-Explanation\" data-toc-modified-id=\"4.8.1-Explanation-5.8.1\"><span class=\"toc-item-num\">5.8.1&nbsp;&nbsp;</span>4.8.1 Explanation</a></span></li></ul></li><li><span><a href=\"#4.9-Example-Query:-DataSets-of-specific-dimensions\" data-toc-modified-id=\"4.9-Example-Query:-DataSets-of-specific-dimensions-5.9\"><span class=\"toc-item-num\">5.9&nbsp;&nbsp;</span>4.9 Example Query: DataSets of specific dimensions</a></span><ul class=\"toc-item\"><li><span><a href=\"#4.9.1-Explanation\" data-toc-modified-id=\"4.9.1-Explanation-5.9.1\"><span class=\"toc-item-num\">5.9.1&nbsp;&nbsp;</span>4.9.1 Explanation</a></span></li></ul></li><li><span><a href=\"#4.10-Example-Query:-Metadata-and-attributes\" data-toc-modified-id=\"4.10-Example-Query:-Metadata-and-attributes-5.10\"><span class=\"toc-item-num\">5.10&nbsp;&nbsp;</span>4.10 Example Query: Metadata and attributes</a></span><ul class=\"toc-item\"><li><span><a href=\"#4.10.1-Explanation\" data-toc-modified-id=\"4.10.1-Explanation-5.10.1\"><span class=\"toc-item-num\">5.10.1&nbsp;&nbsp;</span>4.10.1 Explanation</a></span></li></ul></li><li><span><a href=\"#4.11-Example-Query:-Groupcodes\" data-toc-modified-id=\"4.11-Example-Query:-Groupcodes-5.11\"><span class=\"toc-item-num\">5.11&nbsp;&nbsp;</span>4.11 Example Query: Groupcodes</a></span><ul class=\"toc-item\"><li><span><a href=\"#4.11.1-Explanation\" data-toc-modified-id=\"4.11.1-Explanation-5.11.1\"><span class=\"toc-item-num\">5.11.1&nbsp;&nbsp;</span>4.11.1 Explanation</a></span></li></ul></li><li><span><a href=\"#4.12-Example-Query:-Hierarchy-of-Groupcodes\" data-toc-modified-id=\"4.12-Example-Query:-Hierarchy-of-Groupcodes-5.12\"><span class=\"toc-item-num\">5.12&nbsp;&nbsp;</span>4.12 Example Query: Hierarchy of Groupcodes</a></span><ul class=\"toc-item\"><li><span><a href=\"#4.12.1-Explanation\" data-toc-modified-id=\"4.12.1-Explanation-5.12.1\"><span class=\"toc-item-num\">5.12.1&nbsp;&nbsp;</span>4.12.1 Explanation</a></span></li></ul></li><li><span><a href=\"#4.13-Example-Query:-spatial-Hierarchies\" data-toc-modified-id=\"4.13-Example-Query:-spatial-Hierarchies-5.13\"><span class=\"toc-item-num\">5.13&nbsp;&nbsp;</span>4.13 Example Query: spatial Hierarchies</a></span><ul class=\"toc-item\"><li><span><a href=\"#4.13.1-Explanation\" data-toc-modified-id=\"4.13.1-Explanation-5.13.1\"><span class=\"toc-item-num\">5.13.1&nbsp;&nbsp;</span>4.13.1 Explanation</a></span></li></ul></li><li><span><a href=\"#4.14-Example-Query:-links-to-other-Databases\" data-toc-modified-id=\"4.14-Example-Query:-links-to-other-Databases-5.14\"><span class=\"toc-item-num\">5.14&nbsp;&nbsp;</span>4.14 Example Query: links to other Databases</a></span><ul class=\"toc-item\"><li><span><a href=\"#4.14.1-Explanation\" data-toc-modified-id=\"4.14.1-Explanation-5.14.1\"><span class=\"toc-item-num\">5.14.1&nbsp;&nbsp;</span>4.14.1 Explanation</a></span></li></ul></li><li><span><a href=\"#4.15-Example-Query:-Slices-of-DataSets\" data-toc-modified-id=\"4.15-Example-Query:-Slices-of-DataSets-5.15\"><span class=\"toc-item-num\">5.15&nbsp;&nbsp;</span>4.15 Example Query: Slices of DataSets</a></span><ul class=\"toc-item\"><li><span><a href=\"#4.15.1-Explanation\" data-toc-modified-id=\"4.15.1-Explanation-5.15.1\"><span class=\"toc-item-num\">5.15.1&nbsp;&nbsp;</span>4.15.1 Explanation</a></span></li></ul></li><li><span><a href=\"#4.16-Example-Query:-Shapes\" data-toc-modified-id=\"4.16-Example-Query:-Shapes-5.16\"><span class=\"toc-item-num\">5.16&nbsp;&nbsp;</span>4.16 Example Query: Shapes</a></span><ul class=\"toc-item\"><li><span><a href=\"#4.16.1-Explanation\" data-toc-modified-id=\"4.16.1-Explanation-5.16.1\"><span class=\"toc-item-num\">5.16.1&nbsp;&nbsp;</span>4.16.1 Explanation</a></span></li></ul></li><li><span><a href=\"#4.17-Example-Query:-Metadata-of-Observations\" data-toc-modified-id=\"4.17-Example-Query:-Metadata-of-Observations-5.17\"><span class=\"toc-item-num\">5.17&nbsp;&nbsp;</span>4.17 Example Query: Metadata of Observations</a></span><ul class=\"toc-item\"><li><span><a href=\"#4.17.1-Explanation\" data-toc-modified-id=\"4.17.1-Explanation-5.17.1\"><span class=\"toc-item-num\">5.17.1&nbsp;&nbsp;</span>4.17.1 Explanation</a></span></li></ul></li><li><span><a href=\"#4.18-Example-Query:-more-Metadata-of-Observations\" data-toc-modified-id=\"4.18-Example-Query:-more-Metadata-of-Observations-5.18\"><span class=\"toc-item-num\">5.18&nbsp;&nbsp;</span>4.18 Example Query: more Metadata of Observations</a></span><ul class=\"toc-item\"><li><span><a href=\"#4.18.1-Explanation\" data-toc-modified-id=\"4.18.1-Explanation-5.18.1\"><span class=\"toc-item-num\">5.18.1&nbsp;&nbsp;</span>4.18.1 Explanation</a></span></li></ul></li><li><span><a href=\"#4.19-Example-Query:-relations-of-a-DataSet\" data-toc-modified-id=\"4.19-Example-Query:-relations-of-a-DataSet-5.19\"><span class=\"toc-item-num\">5.19&nbsp;&nbsp;</span>4.19 Example Query: relations of a DataSet</a></span><ul class=\"toc-item\"><li><span><a href=\"#4.19.1-Explanation\" data-toc-modified-id=\"4.19.1-Explanation-5.19.1\"><span class=\"toc-item-num\">5.19.1&nbsp;&nbsp;</span>4.19.1 Explanation</a></span></li></ul></li><li><span><a href=\"#4.20-Example-Query:-relations-of-an-Observation\" data-toc-modified-id=\"4.20-Example-Query:-relations-of-an-Observation-5.20\"><span class=\"toc-item-num\">5.20&nbsp;&nbsp;</span>4.20 Example Query: relations of an Observation</a></span><ul class=\"toc-item\"><li><span><a href=\"#4.20.1-Explanation\" data-toc-modified-id=\"4.20.1-Explanation-5.20.1\"><span class=\"toc-item-num\">5.20.1&nbsp;&nbsp;</span>4.20.1 Explanation</a></span></li></ul></li><li><span><a href=\"#4.21-Example-Query:-evolution-of-the-plot-area-without-forest\" data-toc-modified-id=\"4.21-Example-Query:-evolution-of-the-plot-area-without-forest-5.21\"><span class=\"toc-item-num\">5.21&nbsp;&nbsp;</span>4.21 Example Query: evolution of the plot area without forest</a></span><ul class=\"toc-item\"><li><span><a href=\"#4.21.1-Explanation\" data-toc-modified-id=\"4.21.1-Explanation-5.21.1\"><span class=\"toc-item-num\">5.21.1&nbsp;&nbsp;</span>4.21.1 Explanation</a></span></li></ul></li><li><span><a href=\"#4.22-Example-Query:-females-of-swiss-origin-in-2016\" data-toc-modified-id=\"4.22-Example-Query:-females-of-swiss-origin-in-2016-5.22\"><span class=\"toc-item-num\">5.22&nbsp;&nbsp;</span>4.22 Example Query: females of swiss origin in 2016</a></span><ul class=\"toc-item\"><li><span><a href=\"#4.22.1-Explanation\" data-toc-modified-id=\"4.22.1-Explanation-5.22.1\"><span class=\"toc-item-num\">5.22.1&nbsp;&nbsp;</span>4.22.1 Explanation</a></span></li></ul></li><li><span><a href=\"#4.23-Example-Query:-evolution-of-the-number-of-unemployed\" data-toc-modified-id=\"4.23-Example-Query:-evolution-of-the-number-of-unemployed-5.23\"><span class=\"toc-item-num\">5.23&nbsp;&nbsp;</span>4.23 Example Query: evolution of the number of unemployed</a></span><ul class=\"toc-item\"><li><span><a href=\"#4.23.1-Explanation\" data-toc-modified-id=\"4.23.1-Explanation-5.23.1\"><span class=\"toc-item-num\">5.23.1&nbsp;&nbsp;</span>4.23.1 Explanation</a></span></li></ul></li><li><span><a href=\"#4.24-Example-Query:-conjunction-of-Kennzahlen\" data-toc-modified-id=\"4.24-Example-Query:-conjunction-of-Kennzahlen-5.24\"><span class=\"toc-item-num\">5.24&nbsp;&nbsp;</span>4.24 Example Query: conjunction of Kennzahlen</a></span><ul class=\"toc-item\"><li><span><a href=\"#4.24.1-Explanation\" data-toc-modified-id=\"4.24.1-Explanation-5.24.1\"><span class=\"toc-item-num\">5.24.1&nbsp;&nbsp;</span>4.24.1 Explanation</a></span></li></ul></li></ul></li><li><span><a href=\"#4.25-Example-Query:-differences-in-population-numbers\" data-toc-modified-id=\"4.25-Example-Query:-differences-in-population-numbers-6\"><span class=\"toc-item-num\">6&nbsp;&nbsp;</span>4.25 Example Query: differences in population numbers</a></span><ul class=\"toc-item\"><li><ul class=\"toc-item\"><li><span><a href=\"#4.25.1-Explanation\" data-toc-modified-id=\"4.25.1-Explanation-6.0.1\"><span class=\"toc-item-num\">6.0.1&nbsp;&nbsp;</span>4.25.1 Explanation</a></span></li></ul></li><li><span><a href=\"#4.26-Example-Query:-Time-and-Date\" data-toc-modified-id=\"4.26-Example-Query:-Time-and-Date-6.1\"><span class=\"toc-item-num\">6.1&nbsp;&nbsp;</span>4.26 Example Query: Time and Date</a></span></li></ul></li><li><span><a href=\"#5-SSZVIS\" data-toc-modified-id=\"5-SSZVIS-7\"><span class=\"toc-item-num\">7&nbsp;&nbsp;</span>5 SSZVIS</a></span></li><li><span><a href=\"#6-OpenSource-and-Repositories\" data-toc-modified-id=\"6-OpenSource-and-Repositories-8\"><span class=\"toc-item-num\">8&nbsp;&nbsp;</span>6 OpenSource and Repositories</a></span></li></ul></div>"
   ]
  },
  {
   "cell_type": "markdown",
   "metadata": {},
   "source": [
    "# Table of Contents\n",
    "[1 Introduction](#1-Introduction)<br>\n",
    "[2 Linked Open Data](#2-Linked-Open-Data)<br>\n",
    "&nbsp;&nbsp;&nbsp;&nbsp;&nbsp;[2.1 The Semantic Web](#2.1-The-Semantic-Web)<br>\n",
    "&nbsp;&nbsp;&nbsp;&nbsp;&nbsp;[2.2 Open Data and Linked Data](#2.2-Open-Data-and-Linked-Data)<br>\n",
    "&nbsp;&nbsp;&nbsp;&nbsp;&nbsp;[2.3 Graph Database vs. Relational Database](#2.3-Graph-Database-vs.-Relational-Database)<br>\n",
    "&nbsp;&nbsp;&nbsp;&nbsp;&nbsp;[2.4 Triple Storage and Resource Description Framework (RDF)](#2.4-Triple-Storage-and-Resource-Description-Framework-(RDF))<br>\n",
    "&nbsp;&nbsp;&nbsp;&nbsp;&nbsp;[2.5 RDF Vocabulary](#2.5-RDF-Vocabulary)<br>\n",
    "&nbsp;&nbsp;&nbsp;&nbsp;&nbsp;[2.6 RDF Serialization](#2.6-RDF-Serialization)<br>\n",
    "&nbsp;&nbsp;&nbsp;&nbsp;&nbsp;[2.7 RDF Data Cube model](#2.7-RDF-Data-Cube-model)<br>\n",
    "&nbsp;&nbsp;&nbsp;&nbsp;&nbsp;[2.8 SPARQL and how to query Linked Data](#2.8-SPARQL-and-how-to-query-Linked-Data)<br>\n",
    "&nbsp;&nbsp;&nbsp;&nbsp;&nbsp;[2.9 SPARQL vs. SQL](#2.9-SPARQL-vs.-SQL)<br>\n",
    "[3 Data Model](#Data-Model)<br>\n",
    "&nbsp;&nbsp;&nbsp;&nbsp;&nbsp;[3.1 The SDMX Standard](#3.1-The-SDMX-Standard)<br>\n",
    "&nbsp;&nbsp;&nbsp;&nbsp;&nbsp;[3.2 Concepts of the Historic Data](#3.2-Concepts-of-the-Historic-Data)<br>\n",
    "&nbsp;&nbsp;&nbsp;&nbsp;&nbsp;[3.3 Concepts of the RDF Data Cube](#3.3-Concepts-of-the-RDF-Data-Cube)<br>\n",
    "&nbsp;&nbsp;&nbsp;&nbsp;&nbsp;[3.4 Other important Concepts](#3.4-Other-important-Concepts)<br>\n",
    "[4 SPARQL-Interface](#SPARQL-Interface)<br>\n",
    "&nbsp;&nbsp;&nbsp;&nbsp;&nbsp;[4.1 SPARQL in this notebook](#4.1-SPARQL-in-this-notebook)<br>\n",
    "&nbsp;&nbsp;&nbsp;&nbsp;&nbsp;[4.2 Example Query: all DataSets](#4.2-Example-Query:-all-DataSets)<br>\n",
    "&nbsp;&nbsp;&nbsp;&nbsp;&nbsp;&nbsp;&nbsp;&nbsp;&nbsp;&nbsp;[4.2.1 Explanation](#4.2.1-Explanation)<br>\n",
    "&nbsp;&nbsp;&nbsp;&nbsp;&nbsp;[4.3 Example Query: the first 100 Triples](#4.3-Example-Query:-the-first-100-Triples)<br>\n",
    "&nbsp;&nbsp;&nbsp;&nbsp;&nbsp;&nbsp;&nbsp;&nbsp;&nbsp;&nbsp;[4.3.1 Explanation](#4.3.1-Explanation)<br>\n",
    "&nbsp;&nbsp;&nbsp;&nbsp;&nbsp;[4.4 Example Query: total number of Triples](#4.4-Example-Query:-total-number-of-Triples)<br>\n",
    "&nbsp;&nbsp;&nbsp;&nbsp;&nbsp;&nbsp;&nbsp;&nbsp;&nbsp;&nbsp;[4.4.1 Explanation](#4.4.1-Explanation)<br>\n",
    "&nbsp;&nbsp;&nbsp;&nbsp;&nbsp;[4.5 Example Query: number of Observations per DataSet](#4.5-Example-Query:-number-of-Observations-per-DataSet)<br>\n",
    "&nbsp;&nbsp;&nbsp;&nbsp;&nbsp;&nbsp;&nbsp;&nbsp;&nbsp;&nbsp;[4.5.1 Explanation](#4.5.1-Explanation)<br>\n",
    "&nbsp;&nbsp;&nbsp;&nbsp;&nbsp;[4.6 Example Query: filter with regular expressions](#4.6-Example-Query:-filter-with-regular-expressions)<br>\n",
    "&nbsp;&nbsp;&nbsp;&nbsp;&nbsp;&nbsp;&nbsp;&nbsp;&nbsp;&nbsp;[4.6.1 Explanation](#4.6.1-Explanation)<br>\n",
    "&nbsp;&nbsp;&nbsp;&nbsp;&nbsp;[4.7 Example Query: Kennzahlen and measures](#4.7-Example-Query:-Kennzahlen-and-measures)<br>\n",
    "&nbsp;&nbsp;&nbsp;&nbsp;&nbsp;&nbsp;&nbsp;&nbsp;&nbsp;&nbsp;[4.7.1 Explanation](#4.7.1-Explanation)<br>\n",
    "&nbsp;&nbsp;&nbsp;&nbsp;&nbsp;[4.8 Example Query: Groups and dimensions](#4.8-Example-Query:-Groups-and-dimensions)<br>\n",
    "&nbsp;&nbsp;&nbsp;&nbsp;&nbsp;&nbsp;&nbsp;&nbsp;&nbsp;&nbsp;[4.8.1 Explanation](#4.8.1-Explanation)<br>\n",
    "&nbsp;&nbsp;&nbsp;&nbsp;&nbsp;[4.9 Example Query: DataSets of specific dimensions](#4.9-Example-Query:-DataSets-of-specific-dimensions)<br>\n",
    "&nbsp;&nbsp;&nbsp;&nbsp;&nbsp;&nbsp;&nbsp;&nbsp;&nbsp;&nbsp;[4.9.1 Explanation](#4.9.1-Explanation)<br>\n",
    "&nbsp;&nbsp;&nbsp;&nbsp;&nbsp;[4.10 Example Query: Metadata and attributes](#4.10-Example-Query:-Metadata-and-attributes)<br>\n",
    "&nbsp;&nbsp;&nbsp;&nbsp;&nbsp;&nbsp;&nbsp;&nbsp;&nbsp;&nbsp;[4.10.1 Explanation](#4.10.1-Explanation)<br>\n",
    "&nbsp;&nbsp;&nbsp;&nbsp;&nbsp;[4.11 Example Query: Groupcodes](#4.11-Example-Query:-Groupcodes)<br>\n",
    "&nbsp;&nbsp;&nbsp;&nbsp;&nbsp;&nbsp;&nbsp;&nbsp;&nbsp;&nbsp;[4.11.1 Explanation](#4.11.1-Explanation)<br>\n",
    "&nbsp;&nbsp;&nbsp;&nbsp;&nbsp;[4.12 Example Query: Hierarchy of Groupcodes](#4.12-Example-Query:-Hierarchy-of-Groupcodes)<br>\n",
    "&nbsp;&nbsp;&nbsp;&nbsp;&nbsp;&nbsp;&nbsp;&nbsp;&nbsp;&nbsp;[4.12.1 Explanation](#4.12.1-Explanation)<br>\n",
    "&nbsp;&nbsp;&nbsp;&nbsp;&nbsp;[4.13 Example Query: spatial Hierarchies](#4.13-Example-Query:-spatial-Hierarchies)<br>\n",
    "&nbsp;&nbsp;&nbsp;&nbsp;&nbsp;&nbsp;&nbsp;&nbsp;&nbsp;&nbsp;[4.13.1 Explanation](#4.13.1-Explanation)<br>\n",
    "&nbsp;&nbsp;&nbsp;&nbsp;&nbsp;[4.14 Example Query: links to other Databases](#4.14-Example-Query:-links-to-other-Databases)<br>\n",
    "&nbsp;&nbsp;&nbsp;&nbsp;&nbsp;&nbsp;&nbsp;&nbsp;&nbsp;&nbsp;[4.14.1 Explanation](#4.14.1-Explanation)<br>\n",
    "&nbsp;&nbsp;&nbsp;&nbsp;&nbsp;[4.15 Example Query: Slices of DataSets](#4.15-Example-Query:-Slices-of-DataSets)<br>\n",
    "&nbsp;&nbsp;&nbsp;&nbsp;&nbsp;&nbsp;&nbsp;&nbsp;&nbsp;&nbsp;[4.15.1 Explanation](#4.15.1-Explanation)<br>\n",
    "&nbsp;&nbsp;&nbsp;&nbsp;&nbsp;[4.16 Example Query: Shapes](#4.16-Example-Query:-Shapes)<br>\n",
    "&nbsp;&nbsp;&nbsp;&nbsp;&nbsp;&nbsp;&nbsp;&nbsp;&nbsp;&nbsp;[4.16.1 Explanation](#4.16.1-Explanation)<br>\n",
    "&nbsp;&nbsp;&nbsp;&nbsp;&nbsp;[4.17 Example Query: Metadata of Observations](#4.17-Example-Query:-Metadata-of-Observations)<br>\n",
    "&nbsp;&nbsp;&nbsp;&nbsp;&nbsp;&nbsp;&nbsp;&nbsp;&nbsp;&nbsp;[4.17.1 Explanation](#4.17.1-Explanation)<br>\n",
    "&nbsp;&nbsp;&nbsp;&nbsp;&nbsp;[4.18 Example Query: more Metadata of Observations](#4.18-Example-Query:-more-Metadata-of-Observations)<br>\n",
    "&nbsp;&nbsp;&nbsp;&nbsp;&nbsp;&nbsp;&nbsp;&nbsp;&nbsp;&nbsp;[4.18.1 Explanation](#4.18.1-Explanation)<br>\n",
    "&nbsp;&nbsp;&nbsp;&nbsp;&nbsp;[4.19 Example Query: relations of a DataSet](#4.19-Example-Query:-relations-of-a-DataSet)<br>\n",
    "&nbsp;&nbsp;&nbsp;&nbsp;&nbsp;&nbsp;&nbsp;&nbsp;&nbsp;&nbsp;[4.19.1 Explanation](#4.19.1-Explanation)<br>\n",
    "&nbsp;&nbsp;&nbsp;&nbsp;&nbsp;[4.20 Example Query: relations of an Observations](#4.20-Example-Query:-relations-of-an-Observations)<br>\n",
    "&nbsp;&nbsp;&nbsp;&nbsp;&nbsp;&nbsp;&nbsp;&nbsp;&nbsp;&nbsp;[4.20.1 Explanation](#4.20.1-Explanation)<br>\n",
    "&nbsp;&nbsp;&nbsp;&nbsp;&nbsp;[4.21 Example Query: evolution of the plot area without forest](#Example-Query:-evolution-of-the-plot-area-without-forest)<br>\n",
    "&nbsp;&nbsp;&nbsp;&nbsp;&nbsp;&nbsp;&nbsp;&nbsp;&nbsp;&nbsp;[4.21.1 Explanation](#4.21.1-Explanation)<br>\n",
    "&nbsp;&nbsp;&nbsp;&nbsp;&nbsp;[4.22 Example Query: females of swiss origin in 2016](#4.22-Example-Query:-females-of-swiss-origin-in-2016)<br>\n",
    "&nbsp;&nbsp;&nbsp;&nbsp;&nbsp;&nbsp;&nbsp;&nbsp;&nbsp;&nbsp;[4.22.1 Explanation](#4.22.1-Explanation)<br>\n",
    "&nbsp;&nbsp;&nbsp;&nbsp;&nbsp;[4.23 Example Query: evolution of the number of unemployed over time](#4.23-Example-Query:-evolution-of-the-number-of-unemployed)<br>\n",
    "&nbsp;&nbsp;&nbsp;&nbsp;&nbsp;&nbsp;&nbsp;&nbsp;&nbsp;&nbsp;[4.23.1 Explanation](#4.23.1-Explanation)<br>\n",
    "&nbsp;&nbsp;&nbsp;&nbsp;&nbsp;[4.24 Example Query: conjunction of Kennzahlen](#4.24-Example-Query:-conjunction-of-Kennzahlen)<br>\n",
    "&nbsp;&nbsp;&nbsp;&nbsp;&nbsp;&nbsp;&nbsp;&nbsp;&nbsp;&nbsp;[4.24.1 Explanation](#4.24.1-Explanation)<br>\n",
    "&nbsp;&nbsp;&nbsp;&nbsp;&nbsp;[4.25 Example Query: Time and Data](#4.25-Example-Query:-Time-and-Data)<br>\n",
    "[5 SSZVIS](#5-SSZVIS)<br>\n",
    "[6 OpenSource and Repositories](#6-OpenSource-projects-about-STIP,-LOSD-and-SSZVIS)<br>\n",
    "\n",
    "\n",
    "<div class=\"toc\">\n",
    "  <ul>\n",
    "    <li><a href=\"#linkedopendata\">2 Linked Open Data</a></li>\n",
    "      <ul>\n",
    "        <li><a href=\"#header-2\">Header 2</a></li>\n",
    "      </ul>\n",
    "  </ul>\n",
    "</div>\n"
   ]
  },
  {
   "cell_type": "markdown",
   "metadata": {},
   "source": [
    "# 1 Introduction\n",
    "[Statistik Stadt Zürich](https://www.stadt-zuerich.ch/prd/de/index/statistik.html) (SSZ) is replacing its statistical yearbook with a web-based solution. The content can be accessed directly or programmatically:\n",
    "* through a REST-interface\n",
    "* through a SPARQL-interface\n",
    "\n",
    "The purpose of this notebook is to give an overview of the available data and describe how interested parties are able to query it with SPARQL.\n",
    "\n",
    "The [project page](https://data.stadt-zuerich.ch/dataset/stadt_zuerich_losd) is the home base and provides links to Github and all other resources."
   ]
  },
  {
   "cell_type": "markdown",
   "metadata": {},
   "source": [
    "<h1 id=\"linkedopendata\">2 Linked Open Data</h1>\n",
    "\n",
    "The data is provided in the form of Linked Open Statistical Data (LOSD), or more precisely, in the form of a RDF Data Cube (also called triplestore). The data is queried by means of the SPARQL Protocol And RDF Query Language (or SPARQL in short).\n",
    "\n",
    "* [This](http://www.linkeddatatools.com/semantic-web-basics) Linked Data crash course offers a short introduction for users new to graph databases and triplestores (in contrast to relational databases).\n",
    "* The RDF Data Cube model in particular, is introduced in section [3.3](#Concepts-of-the-RDF-Data-Cube-model).\n",
    "\n",
    "Linked data is a topic far too big to be completely covered here. Likewise, a complete SPARQL tutorial would go far beyond the scope of this document (and was already done plenty of times). However, the most important concepts shall be mentioned and linked with their specifications or other useful sources."
   ]
  },
  {
   "cell_type": "markdown",
   "metadata": {},
   "source": [
    "## 2.1 The Semantic Web\n",
    "The Web started as a collection of documents published online, accessible at Web locations identified by a URL. These documents often contain data about real world resources which are mainly human readable and cannot be understood by machines.\n",
    "<br>\n",
    "\n",
    "The so called Semantic Web is about enabling the access to this data, by making it available in machine readable formats (XML, JSON etc.) and connecting it by using Uniform Resource Identifiers (URIs), thus enabling people and machines to  collect the data, and put it together to do all kinds of things with it (so far as the license permits it).\n",
    "\n",
    "## 2.2 Open Data and Linked Data\n",
    "* The European Commission provides a nice [presentation](https://joinup.ec.europa.eu/sites/default/files/document/2015-05/d2.1.2_training_module_1.2_introduction_to_linked_data_v1.00_en.pdf) on the topic\n",
    "\n",
    "> \"Open means anyone can freely access, use, modify, and share for any purpose (subject, at most, to requirements that preserve provenance and openness).\"\n",
    "[OpenDefinition.org](https://opendefinition.org/od/2.1/en/)\n",
    "\n",
    "> \"Linked data is a set of design principles for sharing machine-readable\n",
    "data on the Web for use by public administrations, business and\n",
    "citizens.\"\n",
    "[EC ISA](https://joinup.ec.europa.eu/sites/default/files/inline-files/D4.3.2_Case_Study_Linked_Data_eGov.pdf)\n",
    "\n",
    "Tim Berners Lee proposed the following four [design principles](https://www.w3.org/DesignIssues/LinkedData.html) for Linked Data:\n",
    "1. Use Uniform Resource Identifiers (URIs) as names for things.\n",
    "2. Use HTTP URIs so that people can look up those names.\n",
    "3. When someone looks up an URI, provide useful information, using the standards (RDF, SPARQL etc.).\n",
    "4. Include links to other URIs so that they can discover more things.\n",
    "\n",
    "The quality of Linked Open Data can be assessed with the help of the [5-star scheme](https://www.w3.org/DesignIssues/LinkedData.html), also proposed by Tim Berners Lee:\n",
    "1. Make your stuff available on the Web (whatever format) under an open license.\n",
    "2. Make it available as structured data (e.g., Excel instead of image scan of a table)\n",
    "3. Use non-proprietary formats (e.g., CSV instead of Excel)\n",
    "4. Use URIs to denote things, so that people can point at your stuff\n",
    "5. Link your data to other data to provide context\n",
    "\n",
    "<img src=\"https://5stardata.info/images/5-star-steps.png\" width=\"600px\" align=\"left\">"
   ]
  },
  {
   "cell_type": "markdown",
   "metadata": {},
   "source": [
    "> The Open Data projects of SSZ reached a solid three stars until now... <br> Linked Open Statistics Data (LOSD) will reach the top and earn its five stars!\n",
    "\n",
    "An example of the 5-star qualities is the link between LOSD and Wikipedia:\n",
    "\n",
    "<img src=\"images/dataflow_wikidata.png\" width=\"350\" align=\"left\">"
   ]
  },
  {
   "cell_type": "markdown",
   "metadata": {},
   "source": [
    "Certain LOSData has a property &lt;sameAs&gt; - with a Wikidata entity as Resource URI - that  establishes a link to the Wikidata store (more on &lt;sameAs&gt; shortly).\n",
    "\n",
    "## 2.3 Graph Database vs. Relational Database\n",
    "* See [this section](http://www.linkeddatatools.com/introducing-rdf) of the Linked Data crash course\n",
    "* or [this RDF/OWL lecture](https://www.scss.tcd.ie/Owen.Conlan/CS7063/06%20Introduction%20to%20OWL%20%281%20Lecture%29.ppt.pdf) for a more detailed introduction to the subject\n",
    "* [This site](https://lod-cloud.net/) provides an interactive graph of worldwide LOData with a plethora of datasets and SPARQL endpoints\n",
    "\n",
    "Data contained in the Semantic Web is stored in directed labelled graphs to  show not only the data itself, but also properties of the data and its relation to other relevant data. The following figure (click \"view image\" for higher resolution) shows a graph constructed from a single statistical measurement (a so called Observation) of our LOSData:\n",
    "<br>\n",
    "\n",
    "<img src=\"images/observation_graph.png\" width=\"6964px\" align=\"left\">"
   ]
  },
  {
   "cell_type": "markdown",
   "metadata": {},
   "source": [
    "For our purposes a graph has nodes - with either a resource URI or a literal value - and directed relationships. A resource URI represents a link or \"address\" to another node whereas a literal value is just a String value, for example. Even the relations are defined through URIs! If you are familiar with the concept of Namespaces, you will certainly understand why this is so important. [Section 2.5](#2.5-RDF-vocabulary) about Vocabularies and Ontologies will make it even clearer.\n",
    "\n",
    "\n",
    "In a graph there is no concept of roots or hierarchies. A graph consists of resources related to other resources, with no single resource having any particular intrinsic importance over another. So how do we express such a construct in de facto hierarchical form, let's say XML? Before we get to the answer (the Resource Description Framework or RDF), let's examine an enlarged section of the example above:\n",
    "\n",
    "<img src=\"images/subgraph.png\" width=\"500px\" align=\"left\">"
   ]
  },
  {
   "cell_type": "markdown",
   "metadata": {},
   "source": [
    "This subgraph is fairly intuitive and can be summarized by the following statements:\n",
    "<br>\n",
    "* ```dataset \"AST-RAUM-ZEIT-BTA\" has the label \"Arbeitsstätten nach Betriebsart, Raum, Zeit\" (translates to \"number of Businesses depending on the Business sector, Area, Date)```\n",
    "<br>\n",
    "\n",
    "* ```dataset \"AST-RAUM-ZEIT-BTA\" is of type \"DataSet\"```\n",
    "<br>\n",
    "\n",
    "* ```data of the dataset \"AST-RAUM-ZEIT-BTA\" is measured in units of \"arbeitsstaette\" (translates to \"Business\"; literally \"working place\")```\n",
    "\n",
    "These statements reveal the essence of graph description and RDF:\n",
    "\n",
    "1. Graphs are expressed in a set of triple statements\n",
    "2. Every statement has a **subject**, **predicate** and **object**\n",
    "3. subjects and objects represent nodes whereas the predicates represent relationships\n",
    "\n",
    "Hence the name \"triplestore\" for graph/RDF databases.\n",
    "\n",
    "## 2.4 Triple Storage and Resource Description Framework (RDF)\n",
    "* [RDF Specification](http://www.w3.org/TR/2014/REC-rdf11-concepts-20140225/Overview.html)\n",
    "* See the aforementioned [RDF/OWL lecture](https://www.scss.tcd.ie/Owen.Conlan/CS7063/06%20Introduction%20to%20OWL%20%281%20Lecture%29.ppt.pdf) for one of the best introductions to the subject\n",
    "* URIs for the designation, RDF for the description and SPARQL for the querying of data\n",
    "\n",
    "> A Uniform Resource Identifier (URI) is a compact sequence of characters that\n",
    "identifies an abstract or physical resource! Recall Namespaces..\n",
    "\n",
    "> RDF is graphical formalism for expressing data models about \"something\" (resources) using statements expressed as triples\n",
    "\n",
    "You can already see plenty of URIs in the graph example above.. URI references may be either absolute or relative. URIs often have fragmentIDs and are of the form &lt;<http://www.somedomain.com/some/path/to/file#fragmentID>&gt;. A corresponding relative URI is for example sd:fragmentID (more on that later).\n",
    "\n",
    "\n",
    "\n",
    "RDF breaks every piece of information down in triples:\n",
    "* **Subject**: a resource, which may be identified with an URI\n",
    "* **Predicate**: an URI-identified reused specification of the relationship\n",
    "* **Object**: a resource or literal to which the subject is related\n",
    "<br>\n",
    "\n",
    "An RDF model is an unordered collection of statements, each with a subject, predicate and object! The following code extracts RDF triples from the LOSD graph. Don't mind the code itself, we are only interested in the ouput in form of unordered RDF triples (in N-Triples syntax) for now:"
   ]
  },
  {
   "cell_type": "code",
   "execution_count": 2,
   "metadata": {
    "scrolled": true
   },
   "outputs": [
    {
     "data": {
      "text/html": [
       "<div class=\"krn-spql\"><div class=\"magic\">Endpoint set to: https://lindas-data.ch:8443/lindas/query</div><div class=\"magic\">HTTP authentication: ['basic', 'public', 'public']</div><div class=\"magic\">Return format: ANY</div><div class=\"magic\">Display: raw</div></div>"
      ],
      "text/plain": [
       "Endpoint set to: https://lindas-data.ch:8443/lindas/query\n",
       "HTTP authentication: ['basic', 'public', 'public']\n",
       "Return format: ANY\n",
       "Display: raw\n"
      ]
     },
     "metadata": {},
     "output_type": "display_data"
    },
    {
     "data": {
      "text/plain": [
       "<https://ld.stadt-zuerich.ch/statistics/observation/AST/R30000/Z30061966/BTA7100> <http://purl.org/linked-data/cube#dataSet> <https://ld.stadt-zuerich.ch/statistics/dataset/AST-RAUM-ZEIT-BTA> .\n",
       "<https://ld.stadt-zuerich.ch/statistics/observation/AST/R30000/Z30061966/BTA7100> <https://ld.stadt-zuerich.ch/statistics/property/RAUM> <https://ld.stadt-zuerich.ch/statistics/code/R30000> .\n",
       "<https://ld.stadt-zuerich.ch/statistics/observation/AST/R30000/Z30061966/BTA7100> <https://ld.stadt-zuerich.ch/statistics/attribute/QUELLE> <https://ld.stadt-zuerich.ch/statistics/quelle/SSD002> .\n",
       "<https://ld.stadt-zuerich.ch/statistics/observation/AST/R30000/Z30061966/BTA7100> <https://ld.stadt-zuerich.ch/statistics/attribute/KORREKTUR> \"false\"^^<http://www.w3.org/2001/XMLSchema#boolean> .\n",
       "<https://ld.stadt-zuerich.ch/statistics/observation/AST/R30000/Z30061966/BTA7100> <http://www.w3.org/2004/02/skos/core#notation> \"Z30061966R30000ASTBTA7100XXX0000XXX0000XXX0000XXX0000\"^^<http://www.w3.org/2001/XMLSchema#string> .\n",
       "<https://ld.stadt-zuerich.ch/statistics/observation/AST/R30000/Z30061966/BTA7100> <https://ld.stadt-zuerich.ch/statistics/attribute/DATENSTAND> \"2018-08-08\"^^<http://www.w3.org/2001/XMLSchema#date> .\n",
       "<https://ld.stadt-zuerich.ch/statistics/observation/AST/R30000/Z30061966/BTA7100> <https://ld.stadt-zuerich.ch/statistics/attribute/GLOSSAR> <https://ld.stadt-zuerich.ch/statistics/glossary/GBTA7100> .\n",
       "<https://ld.stadt-zuerich.ch/statistics/observation/AST/R30000/Z30061966/BTA7100> <http://www.w3.org/1999/02/22-rdf-syntax-ns#type> <http://purl.org/linked-data/cube#Observation> .\n",
       "<https://ld.stadt-zuerich.ch/statistics/observation/AST/R30000/Z30061966/BTA7100> <https://ld.stadt-zuerich.ch/statistics/attribute/ERWARTETE_AKTUALISIERUNG> \"2019-08-22\"^^<http://www.w3.org/2001/XMLSchema#date> .\n",
       "<https://ld.stadt-zuerich.ch/statistics/observation/AST/R30000/Z30061966/BTA7100> <https://ld.stadt-zuerich.ch/statistics/property/ZEIT> \"1966-06-30\"^^<http://www.w3.org/2001/XMLSchema#date> .\n",
       "\n"
      ]
     },
     "metadata": {},
     "output_type": "display_data"
    }
   ],
   "source": [
    ">SPARQL\n",
    "%endpoint https://lindas-data.ch:8443/lindas/query\n",
    "%auth basic public public\n",
    "%format any\n",
    "%display raw\n",
    "\n",
    "PREFIX : <arbitrary:relation>\n",
    "\n",
    "CONSTRUCT{?sub ?pred ?obj}\n",
    "FROM <https://linked.opendata.swiss/graph/zh/statistics>\n",
    "WHERE{<https://ld.stadt-zuerich.ch/statistics/dataset/AST-RAUM-ZEIT-BTA> ((:|!:)|^(:|!:))? ?sub. ?sub ?pred ?obj}\n",
    "LIMIT 10"
   ]
  },
  {
   "cell_type": "markdown",
   "metadata": {},
   "source": [
    "Example triples:\n",
    "\n",
    "```<https://ld.stadt-zuerich.ch/statistics/attribute/ERWARTETE_AKTUALISIERUNG> <http://www.w3.org/1999/02/22-rdf-syntax-ns#type> <http://purl.org/linked-data/cube#AttributeProperty> .```\n",
    "\n",
    "* Meaning: the resource **ERWARTETE_AKTUALISIERUNG** is a type of **AttributeProperty** (a resource from another namespace)\n",
    "\n",
    "```<https://ld.stadt-zuerich.ch/schema/TopicEntity> <http://www.w3.org/2000/01/rdf-schema#label> \"A topic entity\"@en .```\n",
    "\n",
    "* Meaning: the resource **TopicEntity** has the label **\"A topic entity\"** (a literal value with a language tag)\n",
    "\n",
    "## 2.5 RDF vocabulary\n",
    "* RDFS (RDF Scheme), OWL (Web Ontology Language) - and many more - extend the base vocabulary of RDF\n",
    "* See [this introduction]() to semantic modelling and why we need vocabularies\n",
    "\n",
    "> **Vocabulary**: A collection of terms given a well-defined meaning that is consistent across contexts.\n",
    "\n",
    "> **Ontology**: Allows you to define contextual relationships behind a defined vocabulary. It is the cornerstone of defining a knowledge domain. A formal syntax for defining ontologies is OWL (Web Ontology Language) which is an extension to RDFS (RDF Schema).\n",
    "\n",
    "Example: Do LOSD resources like \"Heimatland\" or \"Raum\" have a representation, for instance, in Wikidata? Is \"Motherland\" the Wikidata representation of \"Heimatland\"? How do we ensure that LOSD can properly \"communicate\" with Wikidata, or Wikidata is able to query the proper data on our side?\n",
    "\n",
    "> Properly linking data is about adopting the same base ontology or a common vocabulary!\n",
    "\n",
    "This notebook as well as the LOSData uses primarily the following vocabularies:\n",
    "\n",
    "| Vocabulary | Namespace |\n",
    "| :--------- | :-------- |\n",
    "| [xsd](https://www.w3.org/XML/Schema) | &lt;<http://www.w3.org/2001/XMLSchema#>&gt; |\n",
    "| [rdf](https://www.w3.org/TR/rdf11-concepts/) | &lt;<http://www.w3.org/1999/02/22-rdf-syntax-ns#>&gt; |\n",
    "| [rdfs](https://www.w3.org/TR/rdf-schema/) | &lt;<http://www.w3.org/2000/01/rdf-schema#>&gt; |\n",
    "| [owl](https://www.w3.org/TR/owl2-overview/) | &lt;<http://www.w3.org/2002/07/owl#>&gt; |\n",
    "| [skos](https://www.w3.org/TR/swbp-skos-core-guide/) | &lt;<http://www.w3.org/2004/02/skos/core#>&gt; |\n",
    "| [foaf](http://xmlns.com/foaf/spec/) | &lt;<http://xmlns.com/foaf/0.1/>&gt; |\n",
    "| [qb](https://www.w3.org/TR/vocab-data-cube/) | &lt;<http://purl.org/linked-data/cube#>&gt; |\n",
    "| [dcterms](http://dublincore.org/documents/dc-rdf/) | &lt;<http://purl.org/dc/terms/>&gt; |\n",
    "| [qudt](http://www.qudt.org/release2/qudt-catalog.html) | &lt;<http://qudt.org/schema/qudt#unit>&gt; |\n",
    "\n",
    "The vocabulary names are linked with the respective documentations.\n",
    "<br>\n",
    "<br>\n",
    "\n",
    "See section [4.25](#4.25-Example-Query:-differences-in-population-numbers) for a nice example query that incorporates Wikidata!\n",
    "\n",
    "## 2.6 RDF Serialization\n",
    "> RDF graphs can be expressed in a variety of formats other than RDF/XML!\n",
    "\n",
    "* [RDF/XML](https://www.w3.org/TR/rdf-syntax-grammar/): the original (W3C Recommendation) and most frequently used serialization format\n",
    "* [JSON](https://www.w3.org/TR/json-ld/) is a common format for data serialization and messaging\n",
    "* [TURTLE](https://www.w3.org/TR/turtle/) is especially useful because it conforms with the SPARQL syntax\n",
    "* [N-Triples](https://www.w3.org/TR/n-triples/): simple notation, easy-to-parse, line-based format that is not as compact as Turtle\n",
    "\n",
    "to name the most common ones..\n",
    "\n",
    "## 2.7 RDF Data Cube model\n",
    "* See section [3.3](#Concepts-of-the-RDF-Data-Cube) of this notebook and the [Specification](https://www.w3.org/TR/vocab-data-cube/)\n",
    "\n",
    "## 2.8 SPARQL and how to query Linked Data  \n",
    "* See the [Specification](https://www.w3.org/TR/sparql11-query/),\n",
    "* the [cheat-sheet](http://www.iro.umontreal.ca/~lapalme/ift6281/sparql-1_1-cheat-sheet.pdf) for a summary of the syntax\n",
    "* explore the [wikibook](https://en.wikibooks.org/wiki/SPARQL) for more examples\n",
    "* and most importantly, watch [Zazuko's video](https://www.youtube.com/watch?v=IUyzwwwIJSk&feature=youtu.be) on querying our RDF DataCube with SPARQL and the [Zazuko interface](https://ld.stadt-zuerich.ch/sparql/)\n",
    "\n",
    "> Learning by doing is our motto! \n",
    "\n",
    "Explore a variety of examples in the [SPARQL section](#SPARQL-Interface).\n",
    "\n",
    "## 2.9 SPARQL vs. SQL\n",
    "* Interested paties are invited to explore [this](https://www.cambridgesemantics.com/blog/semantic-university/learn-sparql/sparql-vs-sql/) nice comparison"
   ]
  },
  {
   "cell_type": "markdown",
   "metadata": {},
   "source": [
    "# 3 Data Model\n",
    "\n",
    "## 3.1 The SDMX Standard\n",
    "The data provided SSZ conforms with the Statistical Data and Metadata (SDMX) standard. See [this](https://www.youtube.com/watch?v=fWFdG2VDVIk) video for a nice introduction of SDMX. The part starting at 5:42 is especially descriptive because it illustrates SDMX with the aid of a statistical table. Illustrations of the statistical tables in the yearbooks of SSZ shall be presented in the next section.\n",
    "\n",
    "The standard describes and universalizes the way to exchange statistical data, and provides standard formats for data and metadata, content guidelines as well as IT architecture for exchange of data and metadata. The specification with the definition of these terms is provided [here](https://sdmx.org/?page_id=5008). The following figure shows a high level schematic of the major artefacts in the SDMX Information Model. However, terms like Concept Scheme or Code List, which are of particular use to us, are explained in later sections in the context of our data model. \n",
    "\n",
    "<img src=\"images/sdmx.png\" width=\"550px\" align=\"left\">"
   ]
  },
  {
   "cell_type": "markdown",
   "metadata": {},
   "source": [
    "## 3.2 Concepts of the Historic Data\n",
    "**Observation**:<br>\n",
    "As the basis of the historic data, observations are the individual measurements of the statistics with a code structure of the form:\n",
    "```\n",
    "ZddmmyyyyRrrrrrKENGR10000GR20000GR30000GR40000GR50000\n",
    "```\n",
    "where the format(length) is equal to Char(53).\n",
    "\n",
    "**Kennzahl** or **Measure**:<br>\n",
    "The Kennzahl represents the dimension that is measured by an observation in dependance of other dimensions. If we look at an observation as a function, then the Kennzahl serves as its output (all other dimensions as input). Examples of Kennzahlen are: \n",
    "* \"BEW\" for population\n",
    "* \"STF\" for plot area (in *m<sup>2</sup>*)\n",
    "* \"ZUZ\" for in-migration \n",
    "* \"WSS\" for water pollutant (in *mg/l*) \n",
    "* etc. \n",
    "\n",
    "The format(length) is Char(3). \"KEN\" serves as the placeholder in the observation code. For an observation reading \"residential population in dependance of homeland, sex and urban district in the year 2016\", the Kennzahl would correspond to \"BEW\" for residential population:\n",
    "```\n",
    "Z31122016R00012BEWHEL1000SEX0001XXX0000XXX0000XXX0000, with a value of BEW = 206 persons\n",
    "Z31122016R00011BEWHEL2000SEX0002XXX0000XXX0000XXX0000, with a value of BEW = 414 persons\n",
    "```\n",
    "are two examples with their respective measurements.\n",
    "\n",
    "**Group** or **Dimension**:<br> \n",
    "Groups are equivalent to dimensions and describe how a Kennzahl is divided into subsets. In other words, groups correspond to the input parameters in the function analogy. They also determine the hierarchy of an observation or measurement. Group examples are: \n",
    "* \"BEW\" for residence permit (not to be confused with the Kennzahl!)\n",
    "* \"HEL\" for homeland\n",
    "* \"SEX\" for sex \n",
    "* \"ALT\" for age\n",
    "* \"TIG\" for animal species \n",
    "* etc. \n",
    "\n",
    "The format(length) is also Char(3) and \"GR1\",...,\"GR5\" serve as the placeholders in the observation code. An observation may comprise a maximum of 5 groups where missing groups are denoted with \"XXX\" (see the examples above). It is important to note that, despite being dimensions as well, \"Zeit\" and \"Raum\" are regarded separately. Both are fixed parts of each and every observation with their own format(length). \n",
    "\n",
    "**Zeit**:<br> \n",
    "Represents date and time. Zeit is a special type of dimension with identifier \"Z\" and groupcode of format(length) Char(9). Missing or unknown groupvalues are denoted with \"X\". Examples are \"ZXXXX2016\" for the year 2016 or \"Z24121950\" for the 24th Dec. in 1950.\n",
    "\n",
    "**Raum**:<br> \n",
    "Represents space or area. Raum is a special type of dimension with identifier \"R\" and groupcode of format(length) Char(6). Examples are \"R30000\" for Zurich or \"R00011\" for the urban district \"Rathaus\" in Zurich.\n",
    "\n",
    "**Groupcodes**:<br> \n",
    "A groupcode is a group identifier paired with its respective value or measurement. A groupvalue has format(length) Char(4) which adds up to a total of Char(7) for the groupcode. In the observation code \"0000\" corresponds to missing or unknown groupvalues. \n",
    "\n",
    "**Metadata**:<br>\n",
    "Having located an observation, we need certain metadata in order to be able to interpret it. What is the unit of measurement, when was it measured or where was it acquired? Other Metadata includes footnotes, glossary entries or even a date when the data will be updated. Metadata is provided as attributes and can be attached to individual observations or to higher levels. We distinguish two types of Metadata:\n",
    "\n",
    "Literal values bound to a specific measurement (or higher level):\n",
    "* **DATENSTAND**: a xsd:date value (\"YYYY-MM-DD\") that states the last date the data was updated or the last time the data was acquired, respectively\n",
    "* **BEZUGSZEIT**: a string value that states in what intervals the data is acquired, e.g. \"Tag;Monat\", \"Periode;Jahr\", \"Tag;Tag;Monat;Quartal;Trimester;Semester;Jahr\" etc.\n",
    "* **license**: a string value that states under what license the data is published, e.g. \"CC0\" or \"CCBY\" ([Creative Commons 0](https://creativecommons.org/publicdomain/zero/1.0/deed.de) and [Creative Commons BY](https://creativecommons.org/licenses/by/3.0/ch/))\n",
    "* **KORREKTUR**: a xsd:boolean value that states if the data was updated or not \n",
    "* **ERWARTETE_AKTUALISIERUNG**: a xsd:date value (\"YYYY-MM-DD\") that states the next date the data is updated or the next time the data is acquired, respectively\n",
    "\n",
    "URI resources that are possibly referenced by multiple measurements (or higher level):\n",
    "* **Unit**: the unit of measurement, e.g. years, square meters, persons etc. Each unit is a resource with type, label, notation and rounding\n",
    "* **QUELLE**: the source of the data with a creator, rights, license, label and notation\n",
    "* **FUSSNOTE**: a footnote with a type, label and scheme\n",
    "* **GLOSSAR**: a string value that further describes a resource, concept, Groupcode etc. A glossary resource has a description, comment, label and notation\n",
    "<br>\n",
    "<br>\n",
    "\n",
    "The following figures show excerpts of the statistical yearbooks from the year 1941 and 2016 (taken from the [Statistik Stadt Zurich page](https://www.stadt-zuerich.ch/content/prd/de/index/statistik/publikationen-angebote/publikationen/ssz-magazin/2018-07-17_Das-Ende-der-Jahrbuch-Aera.html)). Such data is first of all mapped to the aforementioned observations, then equipped with metadata (version, source, glossary etc.) and subsequently collected in DataSets of the RDF Data Cube model. \n",
    "\n",
    "<img src=\"images/yearbook1941.png\" width=\"480px\" align=\"left\">\n",
    "<img src=\"images/yearbook2016.png\" width=\"530px\" align=\"left\">"
   ]
  },
  {
   "cell_type": "markdown",
   "metadata": {},
   "source": [
    "## 3.3 Concepts of the RDF Data Cube\n",
    "The Data Cube model further specifies the SDMX definitions and forms an actual data model which is described in terms of the Resource Description Framework. The basis of every Data Cube is its ensemble of observations. They represent the actual statistical measurements and every other concept serves to relate and structure these measurements in a meaningful way. The primary concepts shall be briefly explained here and in the following section:\n",
    "\n",
    "**qb:DataSet**:<br>\n",
    "A statistical data set comprises a collection of observations made at some points across some logical space. The collection can be characterized by a set of dimensions that define what the observation applies to (e.g. time, area, gender) along with metadata describing what has been measured (e.g. economic activity, population), how it was measured and how the observations are expressed (e.g. units, multipliers, status). We can think of the statistical data set as a multi-dimensional space, or hyper-cube, indexed by those dimensions.   \n",
    "* Observations of the historic data are collected in DataSets according to the following rule:\n",
    "```\n",
    "ZddmmyyyyRrrrrrKENGR10000GR20000GR30000GR40000GR50000 \n",
    "corresponds to the DataSet \n",
    "KEN-RAUM-ZEIT-GR1-GR2-GR3-GR4-GR5\n",
    "```\n",
    "where missing groups/dimensions (\"XXX\") are omitted in qb:DataSet notation.\n",
    "<br>\n",
    "\n",
    "* DataSets are accessed through the node https://ld.stadt-zuerich.ch/statistics/dataset/&lt;dataset>\n",
    "\n",
    "**qb:Observation**:<br>\n",
    "This is the actual data, the measured values. In a statistical table (as in the statistical yearbooks), the observations would be the values in the table cells.\n",
    "* Observations of the historic data are mapped according to the following rule:\n",
    "```\n",
    "ZddmmyyyyRrrrrrKENGR10000GR20000GR30000GR40000GR50000 \n",
    "corresponds to the observation \n",
    "KEN/Rrrrrr/Zddmmyyyy/GR10000/GR20000/GR30000/GR40000/GR50000 \n",
    "in DataCube notation\n",
    "```\n",
    "where missing groups/dimensions (\"XXX\") are omitted in qb:Observation notation.\n",
    "<br>\n",
    " \n",
    "* Observations are accessed through the node https://ld.stadt-zuerich.ch/statistics/observation/&lt;observation>\n",
    "\n",
    "**qb:MeasureProperty**:<br>\n",
    "The measure components represent the observed phenomena.\n",
    "* Kennzahlen or measures of the historic data are mapped to MeasureProperty.\n",
    "* Measures are accessed through the node https://ld.stadt-zuerich.ch/statistics/measure/&lt;measure>\n",
    "\n",
    "**qb:DimensionProperty**:<br>\n",
    "The dimension components serve to identify the observations. A set of values for all the dimension components is sufficient to identify a single observation. Examples of dimensions include the time to which the observation applies, or a geographic region which the observation covers etc. \n",
    "* Dimensions of the historic data are mapped to DimensionProperty.\n",
    "* Dimensions are accessed through the node https://ld.stadt-zuerich.ch/statistics/property/&lt;dimension>\n",
    "\n",
    "**qb:AttributeProperty**:<br>\n",
    "The attribute components allow us to qualify and interpret the observed value(s). They enable specification of the units of measure, any scaling factors and metadata such as the status of the observation (e.g. estimated, provisional).\n",
    "* Only meta and system attributes of the historic data are mapped to AttributeProperty! \n",
    "* Attributes are accessed through the node https://ld.stadt-zuerich.ch/statistics/attribute/&lt;attribute>\n",
    "* Units of the MeasureProperties, for instance, are mapped to an independent concept (see next section)\n",
    "\n",
    "**qb:Slice**:<br>\n",
    "A subset of observations within a DataSet. Produced by fixing one or more dimensions and refer to all observations with those dimension values as a single entity, a slice. In statistical applications it is common to work with slices in which a single dimension is left unspecified. In particular, to refer to such slices, in which the single free dimension is time, as \"Time Series\". Within the Data Cube vocabulary however, arbitrary dimensionality slices are allowed and particular types of slice are not denoted differently.\n",
    "* Slices of a specific &lt;DataSet&gt; and &lt;SliceKey&gt; are accessed through the nodes https://ld.stadt-zuerich.ch/statistics/dataset/&lt;DataSet&gt;/&lt;SliceKey&gt;/slice\n",
    "<br>\n",
    "<br>\n",
    "\n",
    "A diagram of the RDF Data Cube model is provided in the following figure. In addition to the official [Data Cube Documentation](https://www.w3.org/TR/vocab-data-cube/) a very informative presentation can be downloaded [here](https://www.google.com/url?sa=t&rct=j&q=&esrc=s&source=web&cd=11&ved=0ahUKEwjN68WrvprcAhVC8RQKHd50D2M4ChAWCDMwAA&url=https%3A%2F%2Fweb.imsi.athenarc.gr%2Fredmine%2Fattachments%2Fdownload%2F1018%2FData%2520Cube%2520Vocabulary%2520Overview%2520and%2520Example.pdf&usg=AOvVaw3ujILUzk2T1dLd9ebo2hYW).\n",
    "\n",
    "<img src=\"https://www.w3.org/TR/vocab-data-cube/images/qb-fig1.png\" width=\"700px\" align=\"left\">"
   ]
  },
  {
   "cell_type": "markdown",
   "metadata": {},
   "source": [
    "## 3.4 Other important concepts\n",
    "\n",
    "**Shapes**:<br>\n",
    "Shape expressions (written in RDF) are used to declare various  constraints for the components of a RDF graph (or Data Cube). Informally, a shape is a set of conditions that determine how to validate a node (of a graph), based on the values of properties and other characteristics of the node, with the Shapes Constraint Language (SHACL). Shapes and SHACL represent a validation mechanism. Examples of such constraints are:\n",
    "* Observations must be linked to a Raum and Zeit\n",
    "* Observations must be linked to a measure\n",
    "* Observations measure a double value\n",
    "* Observations comprise 5 groups at most\n",
    "* DataSets contain several slices and slices contain several observations\n",
    "* and many more..\n",
    "\n",
    "More information on shapes can be found in the official [SHACL Documentation](https://www.w3.org/TR/shacl/).\n",
    "\n",
    "* Shapes of a specific &lt;DataSet&gt; are accessed through the nodes https://ld.stadt-zuerich.ch/statistics/dataset/&lt;DataSet&gt;/shape\n",
    "\n",
    "**sdmx:unitMeasure** and **qudt:unit**:<br>\n",
    "The units of measurement of observations are mapped to these two concepts and accessed through the node https://ld.stadt-zuerich.ch/statistics/unit/. qudt:unit acts as the type and sdmx:unitMeasure as the relation of triples:<br>\n",
    "* ```?sub sdmx:unitMeasure ?unit```<br>\n",
    "* ```?unit a qudt:unit```\n",
    "\n",
    "**skos:Concept**:<br>\n",
    "Groupcodes of the historic data are mapped to skos:Concept and accessed through the node https://ld.stadt-zuerich.ch/statistics/code/. A skos:Concept can be viewed as an idea or notion. It is useful when describing the conceptual or intellectual structure of a knowledge organization system, and when referring to specific ideas or meanings established within a KOS. An Example:\n",
    "* &lt;<https://ld.stadt-zuerich.ch/statistics/code/R00012>&gt; is a skos:Concept representing institutions of higher education (label \"Hochschulen\") or, more precisely, the occupied area \n",
    "* &lt;<https://ld.stadt-zuerich.ch/statistics/code/ABT6000>&gt; is a skos:Concept representing all apprentices (label \"Lehrlinge\")\n",
    "\n",
    "**skos:Notation**: Is a string of characters, such as \"R00012\" or \"ABT6000\", used to uniquely identify a skos:Concept within the scope of a given concept scheme. A notation is different from a lexical label in that a notation is not normally recognizable as a word or sequence of words in any natural language. An Example:\n",
    "* &lt;<https://ld.stadt-zuerich.ch/statistics/code/R00012>&gt; is a concept with skos:Notation \"R00012\"\n",
    "\n",
    "**skos:inScheme**:<br>\n",
    "Tells us to which scheme a concept belongs. A skos:ConceptScheme can be viewed as an aggregation of one or more skos:Concepts. Semantic relationships (links) between those concepts may also be viewed as part of a concept scheme. The notion of a concept scheme is useful when dealing with data that describes two or more different knowledge organization systems. An Example:\n",
    "* the concept &lt;<https://ld.stadt-zuerich.ch/statistics/code/R00012>&gt; is in skos:inScheme &lt;<https://ld.stadt-zuerich.ch/statistics/scheme/Raum>&gt;\n",
    "* note that \"Raum\" is not only used as a dimension but also as a concept!\n",
    "\n",
    "**skos:broader** and **skos:narrower**:<br>\n",
    "Are used to assert a direct hierarchical link between two skos:Concepts:\n",
    "* A triple &lt;A&gt; skos:broader &lt;B&gt; asserts that &lt;B&gt;, the object of the triple, is a broader concept than &lt;A&gt;, the subject of the triple. \n",
    "* Similarly, a triple &lt;C&gt; skos:narrower &lt;D&gt; asserts that &lt;D&gt;, the object of the triple, is a narrower concept than &lt;C&gt;, the subject of the triple. \n",
    "* &lt;<https://ld.stadt-zuerich.ch/statistics/code/R00012>&gt; for instance has skos:broader <R30000>\n",
    "\n",
    "**owl:sameAs**:<br>\n",
    "The sameAs statement indicates that two URI resources actually refer to the same thing or represent the same concept. owl:sameAs statements are often used for mappings between ontologies. It is unrealistic to assume everyone will use the same name to refer to some resource or concept. Two concepts generally have different features and relations to other resources, despite being linked by sameAs! In this way, making a union between such ontologies or databases provides more complete data. The graph example in section [2.1.3](#Graph-Database-vs.-Relational-Database) had the following statement regarding the city district Alt-Wiedikon:\n",
    "* &lt;<https://ld.stadt-zuerich.ch/statistics/code/R00031>&gt; owl:sameAs &lt;<http://www.wikidata.org/entity/Q433012>&gt;\n",
    "\n",
    "This means, Wikidata's database entry - with its own location-/population information, images and references - is linked with  LOSD. As a result, Wikidata is able to use R00031 as a gateway to query and effectively incorporate the LOSData into its own database (and vice versa of course).\n",
    "\n",
    "The challenge with owl:sameAs is that when there are many mappings of nodes between graphs, and especially when big chains of sameAs appear, it becomes inefficient. owl:sameAs is defined as symmetric and transitive, so given that &lt;A&gt; sameAs &lt;B&gt; sameAs &lt;C&gt;, also the statements &lt;A&gt; sameAs &lt;A&gt;, &lt;A&gt; sameAs &lt;C&gt;, &lt;B&gt; sameAs &lt;A&gt; etc. will be produced."
   ]
  },
  {
   "cell_type": "markdown",
   "metadata": {},
   "source": [
    "# 4 SPARQL-Interface\n",
    "* The SPARQL interface is accessed through https://ld.stadt-zuerich.ch/sparql/\n",
    "* The actual queries are done via https://ld.stadt-zuerich.ch/query which is the SPARQL endpoint as well\n",
    "* The complete graph can be found at the opendata.swiss node <https://linked.opendata.swiss/graph/zh/statistics>\n",
    "* The integration environment is accessed through https://ld.integ.stadt-zuerich.ch/sparql/, but it is to be noted that the URIs tend to point back to the production environment. While testing, the \".integ\" has to be inserted by hand or programmatically\n",
    "\n",
    "> **Don't forget to watch our [developer guide](https://www.youtube.com/watch?v=IUyzwwwIJSk&feature=youtu.be) on how to query our data with SPARQL!**"
   ]
  },
  {
   "cell_type": "markdown",
   "metadata": {},
   "source": [
    "## 4.1 SPARQL in this notebook\n",
    "Before we get down to business, we have to prepare a few things for the queries to reach outside of this notebook:"
   ]
  },
  {
   "cell_type": "code",
   "execution_count": 2,
   "metadata": {},
   "outputs": [
    {
     "data": {
      "text/html": [
       "<div class=\"krn-spql\"><div class=\"magic\">Endpoint set to: https://lindas-data.ch:8443/lindas/query</div><div class=\"magic\">HTTP authentication: ['basic', 'public', 'public']</div><div class=\"magic\">Return format: JSON</div><div class=\"magic\">Display: table</div></div>"
      ],
      "text/plain": [
       "Endpoint set to: https://lindas-data.ch:8443/lindas/query\n",
       "HTTP authentication: ['basic', 'public', 'public']\n",
       "Return format: JSON\n",
       "Display: table\n"
      ]
     },
     "metadata": {},
     "output_type": "display_data"
    }
   ],
   "source": [
    ">SPARQL\n",
    "%endpoint https://lindas-data.ch:8443/lindas/query\n",
    "%auth basic public public\n",
    "%format JSON\n",
    "%display table"
   ]
  },
  {
   "cell_type": "markdown",
   "metadata": {},
   "source": [
    "These so called line magics control the behaviour of the SPARQL kernel, i.e., the queries in this notebook. The most important ones shall be briefly explained:\n",
    "* **&gt;Kernelname**: defines the code format of the cell. This notebook includes SPARQL and R examples, so a cell is either declared &gt;SPARQL or &gt;R\n",
    "* **%endpoint**: defines the mandatory SPARQL endpoint for all subsequent queries. It remains active until superseded by another endpoint magic.\n",
    "* **%auth**: defines the HTTP authentification to send to the backend. For the lindas endpoint we can simply use \"public\" for the &lt;username&gt; and &lt;password&gt;\n",
    "* **%format**: sets the data format requested to the SPARQL endpoint. We request the endpoint to provide results in JSON format if nothing else is mentioned\n",
    "* **%display**: sets the output rendering shape. \"raw\" would display our results as specified by %format whereas \"table\" generates a table out of them. We will also see results displayed as diagrams later\n",
    "* **%lsmagics**: displays all available magics\n",
    "\n",
    "If at any point a query doesn't work as expected or throws an error, we advise the reader to rerun the cell with the magics or insert the line magics at the beginning of the query before trying again.\n",
    "\n",
    "> **Be careful to remove all magics if you copy paste our examples!**"
   ]
  },
  {
   "cell_type": "markdown",
   "metadata": {},
   "source": [
    "## 4.2 Example Query: all DataSets\n",
    "In our first SPARQL queries we want to get a feel for the data and how it is structured. It makes sense to start by exploring the DataSets, although the observations serve as the true foundation of the statistical data. The various DataSets and their labels help us in getting a good overview of the provided data and its partitioning."
   ]
  },
  {
   "cell_type": "code",
   "execution_count": 3,
   "metadata": {},
   "outputs": [
    {
     "data": {
      "text/html": [
       "<div class=\"krn-spql\"><table><tr class=hdr><th>dataset</th>\n",
       "<th>label</th></tr><tr class=odd><td class=val><a href=\"https://ld.stadt-zuerich.ch/statistics/dataset/AST-RAUM-ZEIT-BTA\" target=\"_other\">https://ld.stadt-zuerich.ch/statistics/dataset/AST-RAUM-ZEIT-BTA</a></td>\n",
       "<td class=val>Arbeitsstätten nach Betriebsart, Raum, Zeit</td></tr><tr class=even><td class=val><a href=\"https://ld.stadt-zuerich.ch/statistics/dataset/BES-RAUM-ZEIT-BTA-SEX\" target=\"_other\">https://ld.stadt-zuerich.ch/statistics/dataset/BES-RAUM-ZEIT-BTA-SEX</a></td>\n",
       "<td class=val>Beschäftigte nach Betriebsart, Raum, Geschlecht, Zeit</td></tr><tr class=odd><td class=val><a href=\"https://ld.stadt-zuerich.ch/statistics/dataset/BES-RAUM-ZEIT-BTA\" target=\"_other\">https://ld.stadt-zuerich.ch/statistics/dataset/BES-RAUM-ZEIT-BTA</a></td>\n",
       "<td class=val>Beschäftigte nach Betriebsart, Raum, Zeit</td></tr><tr class=even><td class=val><a href=\"https://ld.stadt-zuerich.ch/statistics/dataset/ZUS-RAUM-ZEIT-BTA-HEL\" target=\"_other\">https://ld.stadt-zuerich.ch/statistics/dataset/ZUS-RAUM-ZEIT-BTA-HEL</a></td>\n",
       "<td class=val>Zuschauer/innen, Besucher/innen nach Betriebsart, Heimatland, Raum, Zeit</td></tr><tr class=odd><td class=val><a href=\"https://ld.stadt-zuerich.ch/statistics/dataset/ZUS-RAUM-ZEIT-BTA-SEX\" target=\"_other\">https://ld.stadt-zuerich.ch/statistics/dataset/ZUS-RAUM-ZEIT-BTA-SEX</a></td>\n",
       "<td class=val>Zuschauer/innen, Besucher/innen nach Betriebsart, Raum, Geschlecht, Zeit</td></tr><tr class=even><td class=val><a href=\"https://ld.stadt-zuerich.ch/statistics/dataset/ZUS-RAUM-ZEIT-BTA\" target=\"_other\">https://ld.stadt-zuerich.ch/statistics/dataset/ZUS-RAUM-ZEIT-BTA</a></td>\n",
       "<td class=val>Zuschauer/innen, Besucher/innen nach Betriebsart, Raum, Zeit</td></tr><tr class=odd><td class=val><a href=\"https://ld.stadt-zuerich.ch/statistics/dataset/SCH-RAUM-ZEIT-BTA-SST\" target=\"_other\">https://ld.stadt-zuerich.ch/statistics/dataset/SCH-RAUM-ZEIT-BTA-SST</a></td>\n",
       "<td class=val>Schüler/innen und Student/innen nach Betriebsart, Raum, Schulstufen und Fächer, Zeit</td></tr><tr class=even><td class=val><a href=\"https://ld.stadt-zuerich.ch/statistics/dataset/SCH-RAUM-ZEIT-BTA\" target=\"_other\">https://ld.stadt-zuerich.ch/statistics/dataset/SCH-RAUM-ZEIT-BTA</a></td>\n",
       "<td class=val>Schüler/innen und Student/innen nach Betriebsart, Raum, Zeit</td></tr><tr class=odd><td class=val><a href=\"https://ld.stadt-zuerich.ch/statistics/dataset/AST-RAUM-ZEIT-BEW-BTA\" target=\"_other\">https://ld.stadt-zuerich.ch/statistics/dataset/AST-RAUM-ZEIT-BEW-BTA</a></td>\n",
       "<td class=val>Arbeitsstätten nach Bewilligung, Betriebsart, Raum, Zeit</td></tr><tr class=even><td class=val><a href=\"https://ld.stadt-zuerich.ch/statistics/dataset/BEW-RAUM-ZEIT\" target=\"_other\">https://ld.stadt-zuerich.ch/statistics/dataset/BEW-RAUM-ZEIT</a></td>\n",
       "<td class=val>Wirtschaftliche Wohnbevölkerung nach Raum, Zeit</td></tr><tr class=odd><td class=val><a href=\"https://ld.stadt-zuerich.ch/statistics/dataset/BEW-RAUM-ZEIT-SEX\" target=\"_other\">https://ld.stadt-zuerich.ch/statistics/dataset/BEW-RAUM-ZEIT-SEX</a></td>\n",
       "<td class=val>Wirtschaftliche Wohnbevölkerung nach Raum, Geschlecht, Zeit</td></tr><tr class=even><td class=val><a href=\"https://ld.stadt-zuerich.ch/statistics/dataset/BEW-RAUM-ZEIT-HEL-SEX\" target=\"_other\">https://ld.stadt-zuerich.ch/statistics/dataset/BEW-RAUM-ZEIT-HEL-SEX</a></td>\n",
       "<td class=val>Wirtschaftliche Wohnbevölkerung nach Heimatland, Raum, Geschlecht, Zeit</td></tr><tr class=odd><td class=val><a href=\"https://ld.stadt-zuerich.ch/statistics/dataset/BEW-RAUM-ZEIT-HEL\" target=\"_other\">https://ld.stadt-zuerich.ch/statistics/dataset/BEW-RAUM-ZEIT-HEL</a></td>\n",
       "<td class=val>Wirtschaftliche Wohnbevölkerung nach Heimatland, Raum, Zeit</td></tr><tr class=even><td class=val><a href=\"https://ld.stadt-zuerich.ch/statistics/dataset/ANT-RAUM-ZEIT-GGH-HEL\" target=\"_other\">https://ld.stadt-zuerich.ch/statistics/dataset/ANT-RAUM-ZEIT-GGH-HEL</a></td>\n",
       "<td class=val>Anteil nach Grundgesamtheit, Heimatland, Raum, Zeit</td></tr><tr class=odd><td class=val><a href=\"https://ld.stadt-zuerich.ch/statistics/dataset/BEW-RAUM-ZEIT-KON\" target=\"_other\">https://ld.stadt-zuerich.ch/statistics/dataset/BEW-RAUM-ZEIT-KON</a></td>\n",
       "<td class=val>Wirtschaftliche Wohnbevölkerung nach Konfession, Raum, Zeit</td></tr><tr class=even><td class=val><a href=\"https://ld.stadt-zuerich.ch/statistics/dataset/BEW-RAUM-ZEIT-ALT\" target=\"_other\">https://ld.stadt-zuerich.ch/statistics/dataset/BEW-RAUM-ZEIT-ALT</a></td>\n",
       "<td class=val>Wirtschaftliche Wohnbevölkerung nach Alter, Raum, Zeit</td></tr><tr class=odd><td class=val><a href=\"https://ld.stadt-zuerich.ch/statistics/dataset/VER-RAUM-ZEIT-BTA-PRA\" target=\"_other\">https://ld.stadt-zuerich.ch/statistics/dataset/VER-RAUM-ZEIT-BTA-PRA</a></td>\n",
       "<td class=val>Veranstaltungen, Aufführungen nach Betriebsart, Produktionsart Kulturveranstaltung, Raum, Zeit</td></tr><tr class=even><td class=val><a href=\"https://ld.stadt-zuerich.ch/statistics/dataset/VER-RAUM-ZEIT-BTA\" target=\"_other\">https://ld.stadt-zuerich.ch/statistics/dataset/VER-RAUM-ZEIT-BTA</a></td>\n",
       "<td class=val>Veranstaltungen, Aufführungen nach Betriebsart, Raum, Zeit</td></tr><tr class=odd><td class=val><a href=\"https://ld.stadt-zuerich.ch/statistics/dataset/VER-RAUM-ZEIT-BTA-VSA\" target=\"_other\">https://ld.stadt-zuerich.ch/statistics/dataset/VER-RAUM-ZEIT-BTA-VSA</a></td>\n",
       "<td class=val>Veranstaltungen, Aufführungen nach Betriebsart, Raum, Veranstaltungsart, Zeit</td></tr><tr class=even><td class=val><a href=\"https://ld.stadt-zuerich.ch/statistics/dataset/PLB-RAUM-ZEIT-BTA-VSA\" target=\"_other\">https://ld.stadt-zuerich.ch/statistics/dataset/PLB-RAUM-ZEIT-BTA-VSA</a></td>\n",
       "<td class=val>Platzbelegung nach Betriebsart, Raum, Veranstaltungsart, Zeit</td></tr></table><div class=\"tinfo\">Total: 85, Shown: 20</div></div>"
      ]
     },
     "metadata": {},
     "output_type": "display_data"
    }
   ],
   "source": [
    ">SPARQL\n",
    "PREFIX qb: <http://purl.org/linked-data/cube#>\n",
    "PREFIX rdfs: <http://www.w3.org/2000/01/rdf-schema#>\n",
    "\n",
    "SELECT ?dataset ?label \n",
    "FROM <https://linked.opendata.swiss/graph/zh/statistics>\n",
    "WHERE{\n",
    "    ?dataset a qb:DataSet;\n",
    "        rdfs:label ?label.\n",
    "}"
   ]
  },
  {
   "cell_type": "markdown",
   "metadata": {},
   "source": [
    "### 4.2.1 Explanation\n",
    "Note that ```?dataset a qb:DataSet``` is short for \n",
    "\n",
    "```?dataset http://www.w3.org/1999/02/22-rdf-syntax-ns#type qb:DataSet```\n",
    "\n",
    "* rdf:type is generally shortened to just \"a\" as in \"is a type of..\"."
   ]
  },
  {
   "cell_type": "markdown",
   "metadata": {},
   "source": [
    "## 4.3 Example Query: the first 100 Triples\n",
    "The following query SELECTS randomly 100 RDF triples:"
   ]
  },
  {
   "cell_type": "code",
   "execution_count": 56,
   "metadata": {},
   "outputs": [
    {
     "data": {
      "text/html": [
       "<div class=\"krn-spql\"><table><tr class=hdr><th>sub</th>\n",
       "<th>pred</th>\n",
       "<th>obj</th></tr><tr class=odd><td class=val><a href=\"https://ld.stadt-zuerich.ch/.well-known/void\" target=\"_other\">https://ld.stadt-zuerich.ch/.well-known/void</a></td>\n",
       "<td class=val><a href=\"http://www.w3.org/1999/02/22-rdf-syntax-ns#type\" target=\"_other\">http://www.w3.org/1999/02/22-rdf-syntax-ns#type</a></td>\n",
       "<td class=val><a href=\"http://rdfs.org/ns/void#DatasetDescription\" target=\"_other\">http://rdfs.org/ns/void#DatasetDescription</a></td></tr><tr class=even><td class=val><a href=\"https://ld.stadt-zuerich.ch/.well-known/void\" target=\"_other\">https://ld.stadt-zuerich.ch/.well-known/void</a></td>\n",
       "<td class=val><a href=\"http://purl.org/dc/terms/creator\" target=\"_other\">http://purl.org/dc/terms/creator</a></td>\n",
       "<td class=val><a href=\"https://ld.stadt-zuerich.ch/org/SSZ\" target=\"_other\">https://ld.stadt-zuerich.ch/org/SSZ</a></td></tr><tr class=odd><td class=val><a href=\"https://ld.stadt-zuerich.ch/.well-known/void\" target=\"_other\">https://ld.stadt-zuerich.ch/.well-known/void</a></td>\n",
       "<td class=val><a href=\"http://purl.org/dc/terms/title\" target=\"_other\">http://purl.org/dc/terms/title</a></td>\n",
       "<td class=val>Description of Statistik Stadt Zürich Datasets</td></tr><tr class=even><td class=val><a href=\"https://ld.stadt-zuerich.ch/.well-known/void\" target=\"_other\">https://ld.stadt-zuerich.ch/.well-known/void</a></td>\n",
       "<td class=val><a href=\"http://xmlns.com/foaf/0.1/topic\" target=\"_other\">http://xmlns.com/foaf/0.1/topic</a></td>\n",
       "<td class=val><a href=\"https://ld.stadt-zuerich.ch/dataset/SSZ\" target=\"_other\">https://ld.stadt-zuerich.ch/dataset/SSZ</a></td></tr><tr class=odd><td class=val><a href=\"https://ld.stadt-zuerich.ch/org/SSZ\" target=\"_other\">https://ld.stadt-zuerich.ch/org/SSZ</a></td>\n",
       "<td class=val><a href=\"http://www.w3.org/1999/02/22-rdf-syntax-ns#type\" target=\"_other\">http://www.w3.org/1999/02/22-rdf-syntax-ns#type</a></td>\n",
       "<td class=val><a href=\"http://xmlns.com/foaf/0.1/Organization\" target=\"_other\">http://xmlns.com/foaf/0.1/Organization</a></td></tr><tr class=even><td class=val><a href=\"https://ld.stadt-zuerich.ch/org/SSZ\" target=\"_other\">https://ld.stadt-zuerich.ch/org/SSZ</a></td>\n",
       "<td class=val><a href=\"http://www.w3.org/1999/02/22-rdf-syntax-ns#type\" target=\"_other\">http://www.w3.org/1999/02/22-rdf-syntax-ns#type</a></td>\n",
       "<td class=val><a href=\"http://schema.org/GovernmentOrganization\" target=\"_other\">http://schema.org/GovernmentOrganization</a></td></tr><tr class=odd><td class=val><a href=\"https://ld.stadt-zuerich.ch/org/SSZ\" target=\"_other\">https://ld.stadt-zuerich.ch/org/SSZ</a></td>\n",
       "<td class=val><a href=\"http://www.w3.org/2000/01/rdf-schema#label\" target=\"_other\">http://www.w3.org/2000/01/rdf-schema#label</a></td>\n",
       "<td class=val>Statistik Stadt Zürich</td></tr><tr class=even><td class=val><a href=\"https://ld.stadt-zuerich.ch/org/SSZ\" target=\"_other\">https://ld.stadt-zuerich.ch/org/SSZ</a></td>\n",
       "<td class=val><a href=\"http://xmlns.com/foaf/0.1/homepage\" target=\"_other\">http://xmlns.com/foaf/0.1/homepage</a></td>\n",
       "<td class=val><a href=\"https://www.stadt-zuerich.ch/prd/de/index/statistik.html\" target=\"_other\">https://www.stadt-zuerich.ch/prd/de/index/statistik.html</a></td></tr><tr class=odd><td class=val><a href=\"https://ld.stadt-zuerich.ch/dataset/SSZ\" target=\"_other\">https://ld.stadt-zuerich.ch/dataset/SSZ</a></td>\n",
       "<td class=val><a href=\"http://www.w3.org/1999/02/22-rdf-syntax-ns#type\" target=\"_other\">http://www.w3.org/1999/02/22-rdf-syntax-ns#type</a></td>\n",
       "<td class=val><a href=\"http://rdfs.org/ns/void#Dataset\" target=\"_other\">http://rdfs.org/ns/void#Dataset</a></td></tr><tr class=even><td class=val><a href=\"https://ld.stadt-zuerich.ch/dataset/SSZ\" target=\"_other\">https://ld.stadt-zuerich.ch/dataset/SSZ</a></td>\n",
       "<td class=val><a href=\"http://www.w3.org/1999/02/22-rdf-syntax-ns#type\" target=\"_other\">http://www.w3.org/1999/02/22-rdf-syntax-ns#type</a></td>\n",
       "<td class=val><a href=\"http://www.w3.org/ns/dcat#Dataset\" target=\"_other\">http://www.w3.org/ns/dcat#Dataset</a></td></tr><tr class=odd><td class=val><a href=\"https://ld.stadt-zuerich.ch/dataset/SSZ\" target=\"_other\">https://ld.stadt-zuerich.ch/dataset/SSZ</a></td>\n",
       "<td class=val><a href=\"http://purl.org/dc/terms/creator\" target=\"_other\">http://purl.org/dc/terms/creator</a></td>\n",
       "<td class=val><a href=\"https://ld.stadt-zuerich.ch/org/SSZ\" target=\"_other\">https://ld.stadt-zuerich.ch/org/SSZ</a></td></tr><tr class=even><td class=val><a href=\"https://ld.stadt-zuerich.ch/dataset/SSZ\" target=\"_other\">https://ld.stadt-zuerich.ch/dataset/SSZ</a></td>\n",
       "<td class=val><a href=\"http://purl.org/dc/terms/issued\" target=\"_other\">http://purl.org/dc/terms/issued</a></td>\n",
       "<td class=val>2018-08-22</td></tr><tr class=odd><td class=val><a href=\"https://ld.stadt-zuerich.ch/dataset/SSZ\" target=\"_other\">https://ld.stadt-zuerich.ch/dataset/SSZ</a></td>\n",
       "<td class=val><a href=\"http://purl.org/dc/terms/created\" target=\"_other\">http://purl.org/dc/terms/created</a></td>\n",
       "<td class=val>2018-08-22T13:55:11Z</td></tr><tr class=even><td class=val><a href=\"https://ld.stadt-zuerich.ch/dataset/SSZ\" target=\"_other\">https://ld.stadt-zuerich.ch/dataset/SSZ</a></td>\n",
       "<td class=val><a href=\"http://purl.org/dc/terms/title\" target=\"_other\">http://purl.org/dc/terms/title</a></td>\n",
       "<td class=val>Statistische Daten der Stadt Zürich</td></tr><tr class=odd><td class=val><a href=\"https://ld.stadt-zuerich.ch/dataset/SSZ\" target=\"_other\">https://ld.stadt-zuerich.ch/dataset/SSZ</a></td>\n",
       "<td class=val><a href=\"http://purl.org/dc/terms/description\" target=\"_other\">http://purl.org/dc/terms/description</a></td>\n",
       "<td class=val>Dieser Datensatz enthält statistische Daten der Stadt Zürich im RDF Data Cube Vokabular</td></tr><tr class=even><td class=val><a href=\"https://ld.stadt-zuerich.ch/dataset/SSZ\" target=\"_other\">https://ld.stadt-zuerich.ch/dataset/SSZ</a></td>\n",
       "<td class=val><a href=\"http://purl.org/dc/terms/publisher\" target=\"_other\">http://purl.org/dc/terms/publisher</a></td>\n",
       "<td class=val><a href=\"https://ld.stadt-zuerich.ch/org/SSZ\" target=\"_other\">https://ld.stadt-zuerich.ch/org/SSZ</a></td></tr><tr class=odd><td class=val><a href=\"https://ld.stadt-zuerich.ch/dataset/SSZ\" target=\"_other\">https://ld.stadt-zuerich.ch/dataset/SSZ</a></td>\n",
       "<td class=val><a href=\"http://purl.org/dc/terms/contributor\" target=\"_other\">http://purl.org/dc/terms/contributor</a></td>\n",
       "<td class=val><a href=\"https://ld.stadt-zuerich.ch/org/Zazuko\" target=\"_other\">https://ld.stadt-zuerich.ch/org/Zazuko</a></td></tr><tr class=even><td class=val><a href=\"https://ld.stadt-zuerich.ch/dataset/SSZ\" target=\"_other\">https://ld.stadt-zuerich.ch/dataset/SSZ</a></td>\n",
       "<td class=val><a href=\"http://usefulinc.com/ns/doap#repository\" target=\"_other\">http://usefulinc.com/ns/doap#repository</a></td>\n",
       "<td class=val>Bce0c9b926b9a3dc615fb607462eac757</td></tr><tr class=odd><td class=val><a href=\"https://ld.stadt-zuerich.ch/dataset/SSZ\" target=\"_other\">https://ld.stadt-zuerich.ch/dataset/SSZ</a></td>\n",
       "<td class=val><a href=\"http://rdfs.org/ns/void#sparqlEndpoint\" target=\"_other\">http://rdfs.org/ns/void#sparqlEndpoint</a></td>\n",
       "<td class=val><a href=\"https://stat.stadt-zuerich.ch/query\" target=\"_other\">https://stat.stadt-zuerich.ch/query</a></td></tr><tr class=even><td class=val><a href=\"https://ld.stadt-zuerich.ch/org/Zazuko\" target=\"_other\">https://ld.stadt-zuerich.ch/org/Zazuko</a></td>\n",
       "<td class=val><a href=\"http://www.w3.org/1999/02/22-rdf-syntax-ns#type\" target=\"_other\">http://www.w3.org/1999/02/22-rdf-syntax-ns#type</a></td>\n",
       "<td class=val><a href=\"http://xmlns.com/foaf/0.1/Organization\" target=\"_other\">http://xmlns.com/foaf/0.1/Organization</a></td></tr></table><div class=\"tinfo\">Total: 100, Shown: 20</div></div>"
      ]
     },
     "metadata": {},
     "output_type": "display_data"
    }
   ],
   "source": [
    ">SPARQL\n",
    "SELECT * \n",
    "FROM <https://linked.opendata.swiss/graph/zh/statistics>\n",
    "WHERE {\n",
    "    ?sub ?pred ?obj.\n",
    "} \n",
    "LIMIT 100"
   ]
  },
  {
   "cell_type": "markdown",
   "metadata": {},
   "source": [
    "### 4.3.1 Explanation\n",
    "Example has no practical use but gives an overview of the stored data.\n",
    "\n",
    "* ```SELECT *``` simply selects all variables declared in the query in order of appearance\n",
    "* ```LIMIT 100``` limits the output to 100 matches"
   ]
  },
  {
   "cell_type": "markdown",
   "metadata": {},
   "source": [
    "## 4.4 Example Query: total number of Triples\n",
    "The COUNT command allows us to count the number of matches of a variable or multiple variables: "
   ]
  },
  {
   "cell_type": "code",
   "execution_count": 57,
   "metadata": {},
   "outputs": [
    {
     "data": {
      "text/html": [
       "<div class=\"krn-spql\"><table><tr class=hdr><th>count</th></tr><tr class=odd><td class=val>3924445</td></tr></table><div class=\"tinfo\">Total: 1, Shown: 1</div></div>"
      ]
     },
     "metadata": {},
     "output_type": "display_data"
    }
   ],
   "source": [
    ">SPARQL\n",
    "SELECT (COUNT(*) AS ?count) \n",
    "FROM <https://linked.opendata.swiss/graph/zh/statistics>\n",
    "WHERE{\n",
    "    ?sub ?pred ?obj.\n",
    "}"
   ]
  },
  {
   "cell_type": "markdown",
   "metadata": {},
   "source": [
    "### 4.4.1 Explanation\n",
    "Example has no practical use but shows the sheer size of the graph.\n",
    "\n",
    "* ```COUNT(*)``` simply counts all declared variables. Since all of them are part of the same statement, they are counted only once. In other cases ```COUNT(DISTINCT *)``` might be better suited to account for identical matches"
   ]
  },
  {
   "cell_type": "markdown",
   "metadata": {},
   "source": [
    "## 4.5 Example Query: number of Observations per DataSet\n",
    "The following query lists all DataSets, labels them and counts the Observations:"
   ]
  },
  {
   "cell_type": "code",
   "execution_count": 58,
   "metadata": {},
   "outputs": [
    {
     "data": {
      "text/html": [
       "<div class=\"krn-spql\"><table><tr class=hdr><th>dataset</th>\n",
       "<th>label</th>\n",
       "<th>observations</th></tr><tr class=odd><td class=val><a href=\"https://ld.stadt-zuerich.ch/statistics/dataset/BEW-RAUM-ZEIT-ALT\" target=\"_other\">https://ld.stadt-zuerich.ch/statistics/dataset/BEW-RAUM-ZEIT-ALT</a></td>\n",
       "<td class=val>Wirtschaftliche Wohnbevölkerung nach Alter, Raum, Zeit</td>\n",
       "<td class=val>35919</td></tr><tr class=even><td class=val><a href=\"https://ld.stadt-zuerich.ch/statistics/dataset/STF-RAUM-ZEIT-BBA\" target=\"_other\">https://ld.stadt-zuerich.ch/statistics/dataset/STF-RAUM-ZEIT-BBA</a></td>\n",
       "<td class=val>Grundstückfläche nach Bodenbedeckungsart, Raum, Zeit</td>\n",
       "<td class=val>33118</td></tr><tr class=odd><td class=val><a href=\"https://ld.stadt-zuerich.ch/statistics/dataset/STF-RAUM-ZEIT-EIG\" target=\"_other\">https://ld.stadt-zuerich.ch/statistics/dataset/STF-RAUM-ZEIT-EIG</a></td>\n",
       "<td class=val>Grundstückfläche nach Eigentümerart, Raum, Zeit</td>\n",
       "<td class=val>32049</td></tr><tr class=even><td class=val><a href=\"https://ld.stadt-zuerich.ch/statistics/dataset/STF-RAUM-ZEIT-ZON\" target=\"_other\">https://ld.stadt-zuerich.ch/statistics/dataset/STF-RAUM-ZEIT-ZON</a></td>\n",
       "<td class=val>Grundstückfläche nach Raum, Zeit, Zonenart</td>\n",
       "<td class=val>29104</td></tr><tr class=odd><td class=val><a href=\"https://ld.stadt-zuerich.ch/statistics/dataset/AST-RAUM-ZEIT-BTA\" target=\"_other\">https://ld.stadt-zuerich.ch/statistics/dataset/AST-RAUM-ZEIT-BTA</a></td>\n",
       "<td class=val>Arbeitsstätten nach Betriebsart, Raum, Zeit</td>\n",
       "<td class=val>23566</td></tr><tr class=even><td class=val><a href=\"https://ld.stadt-zuerich.ch/statistics/dataset/BEW-RAUM-ZEIT-HEL-SEX\" target=\"_other\">https://ld.stadt-zuerich.ch/statistics/dataset/BEW-RAUM-ZEIT-HEL-SEX</a></td>\n",
       "<td class=val>Wirtschaftliche Wohnbevölkerung nach Heimatland, Raum, Geschlecht, Zeit</td>\n",
       "<td class=val>11276</td></tr><tr class=odd><td class=val><a href=\"https://ld.stadt-zuerich.ch/statistics/dataset/BEW-RAUM-ZEIT-ALT-HEL-SEX\" target=\"_other\">https://ld.stadt-zuerich.ch/statistics/dataset/BEW-RAUM-ZEIT-ALT-HEL-SEX</a></td>\n",
       "<td class=val>Wirtschaftliche Wohnbevölkerung nach Alter, Heimatland, Raum, Geschlecht, Zeit</td>\n",
       "<td class=val>7928</td></tr><tr class=even><td class=val><a href=\"https://ld.stadt-zuerich.ch/statistics/dataset/STF-RAUM-ZEIT-BBA-ZON\" target=\"_other\">https://ld.stadt-zuerich.ch/statistics/dataset/STF-RAUM-ZEIT-BBA-ZON</a></td>\n",
       "<td class=val>Grundstückfläche nach Bodenbedeckungsart, Raum, Zeit, Zonenart</td>\n",
       "<td class=val>7237</td></tr><tr class=odd><td class=val><a href=\"https://ld.stadt-zuerich.ch/statistics/dataset/BEW-RAUM-ZEIT-AUA-HEL\" target=\"_other\">https://ld.stadt-zuerich.ch/statistics/dataset/BEW-RAUM-ZEIT-AUA-HEL</a></td>\n",
       "<td class=val>Wirtschaftliche Wohnbevölkerung nach Aufenthaltsart, Heimatland, Raum, Zeit</td>\n",
       "<td class=val>6849</td></tr><tr class=even><td class=val><a href=\"https://ld.stadt-zuerich.ch/statistics/dataset/BEW-RAUM-ZEIT-ALT-HEL\" target=\"_other\">https://ld.stadt-zuerich.ch/statistics/dataset/BEW-RAUM-ZEIT-ALT-HEL</a></td>\n",
       "<td class=val>Wirtschaftliche Wohnbevölkerung nach Alter, Heimatland, Raum, Zeit</td>\n",
       "<td class=val>6682</td></tr><tr class=odd><td class=val><a href=\"https://ld.stadt-zuerich.ch/statistics/dataset/ZUS-RAUM-ZEIT-BTA\" target=\"_other\">https://ld.stadt-zuerich.ch/statistics/dataset/ZUS-RAUM-ZEIT-BTA</a></td>\n",
       "<td class=val>Zuschauer/innen, Besucher/innen nach Betriebsart, Raum, Zeit</td>\n",
       "<td class=val>6143</td></tr><tr class=even><td class=val><a href=\"https://ld.stadt-zuerich.ch/statistics/dataset/BEW-RAUM-ZEIT-HEL\" target=\"_other\">https://ld.stadt-zuerich.ch/statistics/dataset/BEW-RAUM-ZEIT-HEL</a></td>\n",
       "<td class=val>Wirtschaftliche Wohnbevölkerung nach Heimatland, Raum, Zeit</td>\n",
       "<td class=val>5640</td></tr><tr class=odd><td class=val><a href=\"https://ld.stadt-zuerich.ch/statistics/dataset/BEW-RAUM-ZEIT-SEX\" target=\"_other\">https://ld.stadt-zuerich.ch/statistics/dataset/BEW-RAUM-ZEIT-SEX</a></td>\n",
       "<td class=val>Wirtschaftliche Wohnbevölkerung nach Raum, Geschlecht, Zeit</td>\n",
       "<td class=val>5162</td></tr><tr class=even><td class=val><a href=\"https://ld.stadt-zuerich.ch/statistics/dataset/BEW-RAUM-ZEIT-ALT-SEX\" target=\"_other\">https://ld.stadt-zuerich.ch/statistics/dataset/BEW-RAUM-ZEIT-ALT-SEX</a></td>\n",
       "<td class=val>Wirtschaftliche Wohnbevölkerung nach Alter, Raum, Geschlecht, Zeit</td>\n",
       "<td class=val>3964</td></tr><tr class=odd><td class=val><a href=\"https://ld.stadt-zuerich.ch/statistics/dataset/ABL-RAUM-ZEIT-ALT-HEL\" target=\"_other\">https://ld.stadt-zuerich.ch/statistics/dataset/ABL-RAUM-ZEIT-ALT-HEL</a></td>\n",
       "<td class=val>Arbeitslose nach Alter, Heimatland, Raum, Zeit</td>\n",
       "<td class=val>3744</td></tr><tr class=even><td class=val><a href=\"https://ld.stadt-zuerich.ch/statistics/dataset/BEW-RAUM-ZEIT\" target=\"_other\">https://ld.stadt-zuerich.ch/statistics/dataset/BEW-RAUM-ZEIT</a></td>\n",
       "<td class=val>Wirtschaftliche Wohnbevölkerung nach Raum, Zeit</td>\n",
       "<td class=val>2669</td></tr><tr class=odd><td class=val><a href=\"https://ld.stadt-zuerich.ch/statistics/dataset/SCH-RAUM-ZEIT-BTA-SST\" target=\"_other\">https://ld.stadt-zuerich.ch/statistics/dataset/SCH-RAUM-ZEIT-BTA-SST</a></td>\n",
       "<td class=val>Schüler/innen und Student/innen nach Betriebsart, Raum, Schulstufen und Fächer, Zeit</td>\n",
       "<td class=val>2520</td></tr><tr class=even><td class=val><a href=\"https://ld.stadt-zuerich.ch/statistics/dataset/STF-RAUM-ZEIT\" target=\"_other\">https://ld.stadt-zuerich.ch/statistics/dataset/STF-RAUM-ZEIT</a></td>\n",
       "<td class=val>Grundstückfläche nach Raum, Zeit</td>\n",
       "<td class=val>2466</td></tr><tr class=odd><td class=val><a href=\"https://ld.stadt-zuerich.ch/statistics/dataset/ANT-RAUM-ZEIT-GGH-HEL\" target=\"_other\">https://ld.stadt-zuerich.ch/statistics/dataset/ANT-RAUM-ZEIT-GGH-HEL</a></td>\n",
       "<td class=val>Anteil nach Grundgesamtheit, Heimatland, Raum, Zeit</td>\n",
       "<td class=val>2379</td></tr><tr class=even><td class=val><a href=\"https://ld.stadt-zuerich.ch/statistics/dataset/VER-RAUM-ZEIT-BTA-VSA\" target=\"_other\">https://ld.stadt-zuerich.ch/statistics/dataset/VER-RAUM-ZEIT-BTA-VSA</a></td>\n",
       "<td class=val>Veranstaltungen, Aufführungen nach Betriebsart, Raum, Veranstaltungsart, Zeit</td>\n",
       "<td class=val>1531</td></tr></table><div class=\"tinfo\">Total: 85, Shown: 20</div></div>"
      ]
     },
     "metadata": {},
     "output_type": "display_data"
    }
   ],
   "source": [
    ">SPARQL\n",
    "PREFIX rdfs: <http://www.w3.org/2000/01/rdf-schema#>\n",
    "PREFIX qb: <http://purl.org/linked-data/cube#>\n",
    "\n",
    "SELECT ?dataset ?label (COUNT(DISTINCT ?observation) AS ?observations) \n",
    "FROM <https://linked.opendata.swiss/graph/zh/statistics>\n",
    "WHERE{\n",
    "    ?observation a qb:Observation;\n",
    "        qb:dataSet ?dataset.\n",
    "    ?dataset rdfs:label ?label.\n",
    "}\n",
    "GROUP BY ?dataset ?label\n",
    "ORDER BY DESC(?observations)"
   ]
  },
  {
   "cell_type": "markdown",
   "metadata": {},
   "source": [
    "### 4.5.1 Explanation\n",
    "The example shows that you are ill advised to directly load the DataSet \"AST-RAUM-ZEIT-BTA\".."
   ]
  },
  {
   "cell_type": "markdown",
   "metadata": {},
   "source": [
    "## 4.6 Example Query: filter with regular expressions\n",
    "To search for specific names, terms or patterns in labels or code values etc., SPARQL has a FILTER command and regular expressions. The following query searches for the term \"Tier\" in all available labels of the DataCube:"
   ]
  },
  {
   "cell_type": "code",
   "execution_count": 59,
   "metadata": {
    "scrolled": false
   },
   "outputs": [
    {
     "data": {
      "text/html": [
       "<div class=\"krn-spql\"><table><tr class=hdr><th>sub</th>\n",
       "<th>label</th></tr><tr class=odd><td class=val><a href=\"https://ld.stadt-zuerich.ch/statistics/code/BER1000\" target=\"_other\">https://ld.stadt-zuerich.ch/statistics/code/BER1000</a></td>\n",
       "<td class=val>Land- und forstwirtschaftliche Berufe, Berufe der Tierzucht</td></tr><tr class=even><td class=val><a href=\"https://ld.stadt-zuerich.ch/statistics/code/BER1100\" target=\"_other\">https://ld.stadt-zuerich.ch/statistics/code/BER1100</a></td>\n",
       "<td class=val>Berufe der Land-, Forstwirtschaft und Tierzucht</td></tr><tr class=odd><td class=val><a href=\"https://ld.stadt-zuerich.ch/statistics/code/BER1130\" target=\"_other\">https://ld.stadt-zuerich.ch/statistics/code/BER1130</a></td>\n",
       "<td class=val>Tierzüchter/innen und verwandte Berufe</td></tr><tr class=even><td class=val><a href=\"https://ld.stadt-zuerich.ch/statistics/code/BER1135\" target=\"_other\">https://ld.stadt-zuerich.ch/statistics/code/BER1135</a></td>\n",
       "<td class=val>Übrige Berufe der Tierbetreuung</td></tr><tr class=odd><td class=val><a href=\"https://ld.stadt-zuerich.ch/statistics/code/BER5116\" target=\"_other\">https://ld.stadt-zuerich.ch/statistics/code/BER5116</a></td>\n",
       "<td class=val>Tierhändler/innen</td></tr><tr class=even><td class=val><a href=\"https://ld.stadt-zuerich.ch/statistics/code/BER8640\" target=\"_other\">https://ld.stadt-zuerich.ch/statistics/code/BER8640</a></td>\n",
       "<td class=val>Berufe der Tiermedizin</td></tr><tr class=odd><td class=val><a href=\"https://ld.stadt-zuerich.ch/statistics/code/BER8641\" target=\"_other\">https://ld.stadt-zuerich.ch/statistics/code/BER8641</a></td>\n",
       "<td class=val>Tierärzte/-ärztinnen</td></tr><tr class=even><td class=val><a href=\"https://ld.stadt-zuerich.ch/statistics/code/BER8642\" target=\"_other\">https://ld.stadt-zuerich.ch/statistics/code/BER8642</a></td>\n",
       "<td class=val>Tiermedizinische Praxisassistenten/-assistentinnen, Tierarztgehilfen/-gehilfinnen</td></tr><tr class=odd><td class=val><a href=\"https://ld.stadt-zuerich.ch/statistics/code/BGR1001\" target=\"_other\">https://ld.stadt-zuerich.ch/statistics/code/BGR1001</a></td>\n",
       "<td class=val>Land-/Tierwirtschaft</td></tr><tr class=even><td class=val><a href=\"https://ld.stadt-zuerich.ch/statistics/code/EAP2101\" target=\"_other\">https://ld.stadt-zuerich.ch/statistics/code/EAP2101</a></td>\n",
       "<td class=val>Tierkäufe</td></tr><tr class=odd><td class=val><a href=\"https://ld.stadt-zuerich.ch/statistics/code/ESA1707\" target=\"_other\">https://ld.stadt-zuerich.ch/statistics/code/ESA1707</a></td>\n",
       "<td class=val>Tiereinsätze (Tierrettung/Insekten)</td></tr><tr class=even><td class=val><a href=\"https://ld.stadt-zuerich.ch/statistics/code/FZA1200\" target=\"_other\">https://ld.stadt-zuerich.ch/statistics/code/FZA1200</a></td>\n",
       "<td class=val>Mit Tieren</td></tr><tr class=odd><td class=val><a href=\"https://ld.stadt-zuerich.ch/statistics/code/GEO5538\" target=\"_other\">https://ld.stadt-zuerich.ch/statistics/code/GEO5538</a></td>\n",
       "<td class=val>Villars-Tiercelin</td></tr><tr class=even><td class=val><a href=\"https://ld.stadt-zuerich.ch/statistics/code/HEO5538\" target=\"_other\">https://ld.stadt-zuerich.ch/statistics/code/HEO5538</a></td>\n",
       "<td class=val>Villars-Tiercelin</td></tr><tr class=odd><td class=val><a href=\"https://ld.stadt-zuerich.ch/statistics/code/LIS0020\" target=\"_other\">https://ld.stadt-zuerich.ch/statistics/code/LIS0020</a></td>\n",
       "<td class=val>TPS - Tierpartei Schweiz</td></tr><tr class=even><td class=val><a href=\"https://ld.stadt-zuerich.ch/statistics/code/NAMT1KQ\" target=\"_other\">https://ld.stadt-zuerich.ch/statistics/code/NAMT1KQ</a></td>\n",
       "<td class=val>Tiernan</td></tr><tr class=odd><td class=val><a href=\"https://ld.stadt-zuerich.ch/statistics/code/NAMT1KR\" target=\"_other\">https://ld.stadt-zuerich.ch/statistics/code/NAMT1KR</a></td>\n",
       "<td class=val>Tierney</td></tr><tr class=even><td class=val><a href=\"https://ld.stadt-zuerich.ch/statistics/code/NAMT1KS\" target=\"_other\">https://ld.stadt-zuerich.ch/statistics/code/NAMT1KS</a></td>\n",
       "<td class=val>Tierry</td></tr><tr class=odd><td class=val><a href=\"https://ld.stadt-zuerich.ch/statistics/code/ORT5538\" target=\"_other\">https://ld.stadt-zuerich.ch/statistics/code/ORT5538</a></td>\n",
       "<td class=val>Villars-Tiercelin</td></tr><tr class=even><td class=val><a href=\"https://ld.stadt-zuerich.ch/statistics/code/PAT0020\" target=\"_other\">https://ld.stadt-zuerich.ch/statistics/code/PAT0020</a></td>\n",
       "<td class=val>Tierpartei Schweiz (TPS)</td></tr></table><div class=\"tinfo\">Total: 44, Shown: 20</div></div>"
      ]
     },
     "metadata": {},
     "output_type": "display_data"
    }
   ],
   "source": [
    ">SPARQL\n",
    "PREFIX rdfs: <http://www.w3.org/2000/01/rdf-schema#>\n",
    "\n",
    "SELECT * \n",
    "FROM <https://linked.opendata.swiss/graph/zh/statistics>\n",
    "WHERE{ \n",
    "    ?sub rdfs:label ?label.\n",
    "    FILTER REGEX(?label, \"Tiere*\")\n",
    "}\n",
    "ORDER BY ?sub\n",
    "LIMIT 100"
   ]
  },
  {
   "cell_type": "markdown",
   "metadata": {},
   "source": [
    "### 4.6.1 Explanation\n",
    "Various types of matches are included in the (complete) results:\n",
    "* Topic, e.g. https://stat.stadt-zuerich.ch/topic/WIR009 (Tierhaltung der Landwirtschaftsbetriebe)\n",
    "* DataSet, e.g. https://ld.stadt-zuerich.ch/statistics/dataset/AST-RAUM-ZEIT-BTA-TIG/ASTBTA9200TIG9000/slice (Anzahl Ladwirtschaftsbetriebe mit übrigen Tierarten)\n",
    "* Measure, e.g. https://ld.stadt-zuerich.ch/statistics/measure/TII (Tierindividuen)\n",
    "* Code, e.g. https://ld.stadt-zuerich.ch/statistics/code/PAT1200 (Tierpartei Schweiz \"TPS\")\n",
    "* Property, e.g. https://ld.stadt-zuerich.ch/statistics/property/TIG (Tiergattung)\n",
    "* external applications and glossary are not yet supported (<span class=\"mark\">coming later</span>)\n",
    "\n",
    "Regular expressions in FILTER are used as follows:\n",
    "\n",
    "```FILTER REGEX( string, pattern )```\n",
    "\n",
    "where pattern is the actual regular expression. The asterisk denotes that the string may contain \"Tier\" more than once. More on regular expressions [here](https://en.wikibooks.org/wiki/SPARQL/Expressions_and_Functions#REGEX). See also section [4.20](#Example-Query:-relations-of-a-DataSet)."
   ]
  },
  {
   "cell_type": "markdown",
   "metadata": {},
   "source": [
    "## 4.7 Example Query: Kennzahlen and measures\n",
    "As explained in section [3.3](#Concepts-of-the-RDF-Data-Cube), the measures or Kennzahlen of the statistical data are mapped to qb:MeasureProperty. With this very intuitive query all those properties are extracted with their label, unit and additional comments or notes:"
   ]
  },
  {
   "cell_type": "code",
   "execution_count": 60,
   "metadata": {
    "scrolled": true
   },
   "outputs": [
    {
     "data": {
      "text/html": [
       "<div class=\"krn-spql\"><table><tr class=hdr><th>measure</th>\n",
       "<th>label</th>\n",
       "<th>unit</th>\n",
       "<th>comment</th>\n",
       "<th>note</th></tr><tr class=odd><td class=val><a href=\"https://ld.stadt-zuerich.ch/statistics/measure/ABF\" target=\"_other\">https://ld.stadt-zuerich.ch/statistics/measure/ABF</a></td>\n",
       "<td class=val>Abfall</td>\n",
       "<td class=val><a href=\"https://ld.stadt-zuerich.ch/statistics/unit/tonnen\" target=\"_other\">https://ld.stadt-zuerich.ch/statistics/unit/tonnen</a></td>\n",
       "<td class=val>Abfall in Tonnen</td>\n",
       "<td class=val>Abfälle sind alle Stoffe oder Gegenstände, deren sich der Besitzer entledigt.</td></tr><tr class=even><td class=val><a href=\"https://ld.stadt-zuerich.ch/statistics/measure/ABG\" target=\"_other\">https://ld.stadt-zuerich.ch/statistics/measure/ABG</a></td>\n",
       "<td class=val>Stimmen</td>\n",
       "<td class=val><a href=\"https://ld.stadt-zuerich.ch/statistics/unit/stimmen\" target=\"_other\">https://ld.stadt-zuerich.ch/statistics/unit/stimmen</a></td>\n",
       "<td class=val>Anzahl Stimmen</td>\n",
       "<td class=val>Die Parteistimmen ergeben sich aus der Summe der Kandidaten- und der Zusatzstimmen jeder Wahlliste.</td></tr><tr class=odd><td class=val><a href=\"https://ld.stadt-zuerich.ch/statistics/measure/ABL\" target=\"_other\">https://ld.stadt-zuerich.ch/statistics/measure/ABL</a></td>\n",
       "<td class=val>Arbeitslose</td>\n",
       "<td class=val><a href=\"https://ld.stadt-zuerich.ch/statistics/unit/personen\" target=\"_other\">https://ld.stadt-zuerich.ch/statistics/unit/personen</a></td>\n",
       "<td class=val>Anzahl Arbeitslose</td>\n",
       "<td class=val>Beim Regionalen Arbeitsvermittlungszentrum (RAV) registrierte Personen aus der Wohnbevölkerung, die am Stichtag \r\n",
       "keine Erwerbstätigkeit ausüben, sodass sie zu einem sofortigen Stellenantritt bereit sind. Nicht dazu zählen Personen, die zeitlich befristet arbeiten (Zwischenverdienst) oder ein Beschäftigungsprogramm durchlaufen. Ausgesteuerte Arbeitslose sind in den Zahlen enthalten, sofern sie sich beim RAV um eine Arbeit bemühen.</td></tr><tr class=even><td class=val><a href=\"https://ld.stadt-zuerich.ch/statistics/measure/ABP\" target=\"_other\">https://ld.stadt-zuerich.ch/statistics/measure/ABP</a></td>\n",
       "<td class=val>Abfall pro Einwohner/ -in</td>\n",
       "<td class=val><a href=\"https://ld.stadt-zuerich.ch/statistics/unit/kgproeinwohner\" target=\"_other\">https://ld.stadt-zuerich.ch/statistics/unit/kgproeinwohner</a></td>\n",
       "<td class=val>Abfall pro Einwohner/ -in in Kilogramm</td>\n",
       "<td class=val>Die durchschnittliche Menge des Abfalls, die pro Einwohner/-in anfällt. Die Menge wird in Kilogramm angegeben.</td></tr><tr class=odd><td class=val><a href=\"https://ld.stadt-zuerich.ch/statistics/measure/ABS\" target=\"_other\">https://ld.stadt-zuerich.ch/statistics/measure/ABS</a></td>\n",
       "<td class=val>Abschlüsse</td>\n",
       "<td class=val><a href=\"https://ld.stadt-zuerich.ch/statistics/unit/abschluss\" target=\"_other\">https://ld.stadt-zuerich.ch/statistics/unit/abschluss</a></td>\n",
       "<td class=val>Abschlüsse (Lehrdiplome)</td>\n",
       "<td class=val>Die Berufslehre wird mit einem eidgenössisch anerkanntem Diplom (Fähigkeitszeugnis) abgeschlossen. Die Lernenden müssen dazu eine Lehrabschlussprüfung bestehen. Die Prüfungs- und Erfahrungsnoten werden gleich gewichtet. Der Abschluss (Lehrdiplom) ist meist eine Voraussetzung für eine Arbeitsstelle.</td></tr><tr class=even><td class=val><a href=\"https://ld.stadt-zuerich.ch/statistics/measure/ABW\" target=\"_other\">https://ld.stadt-zuerich.ch/statistics/measure/ABW</a></td>\n",
       "<td class=val>Abwassermenge</td>\n",
       "<td class=val><a href=\"https://ld.stadt-zuerich.ch/statistics/unit/miom3\" target=\"_other\">https://ld.stadt-zuerich.ch/statistics/unit/miom3</a></td>\n",
       "<td class=val>Abwassermenge in Mio. m³</td>\n",
       "<td class=val></td></tr><tr class=odd><td class=val><a href=\"https://ld.stadt-zuerich.ch/statistics/measure/ADA\" target=\"_other\">https://ld.stadt-zuerich.ch/statistics/measure/ADA</a></td>\n",
       "<td class=val>Ausstellungsdauer</td>\n",
       "<td class=val><a href=\"https://ld.stadt-zuerich.ch/statistics/unit/tage\" target=\"_other\">https://ld.stadt-zuerich.ch/statistics/unit/tage</a></td>\n",
       "<td class=val>Dauer der Ausstellung/Messe in Tagen</td>\n",
       "<td class=val></td></tr><tr class=even><td class=val><a href=\"https://ld.stadt-zuerich.ch/statistics/measure/AEH\" target=\"_other\">https://ld.stadt-zuerich.ch/statistics/measure/AEH</a></td>\n",
       "<td class=val>Ehelösungen durch Tod eines Partners</td>\n",
       "<td class=val><a href=\"https://ld.stadt-zuerich.ch/statistics/unit/anzahl\" target=\"_other\">https://ld.stadt-zuerich.ch/statistics/unit/anzahl</a></td>\n",
       "<td class=val>Ehelösungen durch Tod eines Partners</td>\n",
       "<td class=val></td></tr><tr class=odd><td class=val><a href=\"https://ld.stadt-zuerich.ch/statistics/measure/AGT\" target=\"_other\">https://ld.stadt-zuerich.ch/statistics/measure/AGT</a></td>\n",
       "<td class=val>Agglomerationstyp</td>\n",
       "<td class=val><a href=\"https://ld.stadt-zuerich.ch/statistics/unit/klasse\" target=\"_other\">https://ld.stadt-zuerich.ch/statistics/unit/klasse</a></td>\n",
       "<td class=val>Unterscheidung von Kernstadt, Hauptkern, Nebenkern, Agglomerationsgürtelgemeinde</td>\n",
       "<td class=val>Die Agglomeration Zürich besteht aus 150 Gemeinden und sie wird unterteilt in eine Kernstadt (Stadt Zürich), einen Hauptkern (31 Gemeinden), einen Nebenkern (32 Gemeinden) sowie in einen Agglomerationsgürtel (86 Gemeinden). Die Kernstadt gilt als Teil des Hauptkerns. Agglomerationen müssen sowohl über einen dichten Kern verfügen als auch eine bestimmte Grösse erreichen.</td></tr><tr class=even><td class=val><a href=\"https://ld.stadt-zuerich.ch/statistics/measure/ALQ\" target=\"_other\">https://ld.stadt-zuerich.ch/statistics/measure/ALQ</a></td>\n",
       "<td class=val>Arbeitslosenquote</td>\n",
       "<td class=val><a href=\"https://ld.stadt-zuerich.ch/statistics/unit/prozent\" target=\"_other\">https://ld.stadt-zuerich.ch/statistics/unit/prozent</a></td>\n",
       "<td class=val>Arbeitslosenquote</td>\n",
       "<td class=val>Die Arbeitslosenquote berechnet sich aufgrund der aktuellen Arbeitslosenzahlen dividiert durch die Erwerbspersonen gemäss der Volkszählung 2010. Zu den Erwerbspersonen zählen Erwerbstätige und Erwerbslose.</td></tr><tr class=odd><td class=val><a href=\"https://ld.stadt-zuerich.ch/statistics/measure/ANK\" target=\"_other\">https://ld.stadt-zuerich.ch/statistics/measure/ANK</a></td>\n",
       "<td class=val>Ankünfte von Personen</td>\n",
       "<td class=val><a href=\"https://ld.stadt-zuerich.ch/statistics/unit/personen\" target=\"_other\">https://ld.stadt-zuerich.ch/statistics/unit/personen</a></td>\n",
       "<td class=val>Anzahl Ankünfte von Personen</td>\n",
       "<td class=val></td></tr><tr class=even><td class=val><a href=\"https://ld.stadt-zuerich.ch/statistics/measure/ANR\" target=\"_other\">https://ld.stadt-zuerich.ch/statistics/measure/ANR</a></td>\n",
       "<td class=val>Anrufe</td>\n",
       "<td class=val><a href=\"https://ld.stadt-zuerich.ch/statistics/unit/anrufe\" target=\"_other\">https://ld.stadt-zuerich.ch/statistics/unit/anrufe</a></td>\n",
       "<td class=val>Anrufe (Notrufe)</td>\n",
       "<td class=val></td></tr><tr class=odd><td class=val><a href=\"https://ld.stadt-zuerich.ch/statistics/measure/ANT\" target=\"_other\">https://ld.stadt-zuerich.ch/statistics/measure/ANT</a></td>\n",
       "<td class=val>Anteil</td>\n",
       "<td class=val><a href=\"https://ld.stadt-zuerich.ch/statistics/unit/prozent\" target=\"_other\">https://ld.stadt-zuerich.ch/statistics/unit/prozent</a></td>\n",
       "<td class=val>Anteil in Bezug auf (benötigt immer eine Dimension Grundgesamtheit)</td>\n",
       "<td class=val>Anteil in Bezug auf (benötigt immer eine Dimension Grundgesamtheit)</td></tr><tr class=even><td class=val><a href=\"https://ld.stadt-zuerich.ch/statistics/measure/APA\" target=\"_other\">https://ld.stadt-zuerich.ch/statistics/measure/APA</a></td>\n",
       "<td class=val>Anteil nach Partei</td>\n",
       "<td class=val><a href=\"https://ld.stadt-zuerich.ch/statistics/unit/prozent\" target=\"_other\">https://ld.stadt-zuerich.ch/statistics/unit/prozent</a></td>\n",
       "<td class=val>Anteil nach Partei in Prozent</td>\n",
       "<td class=val></td></tr><tr class=odd><td class=val><a href=\"https://ld.stadt-zuerich.ch/statistics/measure/APL\" target=\"_other\">https://ld.stadt-zuerich.ch/statistics/measure/APL</a></td>\n",
       "<td class=val>Arbeitsplätze</td>\n",
       "<td class=val><a href=\"https://ld.stadt-zuerich.ch/statistics/unit/anzahl\" target=\"_other\">https://ld.stadt-zuerich.ch/statistics/unit/anzahl</a></td>\n",
       "<td class=val>Anzahl Arbeitsplätze (Anzahl Beschäftigte mit vertraglich vereinbarter Arbeitstätigkeit &gt; 6h/Woche)</td>\n",
       "<td class=val></td></tr><tr class=even><td class=val><a href=\"https://ld.stadt-zuerich.ch/statistics/measure/ASL\" target=\"_other\">https://ld.stadt-zuerich.ch/statistics/measure/ASL</a></td>\n",
       "<td class=val>Anschlussleitungen</td>\n",
       "<td class=val><a href=\"https://ld.stadt-zuerich.ch/statistics/unit/leitung\" target=\"_other\">https://ld.stadt-zuerich.ch/statistics/unit/leitung</a></td>\n",
       "<td class=val>Anzahl Anschlussleitungen</td>\n",
       "<td class=val></td></tr><tr class=odd><td class=val><a href=\"https://ld.stadt-zuerich.ch/statistics/measure/AST\" target=\"_other\">https://ld.stadt-zuerich.ch/statistics/measure/AST</a></td>\n",
       "<td class=val>Arbeitsstätten</td>\n",
       "<td class=val><a href=\"https://ld.stadt-zuerich.ch/statistics/unit/arbeitsstaette\" target=\"_other\">https://ld.stadt-zuerich.ch/statistics/unit/arbeitsstaette</a></td>\n",
       "<td class=val>Anzahl Arbeitsstätten</td>\n",
       "<td class=val>Eine Arbeitsstätte ist eine örtlich abgegrenzte Einheit, in welcher mindestens 20 Stunden pro Woche gearbeitet wird. Die Begriffe «Arbeitsstätten» und «Betriebe» werden synonym verwendet.</td></tr><tr class=even><td class=val><a href=\"https://ld.stadt-zuerich.ch/statistics/measure/AUD\" target=\"_other\">https://ld.stadt-zuerich.ch/statistics/measure/AUD</a></td>\n",
       "<td class=val>Aufenthaltsdauer in Tagen</td>\n",
       "<td class=val><a href=\"https://ld.stadt-zuerich.ch/statistics/unit/tage\" target=\"_other\">https://ld.stadt-zuerich.ch/statistics/unit/tage</a></td>\n",
       "<td class=val>Aufenthaltsdauer in Tagen</td>\n",
       "<td class=val>Die durchschnittliche Aufenthaltsdauer in einem Betrieb errechnet sich aus der Anzahl Logiernächte dividiert durch die Anzahl Ankünfte.</td></tr><tr class=odd><td class=val><a href=\"https://ld.stadt-zuerich.ch/statistics/measure/AUF\" target=\"_other\">https://ld.stadt-zuerich.ch/statistics/measure/AUF</a></td>\n",
       "<td class=val>Auflage</td>\n",
       "<td class=val><a href=\"https://ld.stadt-zuerich.ch/statistics/unit/exemplare\" target=\"_other\">https://ld.stadt-zuerich.ch/statistics/unit/exemplare</a></td>\n",
       "<td class=val>Auflagegrösse (Anzahl Exemplare) von Zeitungen oder Publikationen</td>\n",
       "<td class=val></td></tr><tr class=even><td class=val><a href=\"https://ld.stadt-zuerich.ch/statistics/measure/AUG\" target=\"_other\">https://ld.stadt-zuerich.ch/statistics/measure/AUG</a></td>\n",
       "<td class=val>Aufgelöste Partnerschaften</td>\n",
       "<td class=val><a href=\"https://ld.stadt-zuerich.ch/statistics/unit/aufloesungen\" target=\"_other\">https://ld.stadt-zuerich.ch/statistics/unit/aufloesungen</a></td>\n",
       "<td class=val>Anzahl aufgelöste Partnerschaften</td>\n",
       "<td class=val></td></tr></table><div class=\"tinfo\">Total: 287, Shown: 20</div></div>"
      ]
     },
     "metadata": {},
     "output_type": "display_data"
    }
   ],
   "source": [
    ">SPARQL\n",
    "PREFIX rdfs: <http://www.w3.org/2000/01/rdf-schema#>\n",
    "PREFIX qudt: <http://qudt.org/schema/qudt#>\n",
    "PREFIX qb: <http://purl.org/linked-data/cube#>\n",
    "PREFIX skos: <http://www.w3.org/2004/02/skos/core#>\n",
    "\n",
    "SELECT ?measure ?label ?unit ?comment ?note\n",
    "FROM <https://linked.opendata.swiss/graph/zh/statistics>\n",
    "WHERE {\n",
    "    ?measure a qb:MeasureProperty;\n",
    "        rdfs:label ?label;\n",
    "        qudt:unit ?unit;\n",
    "        rdfs:comment ?comment.\n",
    "    OPTIONAL{?measure skos:scopeNote ?note}\n",
    "} \n",
    "ORDER BY ?measure"
   ]
  },
  {
   "cell_type": "markdown",
   "metadata": {},
   "source": [
    "### 4.7.1 Explanation\n",
    "Important to consider in this query is that not every measure defines a skos:scopeNote! As a result we have to use OPTIONAL or else only measures will be matched that have such a scopeNote (measures without one would be omitted in the results). OPTIONAL tells SELECT that if such a note exists, please match it or else proceed normally. \n",
    "\n",
    "Note that the DataCube model also offers the relation **qb:measure** to access the MeasureProperties, but only with qb:SliceKey and qb:ComponentSpecification as the subject (see the diagram in section [3.3](#Concepts-of-the-RDF-Data-Cube)). To select specific Kennzahlen, one could do the following:\n",
    "* use the absolute URI as relation:<br> \n",
    "```?sub <https://ld.stadt-zuerich.ch/statistics/measure/<measure>> ?measure```\n",
    "* use the relative URI as relation (with the respective PREFIX defined):<br> \n",
    "```?sub measure:<measure> ?measure```"
   ]
  },
  {
   "cell_type": "markdown",
   "metadata": {},
   "source": [
    "## 4.8 Example Query: Groups and dimensions\n",
    "As explained in section [3.3](#Concepts-of-the-RDF-Data-Cube), the groups or dimensions of the statistical data are mapped to qb:DimensionProperty. With this very intuitive query all those properties are extracted with their label:"
   ]
  },
  {
   "cell_type": "code",
   "execution_count": 61,
   "metadata": {
    "scrolled": true
   },
   "outputs": [
    {
     "data": {
      "text/html": [
       "<div class=\"krn-spql\"><table><tr class=hdr><th>dimension</th>\n",
       "<th>label</th></tr><tr class=odd><td class=val><a href=\"https://ld.stadt-zuerich.ch/statistics/property/ABG\" target=\"_other\">https://ld.stadt-zuerich.ch/statistics/property/ABG</a></td>\n",
       "<td class=val>Arbeitslosengrad</td></tr><tr class=even><td class=val><a href=\"https://ld.stadt-zuerich.ch/statistics/property/ABT\" target=\"_other\">https://ld.stadt-zuerich.ch/statistics/property/ABT</a></td>\n",
       "<td class=val>Abteilung</td></tr><tr class=odd><td class=val><a href=\"https://ld.stadt-zuerich.ch/statistics/property/ALF\" target=\"_other\">https://ld.stadt-zuerich.ch/statistics/property/ALF</a></td>\n",
       "<td class=val>Alter der Frau</td></tr><tr class=even><td class=val><a href=\"https://ld.stadt-zuerich.ch/statistics/property/ALM\" target=\"_other\">https://ld.stadt-zuerich.ch/statistics/property/ALM</a></td>\n",
       "<td class=val>Alter des Mannes</td></tr><tr class=odd><td class=val><a href=\"https://ld.stadt-zuerich.ch/statistics/property/ALT\" target=\"_other\">https://ld.stadt-zuerich.ch/statistics/property/ALT</a></td>\n",
       "<td class=val>Alter</td></tr><tr class=even><td class=val><a href=\"https://ld.stadt-zuerich.ch/statistics/property/AMP\" target=\"_other\">https://ld.stadt-zuerich.ch/statistics/property/AMP</a></td>\n",
       "<td class=val>Amtsperiode</td></tr><tr class=odd><td class=val><a href=\"https://ld.stadt-zuerich.ch/statistics/property/ARA\" target=\"_other\">https://ld.stadt-zuerich.ch/statistics/property/ARA</a></td>\n",
       "<td class=val>Arbeitsart</td></tr><tr class=even><td class=val><a href=\"https://ld.stadt-zuerich.ch/statistics/property/ARO\" target=\"_other\">https://ld.stadt-zuerich.ch/statistics/property/ARO</a></td>\n",
       "<td class=val>Arbeits-/Schulort</td></tr><tr class=odd><td class=val><a href=\"https://ld.stadt-zuerich.ch/statistics/property/ART\" target=\"_other\">https://ld.stadt-zuerich.ch/statistics/property/ART</a></td>\n",
       "<td class=val>Artikel</td></tr><tr class=even><td class=val><a href=\"https://ld.stadt-zuerich.ch/statistics/property/ASM\" target=\"_other\">https://ld.stadt-zuerich.ch/statistics/property/ASM</a></td>\n",
       "<td class=val>Ein- und Ausstiegsmöhlichkeit</td></tr><tr class=odd><td class=val><a href=\"https://ld.stadt-zuerich.ch/statistics/property/ATG\" target=\"_other\">https://ld.stadt-zuerich.ch/statistics/property/ATG</a></td>\n",
       "<td class=val>Auftraggeber</td></tr><tr class=even><td class=val><a href=\"https://ld.stadt-zuerich.ch/statistics/property/AUA\" target=\"_other\">https://ld.stadt-zuerich.ch/statistics/property/AUA</a></td>\n",
       "<td class=val>Aufenthaltsart</td></tr><tr class=odd><td class=val><a href=\"https://ld.stadt-zuerich.ch/statistics/property/AUD\" target=\"_other\">https://ld.stadt-zuerich.ch/statistics/property/AUD</a></td>\n",
       "<td class=val>Aufenthaltsdauer</td></tr><tr class=even><td class=val><a href=\"https://ld.stadt-zuerich.ch/statistics/property/AUS\" target=\"_other\">https://ld.stadt-zuerich.ch/statistics/property/AUS</a></td>\n",
       "<td class=val>Höchste abgeschlossene Ausbildung</td></tr><tr class=odd><td class=val><a href=\"https://ld.stadt-zuerich.ch/statistics/property/BAI\" target=\"_other\">https://ld.stadt-zuerich.ch/statistics/property/BAI</a></td>\n",
       "<td class=val>Börsenaktienindizes</td></tr><tr class=even><td class=val><a href=\"https://ld.stadt-zuerich.ch/statistics/property/BAJ\" target=\"_other\">https://ld.stadt-zuerich.ch/statistics/property/BAJ</a></td>\n",
       "<td class=val>Basisjahr Indexberechnung</td></tr><tr class=odd><td class=val><a href=\"https://ld.stadt-zuerich.ch/statistics/property/BAP\" target=\"_other\">https://ld.stadt-zuerich.ch/statistics/property/BAP</a></td>\n",
       "<td class=val>Bauperiode</td></tr><tr class=even><td class=val><a href=\"https://ld.stadt-zuerich.ch/statistics/property/BBA\" target=\"_other\">https://ld.stadt-zuerich.ch/statistics/property/BBA</a></td>\n",
       "<td class=val>Bodenbedeckungsart</td></tr><tr class=odd><td class=val><a href=\"https://ld.stadt-zuerich.ch/statistics/property/BBV\" target=\"_other\">https://ld.stadt-zuerich.ch/statistics/property/BBV</a></td>\n",
       "<td class=val>Betriebsbereite Velos</td></tr><tr class=even><td class=val><a href=\"https://ld.stadt-zuerich.ch/statistics/property/BEA\" target=\"_other\">https://ld.stadt-zuerich.ch/statistics/property/BEA</a></td>\n",
       "<td class=val>Betreibungsart</td></tr></table><div class=\"tinfo\">Total: 202, Shown: 20</div></div>"
      ]
     },
     "metadata": {},
     "output_type": "display_data"
    }
   ],
   "source": [
    ">SPARQL\n",
    "PREFIX rdfs: <http://www.w3.org/2000/01/rdf-schema#>\n",
    "PREFIX qb: <http://purl.org/linked-data/cube#>\n",
    "\n",
    "SELECT ?dimension ?label \n",
    "FROM <https://linked.opendata.swiss/graph/zh/statistics>\n",
    "WHERE {\n",
    "    ?dimension a qb:DimensionProperty;\n",
    "        rdfs:label ?label;\n",
    "} \n",
    "ORDER BY ?dimension"
   ]
  },
  {
   "cell_type": "markdown",
   "metadata": {},
   "source": [
    "### 4.8.1 Explanation\n",
    "Note that the DataCube model also offers the relation **qb:dimension** to access the DimensionProperties, but only with qb:SliceKey and qb:ComponentSpecification as the subject (see the diagram in section [3.3](#Concepts-of-the-RDF-Data-Cube)). To select specific dimensions, one could do the following (see also the next example):\n",
    "* use the absolute URI as relation:<br> \n",
    "```?sub <https://ld.stadt-zuerich.ch/statistics/property/<dimension>> ?dimension```\n",
    "* use the relative URI as relation (with the respective PREFIX defined):<br> \n",
    "```?sub property:<dimension> ?dimension```"
   ]
  },
  {
   "cell_type": "markdown",
   "metadata": {},
   "source": [
    "## 4.9 Example Query: DataSets of specific dimensions\n",
    "As explained in section [3.3](#Concepts-of-the-RDF-Data-Cube), groups or dimensions of the statistical data are accessed through the node https://ld.stadt-zuerich.ch/statistics/property/. If we want to query all DataSets of particular dimensions, we can do this by asking for the property relation as follows. An example is given with property:SEX where all observations of the resulting DataSets are counted:"
   ]
  },
  {
   "cell_type": "code",
   "execution_count": 62,
   "metadata": {},
   "outputs": [
    {
     "data": {
      "text/html": [
       "<div class=\"krn-spql\"><table><tr class=hdr><th>dataset</th>\n",
       "<th>observations</th></tr><tr class=odd><td class=val><a href=\"https://ld.stadt-zuerich.ch/statistics/dataset/BEW-RAUM-ZEIT-HEL-SEX\" target=\"_other\">https://ld.stadt-zuerich.ch/statistics/dataset/BEW-RAUM-ZEIT-HEL-SEX</a></td>\n",
       "<td class=val>11276</td></tr><tr class=even><td class=val><a href=\"https://ld.stadt-zuerich.ch/statistics/dataset/BEW-RAUM-ZEIT-ALT-HEL-SEX\" target=\"_other\">https://ld.stadt-zuerich.ch/statistics/dataset/BEW-RAUM-ZEIT-ALT-HEL-SEX</a></td>\n",
       "<td class=val>7928</td></tr><tr class=odd><td class=val><a href=\"https://ld.stadt-zuerich.ch/statistics/dataset/BEW-RAUM-ZEIT-SEX\" target=\"_other\">https://ld.stadt-zuerich.ch/statistics/dataset/BEW-RAUM-ZEIT-SEX</a></td>\n",
       "<td class=val>5162</td></tr><tr class=even><td class=val><a href=\"https://ld.stadt-zuerich.ch/statistics/dataset/BEW-RAUM-ZEIT-ALT-SEX\" target=\"_other\">https://ld.stadt-zuerich.ch/statistics/dataset/BEW-RAUM-ZEIT-ALT-SEX</a></td>\n",
       "<td class=val>3964</td></tr><tr class=odd><td class=val><a href=\"https://ld.stadt-zuerich.ch/statistics/dataset/BEW-RAUM-ZEIT-HEL-KON-SEX\" target=\"_other\">https://ld.stadt-zuerich.ch/statistics/dataset/BEW-RAUM-ZEIT-HEL-KON-SEX</a></td>\n",
       "<td class=val>200</td></tr><tr class=even><td class=val><a href=\"https://ld.stadt-zuerich.ch/statistics/dataset/BST-RAUM-ZEIT-HEL-SEX-ZIV\" target=\"_other\">https://ld.stadt-zuerich.ch/statistics/dataset/BST-RAUM-ZEIT-HEL-SEX-ZIV</a></td>\n",
       "<td class=val>152</td></tr><tr class=odd><td class=val><a href=\"https://ld.stadt-zuerich.ch/statistics/dataset/BES-RAUM-ZEIT-BTA-SEX\" target=\"_other\">https://ld.stadt-zuerich.ch/statistics/dataset/BES-RAUM-ZEIT-BTA-SEX</a></td>\n",
       "<td class=val>104</td></tr><tr class=even><td class=val><a href=\"https://ld.stadt-zuerich.ch/statistics/dataset/ZUS-RAUM-ZEIT-BTA-SEX\" target=\"_other\">https://ld.stadt-zuerich.ch/statistics/dataset/ZUS-RAUM-ZEIT-BTA-SEX</a></td>\n",
       "<td class=val>104</td></tr><tr class=odd><td class=val><a href=\"https://ld.stadt-zuerich.ch/statistics/dataset/BST-RAUM-ZEIT-SEX-ZIV\" target=\"_other\">https://ld.stadt-zuerich.ch/statistics/dataset/BST-RAUM-ZEIT-SEX-ZIV</a></td>\n",
       "<td class=val>76</td></tr><tr class=even><td class=val><a href=\"https://ld.stadt-zuerich.ch/statistics/dataset/AVA-RAUM-ZEIT-GGH-HEL-SEX\" target=\"_other\">https://ld.stadt-zuerich.ch/statistics/dataset/AVA-RAUM-ZEIT-GGH-HEL-SEX</a></td>\n",
       "<td class=val>48</td></tr><tr class=odd><td class=val><a href=\"https://ld.stadt-zuerich.ch/statistics/dataset/BST-RAUM-ZEIT-HEL-SEX\" target=\"_other\">https://ld.stadt-zuerich.ch/statistics/dataset/BST-RAUM-ZEIT-HEL-SEX</a></td>\n",
       "<td class=val>36</td></tr><tr class=even><td class=val><a href=\"https://ld.stadt-zuerich.ch/statistics/dataset/AVA-RAUM-ZEIT-GGH-SEX\" target=\"_other\">https://ld.stadt-zuerich.ch/statistics/dataset/AVA-RAUM-ZEIT-GGH-SEX</a></td>\n",
       "<td class=val>24</td></tr><tr class=odd><td class=val><a href=\"https://ld.stadt-zuerich.ch/statistics/dataset/BST-RAUM-ZEIT-SEX\" target=\"_other\">https://ld.stadt-zuerich.ch/statistics/dataset/BST-RAUM-ZEIT-SEX</a></td>\n",
       "<td class=val>18</td></tr></table><div class=\"tinfo\">Total: 13, Shown: 13</div></div>"
      ]
     },
     "metadata": {},
     "output_type": "display_data"
    }
   ],
   "source": [
    ">SPARQL\n",
    "PREFIX qb: <http://purl.org/linked-data/cube#>\n",
    "PREFIX property: <https://ld.stadt-zuerich.ch/statistics/property/>\n",
    "\n",
    "SELECT ?dataset (COUNT(DISTINCT ?sub) AS ?observations) \n",
    "FROM <https://linked.opendata.swiss/graph/zh/statistics>\n",
    "WHERE {\n",
    "    ?sub a qb:Observation;\n",
    "        qb:dataSet ?dataset;\n",
    "        property:SEX ?code.\n",
    "} \n",
    "GROUP BY ?dataset\n",
    "ORDER BY DESC(?observations)"
   ]
  },
  {
   "cell_type": "markdown",
   "metadata": {},
   "source": [
    "### 4.9.1 Explanation\n",
    "COUNT counts all the subjects that fulfill these statements where the last statement requires the subject to have a particular dimension SEX. GROUP BY is always necessary for COUNT."
   ]
  },
  {
   "cell_type": "markdown",
   "metadata": {},
   "source": [
    "## 4.10 Example Query: Metadata and attributes\n",
    "As explained in section [3.3](#Concepts-of-the-RDF-Data-Cube), the primary metadata of the statistical data is mapped to qb:AttributeProperty. With this very intuitive query all those properties are extracted with their label:"
   ]
  },
  {
   "cell_type": "code",
   "execution_count": 63,
   "metadata": {
    "scrolled": true
   },
   "outputs": [
    {
     "data": {
      "text/html": [
       "<div class=\"krn-spql\"><table><tr class=hdr><th>attribute</th>\n",
       "<th>label</th></tr><tr class=odd><td class=val><a href=\"https://ld.stadt-zuerich.ch/schema/korrektur\" target=\"_other\">https://ld.stadt-zuerich.ch/schema/korrektur</a></td>\n",
       "<td class=val>Wert ist korrigiert</td></tr><tr class=even><td class=val><a href=\"https://ld.stadt-zuerich.ch/schema/lastUpdate\" target=\"_other\">https://ld.stadt-zuerich.ch/schema/lastUpdate</a></td>\n",
       "<td class=val>Letzte Aktuallisierung</td></tr><tr class=odd><td class=val><a href=\"https://ld.stadt-zuerich.ch/schema/nextUpdate\" target=\"_other\">https://ld.stadt-zuerich.ch/schema/nextUpdate</a></td>\n",
       "<td class=val>Nächste Aktuallisierung</td></tr><tr class=even><td class=val><a href=\"https://ld.stadt-zuerich.ch/statistics/attribute/DATENSTAND\" target=\"_other\">https://ld.stadt-zuerich.ch/statistics/attribute/DATENSTAND</a></td>\n",
       "<td class=val>Datenstand</td></tr><tr class=odd><td class=val><a href=\"https://ld.stadt-zuerich.ch/statistics/attribute/ERWARTETE_AKTUALISIERUNG\" target=\"_other\">https://ld.stadt-zuerich.ch/statistics/attribute/ERWARTETE_AKTUALISIERUNG</a></td>\n",
       "<td class=val>Erwartete Aktualisierung</td></tr><tr class=even><td class=val><a href=\"https://ld.stadt-zuerich.ch/statistics/attribute/FUSSNOTE\" target=\"_other\">https://ld.stadt-zuerich.ch/statistics/attribute/FUSSNOTE</a></td>\n",
       "<td class=val>Fussnote</td></tr><tr class=odd><td class=val><a href=\"https://ld.stadt-zuerich.ch/statistics/attribute/GLOSSAR\" target=\"_other\">https://ld.stadt-zuerich.ch/statistics/attribute/GLOSSAR</a></td>\n",
       "<td class=val>Glossar</td></tr><tr class=even><td class=val><a href=\"https://ld.stadt-zuerich.ch/statistics/attribute/KORREKTUR\" target=\"_other\">https://ld.stadt-zuerich.ch/statistics/attribute/KORREKTUR</a></td>\n",
       "<td class=val>Korrektur</td></tr><tr class=odd><td class=val><a href=\"https://ld.stadt-zuerich.ch/statistics/attribute/QUELLE\" target=\"_other\">https://ld.stadt-zuerich.ch/statistics/attribute/QUELLE</a></td>\n",
       "<td class=val>Quelle</td></tr><tr class=even><td class=val><a href=\"https://ld.stadt-zuerich.ch/statistics/attribute/UPDATE\" target=\"_other\">https://ld.stadt-zuerich.ch/statistics/attribute/UPDATE</a></td>\n",
       "<td class=val>Update</td></tr></table><div class=\"tinfo\">Total: 10, Shown: 10</div></div>"
      ]
     },
     "metadata": {},
     "output_type": "display_data"
    }
   ],
   "source": [
    ">SPARQL\n",
    "PREFIX rdfs: <http://www.w3.org/2000/01/rdf-schema#>\n",
    "PREFIX qb: <http://purl.org/linked-data/cube#>\n",
    "\n",
    "SELECT * \n",
    "FROM <https://linked.opendata.swiss/graph/zh/statistics>\n",
    "WHERE {\n",
    "    ?attribute a qb:AttributeProperty;\n",
    "        rdfs:label ?label;\n",
    "} \n",
    "ORDER BY ?attribute"
   ]
  },
  {
   "cell_type": "markdown",
   "metadata": {},
   "source": [
    "### 4.10.1 Explanation\n",
    "Note that the DataCube model also offers the relation **qb:attribute** to access the AttributeProperties, but only with qb:SliceKey and qb:ComponentSpecification as the subject (see the diagram in section [3.3](#Concepts-of-the-RDF-Data-Cube)). To select specific attributes, one could do the following:\n",
    "* use the absolute URI as relation:<br> \n",
    "```?sub <https://ld.stadt-zuerich.ch/statistics/attribute/<attribute>> ?attribute```\n",
    "* use the relative URI as relation (with the respective PREFIX defined):<br> \n",
    "```?sub attribute:<attribute> ?attribute```\n",
    "\n",
    "See section [4.19](#-Example-Query:-Metadata) and [4.20](#-Example-Query:-more-Metadata) for more examples on metadata."
   ]
  },
  {
   "cell_type": "markdown",
   "metadata": {},
   "source": [
    "## 4.11 Example Query: Groupcodes\n",
    "As explained in section [3.3](#Concepts-of-the-RDF-Data-Cube) and [3.4](#Other-important-concepts), the Groupcodes of the statistical data are mapped to skos:Concept. With this very intuitive query all those codes are extracted with their label:"
   ]
  },
  {
   "cell_type": "code",
   "execution_count": 64,
   "metadata": {},
   "outputs": [
    {
     "data": {
      "text/html": [
       "<div class=\"krn-spql\"><table><tr class=hdr><th>code</th>\n",
       "<th>label</th></tr><tr class=odd><td class=val><a href=\"https://ld.stadt-zuerich.ch/statistics/code/%20Ausserhalb%20von%20Agglomeration\" target=\"_other\">https://ld.stadt-zuerich.ch/statistics/code/%20Ausserhalb%20von%20Agglomeration</a></td>\n",
       "<td class=val> Ausserhalb von Agglomeration</td></tr><tr class=even><td class=val><a href=\"https://ld.stadt-zuerich.ch/statistics/code/ABG1100\" target=\"_other\">https://ld.stadt-zuerich.ch/statistics/code/ABG1100</a></td>\n",
       "<td class=val>Vollzeitarbeitslos</td></tr><tr class=odd><td class=val><a href=\"https://ld.stadt-zuerich.ch/statistics/code/ABG1200\" target=\"_other\">https://ld.stadt-zuerich.ch/statistics/code/ABG1200</a></td>\n",
       "<td class=val>Teilzeitarbeitslos</td></tr><tr class=even><td class=val><a href=\"https://ld.stadt-zuerich.ch/statistics/code/ABT1000\" target=\"_other\">https://ld.stadt-zuerich.ch/statistics/code/ABT1000</a></td>\n",
       "<td class=val>Direktion, Stab, Finanzen, Personal</td></tr><tr class=odd><td class=val><a href=\"https://ld.stadt-zuerich.ch/statistics/code/ABT2000\" target=\"_other\">https://ld.stadt-zuerich.ch/statistics/code/ABT2000</a></td>\n",
       "<td class=val>Markt (Verkauf, Marketing)</td></tr><tr class=even><td class=val><a href=\"https://ld.stadt-zuerich.ch/statistics/code/ABT3000\" target=\"_other\">https://ld.stadt-zuerich.ch/statistics/code/ABT3000</a></td>\n",
       "<td class=val>Betrieb (inklusive Fahrdienst)</td></tr><tr class=odd><td class=val><a href=\"https://ld.stadt-zuerich.ch/statistics/code/ABT4000\" target=\"_other\">https://ld.stadt-zuerich.ch/statistics/code/ABT4000</a></td>\n",
       "<td class=val>Technik</td></tr><tr class=even><td class=val><a href=\"https://ld.stadt-zuerich.ch/statistics/code/ABT5000\" target=\"_other\">https://ld.stadt-zuerich.ch/statistics/code/ABT5000</a></td>\n",
       "<td class=val>Infrastruktur</td></tr><tr class=odd><td class=val><a href=\"https://ld.stadt-zuerich.ch/statistics/code/ABT6000\" target=\"_other\">https://ld.stadt-zuerich.ch/statistics/code/ABT6000</a></td>\n",
       "<td class=val>Lehrlinge</td></tr><tr class=even><td class=val><a href=\"https://ld.stadt-zuerich.ch/statistics/code/ALF0505\" target=\"_other\">https://ld.stadt-zuerich.ch/statistics/code/ALF0505</a></td>\n",
       "<td class=val>Frau 20–24 Jahre alt</td></tr><tr class=odd><td class=val><a href=\"https://ld.stadt-zuerich.ch/statistics/code/ALF0506\" target=\"_other\">https://ld.stadt-zuerich.ch/statistics/code/ALF0506</a></td>\n",
       "<td class=val>Frau 25–29 Jahre alt</td></tr><tr class=even><td class=val><a href=\"https://ld.stadt-zuerich.ch/statistics/code/ALF0507\" target=\"_other\">https://ld.stadt-zuerich.ch/statistics/code/ALF0507</a></td>\n",
       "<td class=val>Frau 30–34 Jahre alt</td></tr><tr class=odd><td class=val><a href=\"https://ld.stadt-zuerich.ch/statistics/code/ALF0508\" target=\"_other\">https://ld.stadt-zuerich.ch/statistics/code/ALF0508</a></td>\n",
       "<td class=val>Frau 35–39 Jahre alt</td></tr><tr class=even><td class=val><a href=\"https://ld.stadt-zuerich.ch/statistics/code/ALF0509\" target=\"_other\">https://ld.stadt-zuerich.ch/statistics/code/ALF0509</a></td>\n",
       "<td class=val>Frau 40–44 Jahre alt</td></tr><tr class=odd><td class=val><a href=\"https://ld.stadt-zuerich.ch/statistics/code/ALF0510\" target=\"_other\">https://ld.stadt-zuerich.ch/statistics/code/ALF0510</a></td>\n",
       "<td class=val>Frau 45–49 Jahre alt</td></tr><tr class=even><td class=val><a href=\"https://ld.stadt-zuerich.ch/statistics/code/ALF0511\" target=\"_other\">https://ld.stadt-zuerich.ch/statistics/code/ALF0511</a></td>\n",
       "<td class=val>Frau 50–54 Jahre alt</td></tr><tr class=odd><td class=val><a href=\"https://ld.stadt-zuerich.ch/statistics/code/ALF0512\" target=\"_other\">https://ld.stadt-zuerich.ch/statistics/code/ALF0512</a></td>\n",
       "<td class=val>Frau 55–59 Jahre alt</td></tr><tr class=even><td class=val><a href=\"https://ld.stadt-zuerich.ch/statistics/code/ALF1006\" target=\"_other\">https://ld.stadt-zuerich.ch/statistics/code/ALF1006</a></td>\n",
       "<td class=val>Frau 50–59 Jahre alt</td></tr><tr class=odd><td class=val><a href=\"https://ld.stadt-zuerich.ch/statistics/code/ALF8020\" target=\"_other\">https://ld.stadt-zuerich.ch/statistics/code/ALF8020</a></td>\n",
       "<td class=val>Frau unter 20 Jahre alt</td></tr><tr class=even><td class=val><a href=\"https://ld.stadt-zuerich.ch/statistics/code/ALF8025\" target=\"_other\">https://ld.stadt-zuerich.ch/statistics/code/ALF8025</a></td>\n",
       "<td class=val>Frau unter 25 Jahre alt</td></tr></table><div class=\"tinfo\">Total: 96862, Shown: 20</div></div>"
      ]
     },
     "metadata": {},
     "output_type": "display_data"
    }
   ],
   "source": [
    ">SPARQL\n",
    "PREFIX qb: <http://purl.org/linked-data/cube#>                                                                                                                   \n",
    "PREFIX skos: <http://www.w3.org/2004/02/skos/core#>                                                              \n",
    "PREFIX rdfs: <http://www.w3.org/2000/01/rdf-schema#>                   \n",
    "\n",
    "SELECT ?code ?label \n",
    "FROM <https://linked.opendata.swiss/graph/zh/statistics>\n",
    "WHERE{  \n",
    "    ?code a skos:Concept;\n",
    "        rdfs:label ?label.\n",
    "}\n",
    "ORDER BY ?code"
   ]
  },
  {
   "cell_type": "markdown",
   "metadata": {},
   "source": [
    "### 4.11.1 Explanation\n",
    "skos:Concept is explained in section [3.4](#3.4-Other-important-concepts)!"
   ]
  },
  {
   "cell_type": "markdown",
   "metadata": {},
   "source": [
    "## 4.12 Example Query: Hierarchy of Groupcodes\n",
    "Most codes have hierarchies as explained in section [3.4](#Other-important-concepts). We have to consider that there are two types of hierarchies: skos:broader and skos:narrower. To extract all of them, our query requires a UNION of subqueries - one for each type of hierarchy - to match both to the same variable ?hierarchy:"
   ]
  },
  {
   "cell_type": "code",
   "execution_count": 65,
   "metadata": {},
   "outputs": [
    {
     "data": {
      "text/html": [
       "<div class=\"krn-spql\"><table><tr class=hdr><th>code</th>\n",
       "<th>labelcode</th>\n",
       "<th>pred</th>\n",
       "<th>hierarchy</th>\n",
       "<th>labelhierarchy</th></tr><tr class=odd><td class=val><a href=\"https://ld.stadt-zuerich.ch/statistics/code/%20Ausserhalb%20von%20Agglomeration\" target=\"_other\">https://ld.stadt-zuerich.ch/statistics/code/%20Ausserhalb%20von%20Agglomeration</a></td>\n",
       "<td class=val> Ausserhalb von Agglomeration</td>\n",
       "<td class=val><a href=\"http://www.w3.org/2004/02/skos/core#broader\" target=\"_other\">http://www.w3.org/2004/02/skos/core#broader</a></td>\n",
       "<td class=val><a href=\"https://ld.stadt-zuerich.ch/statistics/code/Land\" target=\"_other\">https://ld.stadt-zuerich.ch/statistics/code/Land</a></td>\n",
       "<td class=val>Land</td></tr><tr class=even><td class=val><a href=\"https://ld.stadt-zuerich.ch/statistics/code/%20Ausserhalb%20von%20Agglomeration\" target=\"_other\">https://ld.stadt-zuerich.ch/statistics/code/%20Ausserhalb%20von%20Agglomeration</a></td>\n",
       "<td class=val> Ausserhalb von Agglomeration</td>\n",
       "<td class=val><a href=\"http://www.w3.org/2004/02/skos/core#narrower\" target=\"_other\">http://www.w3.org/2004/02/skos/core#narrower</a></td>\n",
       "<td class=val><a href=\"https://ld.stadt-zuerich.ch/statistics/code/R4A000\" target=\"_other\">https://ld.stadt-zuerich.ch/statistics/code/R4A000</a></td>\n",
       "<td class=val>keine Agglomerationsgemeinde und keine Kerngemeinde ausserhalb von Agglomerationen</td></tr><tr class=odd><td class=val><a href=\"https://ld.stadt-zuerich.ch/statistics/code/ARA2091\" target=\"_other\">https://ld.stadt-zuerich.ch/statistics/code/ARA2091</a></td>\n",
       "<td class=val>Erstaufnahme</td>\n",
       "<td class=val><a href=\"http://www.w3.org/2004/02/skos/core#broader\" target=\"_other\">http://www.w3.org/2004/02/skos/core#broader</a></td>\n",
       "<td class=val><a href=\"https://ld.stadt-zuerich.ch/statistics/code/ARA2090\" target=\"_other\">https://ld.stadt-zuerich.ch/statistics/code/ARA2090</a></td>\n",
       "<td class=val>Korrekturen</td></tr><tr class=even><td class=val><a href=\"https://ld.stadt-zuerich.ch/statistics/code/ARA2092\" target=\"_other\">https://ld.stadt-zuerich.ch/statistics/code/ARA2092</a></td>\n",
       "<td class=val>Löschung</td>\n",
       "<td class=val><a href=\"http://www.w3.org/2004/02/skos/core#broader\" target=\"_other\">http://www.w3.org/2004/02/skos/core#broader</a></td>\n",
       "<td class=val><a href=\"https://ld.stadt-zuerich.ch/statistics/code/ARA2090\" target=\"_other\">https://ld.stadt-zuerich.ch/statistics/code/ARA2090</a></td>\n",
       "<td class=val>Korrekturen</td></tr><tr class=odd><td class=val><a href=\"https://ld.stadt-zuerich.ch/statistics/code/ARA2093\" target=\"_other\">https://ld.stadt-zuerich.ch/statistics/code/ARA2093</a></td>\n",
       "<td class=val>übrige Korrekuren</td>\n",
       "<td class=val><a href=\"http://www.w3.org/2004/02/skos/core#broader\" target=\"_other\">http://www.w3.org/2004/02/skos/core#broader</a></td>\n",
       "<td class=val><a href=\"https://ld.stadt-zuerich.ch/statistics/code/ARA2090\" target=\"_other\">https://ld.stadt-zuerich.ch/statistics/code/ARA2090</a></td>\n",
       "<td class=val>Korrekturen</td></tr><tr class=even><td class=val><a href=\"https://ld.stadt-zuerich.ch/statistics/code/ART1101\" target=\"_other\">https://ld.stadt-zuerich.ch/statistics/code/ART1101</a></td>\n",
       "<td class=val>Entrecôte (Rind) [1 kg]</td>\n",
       "<td class=val><a href=\"http://www.w3.org/2004/02/skos/core#broader\" target=\"_other\">http://www.w3.org/2004/02/skos/core#broader</a></td>\n",
       "<td class=val><a href=\"https://ld.stadt-zuerich.ch/statistics/code/ART1100\" target=\"_other\">https://ld.stadt-zuerich.ch/statistics/code/ART1100</a></td>\n",
       "<td class=val>Fleisch</td></tr><tr class=odd><td class=val><a href=\"https://ld.stadt-zuerich.ch/statistics/code/ART1102\" target=\"_other\">https://ld.stadt-zuerich.ch/statistics/code/ART1102</a></td>\n",
       "<td class=val>Rindsbraten [1 kg]</td>\n",
       "<td class=val><a href=\"http://www.w3.org/2004/02/skos/core#broader\" target=\"_other\">http://www.w3.org/2004/02/skos/core#broader</a></td>\n",
       "<td class=val><a href=\"https://ld.stadt-zuerich.ch/statistics/code/ART1100\" target=\"_other\">https://ld.stadt-zuerich.ch/statistics/code/ART1100</a></td>\n",
       "<td class=val>Fleisch</td></tr><tr class=even><td class=val><a href=\"https://ld.stadt-zuerich.ch/statistics/code/ART1103\" target=\"_other\">https://ld.stadt-zuerich.ch/statistics/code/ART1103</a></td>\n",
       "<td class=val>Rindsvoressen [1 kg]</td>\n",
       "<td class=val><a href=\"http://www.w3.org/2004/02/skos/core#broader\" target=\"_other\">http://www.w3.org/2004/02/skos/core#broader</a></td>\n",
       "<td class=val><a href=\"https://ld.stadt-zuerich.ch/statistics/code/ART1100\" target=\"_other\">https://ld.stadt-zuerich.ch/statistics/code/ART1100</a></td>\n",
       "<td class=val>Fleisch</td></tr><tr class=odd><td class=val><a href=\"https://ld.stadt-zuerich.ch/statistics/code/ART1104\" target=\"_other\">https://ld.stadt-zuerich.ch/statistics/code/ART1104</a></td>\n",
       "<td class=val>Gehacktes Rindfleisch [1 kg]</td>\n",
       "<td class=val><a href=\"http://www.w3.org/2004/02/skos/core#broader\" target=\"_other\">http://www.w3.org/2004/02/skos/core#broader</a></td>\n",
       "<td class=val><a href=\"https://ld.stadt-zuerich.ch/statistics/code/ART1100\" target=\"_other\">https://ld.stadt-zuerich.ch/statistics/code/ART1100</a></td>\n",
       "<td class=val>Fleisch</td></tr><tr class=even><td class=val><a href=\"https://ld.stadt-zuerich.ch/statistics/code/ART1105\" target=\"_other\">https://ld.stadt-zuerich.ch/statistics/code/ART1105</a></td>\n",
       "<td class=val>Kalbsplätzli [1 kg]</td>\n",
       "<td class=val><a href=\"http://www.w3.org/2004/02/skos/core#broader\" target=\"_other\">http://www.w3.org/2004/02/skos/core#broader</a></td>\n",
       "<td class=val><a href=\"https://ld.stadt-zuerich.ch/statistics/code/ART1100\" target=\"_other\">https://ld.stadt-zuerich.ch/statistics/code/ART1100</a></td>\n",
       "<td class=val>Fleisch</td></tr><tr class=odd><td class=val><a href=\"https://ld.stadt-zuerich.ch/statistics/code/ART1106\" target=\"_other\">https://ld.stadt-zuerich.ch/statistics/code/ART1106</a></td>\n",
       "<td class=val>Kalbsbraten [1 kg]</td>\n",
       "<td class=val><a href=\"http://www.w3.org/2004/02/skos/core#broader\" target=\"_other\">http://www.w3.org/2004/02/skos/core#broader</a></td>\n",
       "<td class=val><a href=\"https://ld.stadt-zuerich.ch/statistics/code/ART1100\" target=\"_other\">https://ld.stadt-zuerich.ch/statistics/code/ART1100</a></td>\n",
       "<td class=val>Fleisch</td></tr><tr class=even><td class=val><a href=\"https://ld.stadt-zuerich.ch/statistics/code/ART1107\" target=\"_other\">https://ld.stadt-zuerich.ch/statistics/code/ART1107</a></td>\n",
       "<td class=val>Kalbsvoressen [1 kg]</td>\n",
       "<td class=val><a href=\"http://www.w3.org/2004/02/skos/core#broader\" target=\"_other\">http://www.w3.org/2004/02/skos/core#broader</a></td>\n",
       "<td class=val><a href=\"https://ld.stadt-zuerich.ch/statistics/code/ART1100\" target=\"_other\">https://ld.stadt-zuerich.ch/statistics/code/ART1100</a></td>\n",
       "<td class=val>Fleisch</td></tr><tr class=odd><td class=val><a href=\"https://ld.stadt-zuerich.ch/statistics/code/ART1108\" target=\"_other\">https://ld.stadt-zuerich.ch/statistics/code/ART1108</a></td>\n",
       "<td class=val>Geschnetzeltes Kalbfleisch [1 kg]</td>\n",
       "<td class=val><a href=\"http://www.w3.org/2004/02/skos/core#broader\" target=\"_other\">http://www.w3.org/2004/02/skos/core#broader</a></td>\n",
       "<td class=val><a href=\"https://ld.stadt-zuerich.ch/statistics/code/ART1100\" target=\"_other\">https://ld.stadt-zuerich.ch/statistics/code/ART1100</a></td>\n",
       "<td class=val>Fleisch</td></tr><tr class=even><td class=val><a href=\"https://ld.stadt-zuerich.ch/statistics/code/ART1109\" target=\"_other\">https://ld.stadt-zuerich.ch/statistics/code/ART1109</a></td>\n",
       "<td class=val>Schweinsplätzli [1 kg]</td>\n",
       "<td class=val><a href=\"http://www.w3.org/2004/02/skos/core#broader\" target=\"_other\">http://www.w3.org/2004/02/skos/core#broader</a></td>\n",
       "<td class=val><a href=\"https://ld.stadt-zuerich.ch/statistics/code/ART1100\" target=\"_other\">https://ld.stadt-zuerich.ch/statistics/code/ART1100</a></td>\n",
       "<td class=val>Fleisch</td></tr><tr class=odd><td class=val><a href=\"https://ld.stadt-zuerich.ch/statistics/code/ART1110\" target=\"_other\">https://ld.stadt-zuerich.ch/statistics/code/ART1110</a></td>\n",
       "<td class=val>Schweinsfilet [1 kg]</td>\n",
       "<td class=val><a href=\"http://www.w3.org/2004/02/skos/core#broader\" target=\"_other\">http://www.w3.org/2004/02/skos/core#broader</a></td>\n",
       "<td class=val><a href=\"https://ld.stadt-zuerich.ch/statistics/code/ART1100\" target=\"_other\">https://ld.stadt-zuerich.ch/statistics/code/ART1100</a></td>\n",
       "<td class=val>Fleisch</td></tr><tr class=even><td class=val><a href=\"https://ld.stadt-zuerich.ch/statistics/code/ART1111\" target=\"_other\">https://ld.stadt-zuerich.ch/statistics/code/ART1111</a></td>\n",
       "<td class=val>Schweinskoteletts [1 kg]</td>\n",
       "<td class=val><a href=\"http://www.w3.org/2004/02/skos/core#broader\" target=\"_other\">http://www.w3.org/2004/02/skos/core#broader</a></td>\n",
       "<td class=val><a href=\"https://ld.stadt-zuerich.ch/statistics/code/ART1100\" target=\"_other\">https://ld.stadt-zuerich.ch/statistics/code/ART1100</a></td>\n",
       "<td class=val>Fleisch</td></tr><tr class=odd><td class=val><a href=\"https://ld.stadt-zuerich.ch/statistics/code/ART1112\" target=\"_other\">https://ld.stadt-zuerich.ch/statistics/code/ART1112</a></td>\n",
       "<td class=val>Schweinsbraten [1 kg]</td>\n",
       "<td class=val><a href=\"http://www.w3.org/2004/02/skos/core#broader\" target=\"_other\">http://www.w3.org/2004/02/skos/core#broader</a></td>\n",
       "<td class=val><a href=\"https://ld.stadt-zuerich.ch/statistics/code/ART1100\" target=\"_other\">https://ld.stadt-zuerich.ch/statistics/code/ART1100</a></td>\n",
       "<td class=val>Fleisch</td></tr><tr class=even><td class=val><a href=\"https://ld.stadt-zuerich.ch/statistics/code/ART1113\" target=\"_other\">https://ld.stadt-zuerich.ch/statistics/code/ART1113</a></td>\n",
       "<td class=val>Schweinsvoressen [1 kg]</td>\n",
       "<td class=val><a href=\"http://www.w3.org/2004/02/skos/core#broader\" target=\"_other\">http://www.w3.org/2004/02/skos/core#broader</a></td>\n",
       "<td class=val><a href=\"https://ld.stadt-zuerich.ch/statistics/code/ART1100\" target=\"_other\">https://ld.stadt-zuerich.ch/statistics/code/ART1100</a></td>\n",
       "<td class=val>Fleisch</td></tr><tr class=odd><td class=val><a href=\"https://ld.stadt-zuerich.ch/statistics/code/ART1201\" target=\"_other\">https://ld.stadt-zuerich.ch/statistics/code/ART1201</a></td>\n",
       "<td class=val>Cervelat [1 Stück]</td>\n",
       "<td class=val><a href=\"http://www.w3.org/2004/02/skos/core#broader\" target=\"_other\">http://www.w3.org/2004/02/skos/core#broader</a></td>\n",
       "<td class=val><a href=\"https://ld.stadt-zuerich.ch/statistics/code/ART1200\" target=\"_other\">https://ld.stadt-zuerich.ch/statistics/code/ART1200</a></td>\n",
       "<td class=val>Wurst- und Fleischwaren</td></tr><tr class=even><td class=val><a href=\"https://ld.stadt-zuerich.ch/statistics/code/ART1202\" target=\"_other\">https://ld.stadt-zuerich.ch/statistics/code/ART1202</a></td>\n",
       "<td class=val>Kalbsbratwurst [1 Stück]</td>\n",
       "<td class=val><a href=\"http://www.w3.org/2004/02/skos/core#broader\" target=\"_other\">http://www.w3.org/2004/02/skos/core#broader</a></td>\n",
       "<td class=val><a href=\"https://ld.stadt-zuerich.ch/statistics/code/ART1200\" target=\"_other\">https://ld.stadt-zuerich.ch/statistics/code/ART1200</a></td>\n",
       "<td class=val>Wurst- und Fleischwaren</td></tr></table><div class=\"tinfo\">Total: 25507, Shown: 20</div></div>"
      ]
     },
     "metadata": {},
     "output_type": "display_data"
    }
   ],
   "source": [
    ">SPARQL\n",
    "PREFIX qb: <http://purl.org/linked-data/cube#>                                                                                                                   \n",
    "PREFIX skos: <http://www.w3.org/2004/02/skos/core#>                                                              \n",
    "PREFIX rdfs: <http://www.w3.org/2000/01/rdf-schema#>                   \n",
    "\n",
    "SELECT ?code ?labelcode ?pred ?hierarchy ?labelhierarchy\n",
    "FROM <https://linked.opendata.swiss/graph/zh/statistics>\n",
    "WHERE{\n",
    "    {\n",
    "    ?code a skos:Concept;\n",
    "        rdfs:label ?labelcode.\n",
    "    }    \n",
    "    {?code skos:broader ?hierarchy. ?code ?pred ?hierarchy. ?hierarchy rdfs:label ?labelhierarchy.}\n",
    "    UNION\n",
    "    {?code skos:narrower ?hierarchy. ?code ?pred ?hierarchy. ?hierarchy rdfs:label ?labelhierarchy.}\n",
    "}\n",
    "ORDER BY ?code"
   ]
  },
  {
   "cell_type": "markdown",
   "metadata": {},
   "source": [
    "### 4.12.1 Explanation\n",
    "The first part of the query simply SELECTS all the codes and labels them. The two subqueries then match each type of the hierarchy to the same variable:\n",
    "* ```?code skos:broader(narrower) ?hierarchy.``` matches the hierarchies to the variable ?hierarchy\n",
    "* ```?code ?pred ?hierarchy.``` matches the respective relation to ?pred (without it ?pred would be empty)\n",
    "\n",
    "The hierarchies are also labeled for the sake of clarity."
   ]
  },
  {
   "cell_type": "markdown",
   "metadata": {},
   "source": [
    "## 4.13 Example Query: spatial Hierarchies\n",
    "The codes are categorized according to their Scheme. To get an overview of all the spatial hierarchies, we have to SELECT those codes with skos:inScheme https://ld.stadt-zuerich.ch/statistics/scheme/Raum. We also have to consider that there are two types of hierarchies: skos:broader and skos:narrower. To extract all of them, our query requires a UNION of subqueries - one for each type of hierarchy - to match both to the same variable ?hierarchy:"
   ]
  },
  {
   "cell_type": "code",
   "execution_count": 66,
   "metadata": {},
   "outputs": [
    {
     "data": {
      "text/html": [
       "<div class=\"krn-spql\"><table><tr class=hdr><th>code</th>\n",
       "<th>labelcode</th>\n",
       "<th>pred</th>\n",
       "<th>hierarchy</th>\n",
       "<th>labelhierarchy</th></tr><tr class=odd><td class=val><a href=\"https://ld.stadt-zuerich.ch/statistics/code/%20Ausserhalb%20von%20Agglomeration\" target=\"_other\">https://ld.stadt-zuerich.ch/statistics/code/%20Ausserhalb%20von%20Agglomeration</a></td>\n",
       "<td class=val> Ausserhalb von Agglomeration</td>\n",
       "<td class=val><a href=\"http://www.w3.org/2004/02/skos/core#narrower\" target=\"_other\">http://www.w3.org/2004/02/skos/core#narrower</a></td>\n",
       "<td class=val><a href=\"https://ld.stadt-zuerich.ch/statistics/code/R4A000\" target=\"_other\">https://ld.stadt-zuerich.ch/statistics/code/R4A000</a></td>\n",
       "<td class=val>keine Agglomerationsgemeinde und keine Kerngemeinde ausserhalb von Agglomerationen</td></tr><tr class=even><td class=val><a href=\"https://ld.stadt-zuerich.ch/statistics/code/%20Ausserhalb%20von%20Agglomeration\" target=\"_other\">https://ld.stadt-zuerich.ch/statistics/code/%20Ausserhalb%20von%20Agglomeration</a></td>\n",
       "<td class=val> Ausserhalb von Agglomeration</td>\n",
       "<td class=val><a href=\"http://www.w3.org/2004/02/skos/core#broader\" target=\"_other\">http://www.w3.org/2004/02/skos/core#broader</a></td>\n",
       "<td class=val><a href=\"https://ld.stadt-zuerich.ch/statistics/code/Land\" target=\"_other\">https://ld.stadt-zuerich.ch/statistics/code/Land</a></td>\n",
       "<td class=val>Land</td></tr><tr class=odd><td class=val><a href=\"https://ld.stadt-zuerich.ch/statistics/code/Agglomeration\" target=\"_other\">https://ld.stadt-zuerich.ch/statistics/code/Agglomeration</a></td>\n",
       "<td class=val>Agglomeration</td>\n",
       "<td class=val><a href=\"http://www.w3.org/2004/02/skos/core#narrower\" target=\"_other\">http://www.w3.org/2004/02/skos/core#narrower</a></td>\n",
       "<td class=val><a href=\"https://ld.stadt-zuerich.ch/statistics/code/R4A0WO\" target=\"_other\">https://ld.stadt-zuerich.ch/statistics/code/R4A0WO</a></td>\n",
       "<td class=val>Agglomeration Wohlen (AG)</td></tr><tr class=even><td class=val><a href=\"https://ld.stadt-zuerich.ch/statistics/code/Agglomeration\" target=\"_other\">https://ld.stadt-zuerich.ch/statistics/code/Agglomeration</a></td>\n",
       "<td class=val>Agglomeration</td>\n",
       "<td class=val><a href=\"http://www.w3.org/2004/02/skos/core#narrower\" target=\"_other\">http://www.w3.org/2004/02/skos/core#narrower</a></td>\n",
       "<td class=val><a href=\"https://ld.stadt-zuerich.ch/statistics/code/R4A0VE\" target=\"_other\">https://ld.stadt-zuerich.ch/statistics/code/R4A0VE</a></td>\n",
       "<td class=val>Agglomeration Vevey – Montreux</td></tr><tr class=odd><td class=val><a href=\"https://ld.stadt-zuerich.ch/statistics/code/Agglomeration\" target=\"_other\">https://ld.stadt-zuerich.ch/statistics/code/Agglomeration</a></td>\n",
       "<td class=val>Agglomeration</td>\n",
       "<td class=val><a href=\"http://www.w3.org/2004/02/skos/core#narrower\" target=\"_other\">http://www.w3.org/2004/02/skos/core#narrower</a></td>\n",
       "<td class=val><a href=\"https://ld.stadt-zuerich.ch/statistics/code/R4A0WL\" target=\"_other\">https://ld.stadt-zuerich.ch/statistics/code/R4A0WL</a></td>\n",
       "<td class=val>Agglomeration Wil (SG)</td></tr><tr class=even><td class=val><a href=\"https://ld.stadt-zuerich.ch/statistics/code/Agglomeration\" target=\"_other\">https://ld.stadt-zuerich.ch/statistics/code/Agglomeration</a></td>\n",
       "<td class=val>Agglomeration</td>\n",
       "<td class=val><a href=\"http://www.w3.org/2004/02/skos/core#narrower\" target=\"_other\">http://www.w3.org/2004/02/skos/core#narrower</a></td>\n",
       "<td class=val><a href=\"https://ld.stadt-zuerich.ch/statistics/code/R4A0RH\" target=\"_other\">https://ld.stadt-zuerich.ch/statistics/code/R4A0RH</a></td>\n",
       "<td class=val>Agglomeration Rheintal (CH)</td></tr><tr class=odd><td class=val><a href=\"https://ld.stadt-zuerich.ch/statistics/code/Agglomeration\" target=\"_other\">https://ld.stadt-zuerich.ch/statistics/code/Agglomeration</a></td>\n",
       "<td class=val>Agglomeration</td>\n",
       "<td class=val><a href=\"http://www.w3.org/2004/02/skos/core#narrower\" target=\"_other\">http://www.w3.org/2004/02/skos/core#narrower</a></td>\n",
       "<td class=val><a href=\"https://ld.stadt-zuerich.ch/statistics/code/R4A0OL\" target=\"_other\">https://ld.stadt-zuerich.ch/statistics/code/R4A0OL</a></td>\n",
       "<td class=val>Agglomeration Olten – Zofingen</td></tr><tr class=even><td class=val><a href=\"https://ld.stadt-zuerich.ch/statistics/code/Agglomeration\" target=\"_other\">https://ld.stadt-zuerich.ch/statistics/code/Agglomeration</a></td>\n",
       "<td class=val>Agglomeration</td>\n",
       "<td class=val><a href=\"http://www.w3.org/2004/02/skos/core#narrower\" target=\"_other\">http://www.w3.org/2004/02/skos/core#narrower</a></td>\n",
       "<td class=val><a href=\"https://ld.stadt-zuerich.ch/statistics/code/R4A0WI\" target=\"_other\">https://ld.stadt-zuerich.ch/statistics/code/R4A0WI</a></td>\n",
       "<td class=val>Agglomeration Winterthur</td></tr><tr class=odd><td class=val><a href=\"https://ld.stadt-zuerich.ch/statistics/code/Agglomeration\" target=\"_other\">https://ld.stadt-zuerich.ch/statistics/code/Agglomeration</a></td>\n",
       "<td class=val>Agglomeration</td>\n",
       "<td class=val><a href=\"http://www.w3.org/2004/02/skos/core#narrower\" target=\"_other\">http://www.w3.org/2004/02/skos/core#narrower</a></td>\n",
       "<td class=val><a href=\"https://ld.stadt-zuerich.ch/statistics/code/R4A0TH\" target=\"_other\">https://ld.stadt-zuerich.ch/statistics/code/R4A0TH</a></td>\n",
       "<td class=val>Agglomeration Thun</td></tr><tr class=even><td class=val><a href=\"https://ld.stadt-zuerich.ch/statistics/code/Agglomeration\" target=\"_other\">https://ld.stadt-zuerich.ch/statistics/code/Agglomeration</a></td>\n",
       "<td class=val>Agglomeration</td>\n",
       "<td class=val><a href=\"http://www.w3.org/2004/02/skos/core#narrower\" target=\"_other\">http://www.w3.org/2004/02/skos/core#narrower</a></td>\n",
       "<td class=val><a href=\"https://ld.stadt-zuerich.ch/statistics/code/R4A0SO\" target=\"_other\">https://ld.stadt-zuerich.ch/statistics/code/R4A0SO</a></td>\n",
       "<td class=val>Agglomeration Solothurn</td></tr><tr class=odd><td class=val><a href=\"https://ld.stadt-zuerich.ch/statistics/code/Agglomeration\" target=\"_other\">https://ld.stadt-zuerich.ch/statistics/code/Agglomeration</a></td>\n",
       "<td class=val>Agglomeration</td>\n",
       "<td class=val><a href=\"http://www.w3.org/2004/02/skos/core#narrower\" target=\"_other\">http://www.w3.org/2004/02/skos/core#narrower</a></td>\n",
       "<td class=val><a href=\"https://ld.stadt-zuerich.ch/statistics/code/R4A0LA\" target=\"_other\">https://ld.stadt-zuerich.ch/statistics/code/R4A0LA</a></td>\n",
       "<td class=val>Agglomeration Lachen</td></tr><tr class=even><td class=val><a href=\"https://ld.stadt-zuerich.ch/statistics/code/Agglomeration\" target=\"_other\">https://ld.stadt-zuerich.ch/statistics/code/Agglomeration</a></td>\n",
       "<td class=val>Agglomeration</td>\n",
       "<td class=val><a href=\"http://www.w3.org/2004/02/skos/core#narrower\" target=\"_other\">http://www.w3.org/2004/02/skos/core#narrower</a></td>\n",
       "<td class=val><a href=\"https://ld.stadt-zuerich.ch/statistics/code/R4A0KL\" target=\"_other\">https://ld.stadt-zuerich.ch/statistics/code/R4A0KL</a></td>\n",
       "<td class=val>Agglomeration Kreuzlingen (CH)</td></tr><tr class=odd><td class=val><a href=\"https://ld.stadt-zuerich.ch/statistics/code/Agglomeration\" target=\"_other\">https://ld.stadt-zuerich.ch/statistics/code/Agglomeration</a></td>\n",
       "<td class=val>Agglomeration</td>\n",
       "<td class=val><a href=\"http://www.w3.org/2004/02/skos/core#narrower\" target=\"_other\">http://www.w3.org/2004/02/skos/core#narrower</a></td>\n",
       "<td class=val><a href=\"https://ld.stadt-zuerich.ch/statistics/code/R4A0LG\" target=\"_other\">https://ld.stadt-zuerich.ch/statistics/code/R4A0LG</a></td>\n",
       "<td class=val>Agglomeration Lugano (CH)</td></tr><tr class=even><td class=val><a href=\"https://ld.stadt-zuerich.ch/statistics/code/Agglomeration\" target=\"_other\">https://ld.stadt-zuerich.ch/statistics/code/Agglomeration</a></td>\n",
       "<td class=val>Agglomeration</td>\n",
       "<td class=val><a href=\"http://www.w3.org/2004/02/skos/core#narrower\" target=\"_other\">http://www.w3.org/2004/02/skos/core#narrower</a></td>\n",
       "<td class=val><a href=\"https://ld.stadt-zuerich.ch/statistics/code/R4A0ST\" target=\"_other\">https://ld.stadt-zuerich.ch/statistics/code/R4A0ST</a></td>\n",
       "<td class=val>Agglomeration Stein (AG) (CH)</td></tr><tr class=odd><td class=val><a href=\"https://ld.stadt-zuerich.ch/statistics/code/Agglomeration\" target=\"_other\">https://ld.stadt-zuerich.ch/statistics/code/Agglomeration</a></td>\n",
       "<td class=val>Agglomeration</td>\n",
       "<td class=val><a href=\"http://www.w3.org/2004/02/skos/core#narrower\" target=\"_other\">http://www.w3.org/2004/02/skos/core#narrower</a></td>\n",
       "<td class=val><a href=\"https://ld.stadt-zuerich.ch/statistics/code/R4A0GE\" target=\"_other\">https://ld.stadt-zuerich.ch/statistics/code/R4A0GE</a></td>\n",
       "<td class=val>Agglomeration Genève (CH)</td></tr><tr class=even><td class=val><a href=\"https://ld.stadt-zuerich.ch/statistics/code/Agglomeration\" target=\"_other\">https://ld.stadt-zuerich.ch/statistics/code/Agglomeration</a></td>\n",
       "<td class=val>Agglomeration</td>\n",
       "<td class=val><a href=\"http://www.w3.org/2004/02/skos/core#narrower\" target=\"_other\">http://www.w3.org/2004/02/skos/core#narrower</a></td>\n",
       "<td class=val><a href=\"https://ld.stadt-zuerich.ch/statistics/code/R4A0FR\" target=\"_other\">https://ld.stadt-zuerich.ch/statistics/code/R4A0FR</a></td>\n",
       "<td class=val>Agglomeration Fribourg</td></tr><tr class=odd><td class=val><a href=\"https://ld.stadt-zuerich.ch/statistics/code/Agglomeration\" target=\"_other\">https://ld.stadt-zuerich.ch/statistics/code/Agglomeration</a></td>\n",
       "<td class=val>Agglomeration</td>\n",
       "<td class=val><a href=\"http://www.w3.org/2004/02/skos/core#narrower\" target=\"_other\">http://www.w3.org/2004/02/skos/core#narrower</a></td>\n",
       "<td class=val><a href=\"https://ld.stadt-zuerich.ch/statistics/code/R4A0CH\" target=\"_other\">https://ld.stadt-zuerich.ch/statistics/code/R4A0CH</a></td>\n",
       "<td class=val>Agglomeration Chiasso – Mendrisio (CH)</td></tr><tr class=even><td class=val><a href=\"https://ld.stadt-zuerich.ch/statistics/code/Agglomeration\" target=\"_other\">https://ld.stadt-zuerich.ch/statistics/code/Agglomeration</a></td>\n",
       "<td class=val>Agglomeration</td>\n",
       "<td class=val><a href=\"http://www.w3.org/2004/02/skos/core#narrower\" target=\"_other\">http://www.w3.org/2004/02/skos/core#narrower</a></td>\n",
       "<td class=val><a href=\"https://ld.stadt-zuerich.ch/statistics/code/R4A0CH\" target=\"_other\">https://ld.stadt-zuerich.ch/statistics/code/R4A0CH</a></td>\n",
       "<td class=val>Agglomeration Chur</td></tr><tr class=odd><td class=val><a href=\"https://ld.stadt-zuerich.ch/statistics/code/Agglomeration\" target=\"_other\">https://ld.stadt-zuerich.ch/statistics/code/Agglomeration</a></td>\n",
       "<td class=val>Agglomeration</td>\n",
       "<td class=val><a href=\"http://www.w3.org/2004/02/skos/core#narrower\" target=\"_other\">http://www.w3.org/2004/02/skos/core#narrower</a></td>\n",
       "<td class=val><a href=\"https://ld.stadt-zuerich.ch/statistics/code/R4A0DE\" target=\"_other\">https://ld.stadt-zuerich.ch/statistics/code/R4A0DE</a></td>\n",
       "<td class=val>Agglomeration Delémont (CH)</td></tr><tr class=even><td class=val><a href=\"https://ld.stadt-zuerich.ch/statistics/code/Agglomeration\" target=\"_other\">https://ld.stadt-zuerich.ch/statistics/code/Agglomeration</a></td>\n",
       "<td class=val>Agglomeration</td>\n",
       "<td class=val><a href=\"http://www.w3.org/2004/02/skos/core#narrower\" target=\"_other\">http://www.w3.org/2004/02/skos/core#narrower</a></td>\n",
       "<td class=val><a href=\"https://ld.stadt-zuerich.ch/statistics/code/R4A0FF\" target=\"_other\">https://ld.stadt-zuerich.ch/statistics/code/R4A0FF</a></td>\n",
       "<td class=val>Agglomeration Frauenfeld</td></tr></table><div class=\"tinfo\">Total: 8118, Shown: 20</div></div>"
      ]
     },
     "metadata": {},
     "output_type": "display_data"
    }
   ],
   "source": [
    ">SPARQL\n",
    "BASE <https://ld.stadt-zuerich.ch/statistics/>\n",
    "PREFIX qb: <http://purl.org/linked-data/cube#>                                                                                                                   \n",
    "PREFIX skos: <http://www.w3.org/2004/02/skos/core#>                                                              \n",
    "PREFIX rdfs: <http://www.w3.org/2000/01/rdf-schema#>                   \n",
    "\n",
    "SELECT ?code ?labelcode ?pred ?hierarchy ?labelhierarchy\n",
    "FROM <https://linked.opendata.swiss/graph/zh/statistics>\n",
    "WHERE{  \n",
    "    {\n",
    "    ?code a skos:Concept;\n",
    "        skos:inScheme <scheme/Raum>;\n",
    "        rdfs:label ?labelcode.\n",
    "    }    \n",
    "    {?code skos:broader ?hierarchy. ?code ?pred ?hierarchy. ?hierarchy rdfs:label ?labelhierarchy.}\n",
    "    UNION\n",
    "    {?code skos:narrower ?hierarchy. ?code ?pred ?hierarchy. ?hierarchy rdfs:label ?labelhierarchy.}\n",
    "}\n",
    "ORDER BY ?code"
   ]
  },
  {
   "cell_type": "markdown",
   "metadata": {},
   "source": [
    "### 4.13.1 Explanation\n",
    "The spatial hierarchy of Raum (area) is complex. A Raum code typically has multiple skos:broader and skos:narrower relations to other Raum codes:\n",
    "* R10000: Kreis 1 has skos:broader https://ld.stadt-zuerich.ch/statistics/code/Kreis\n",
    "* R20000: City after 1. incorporation in 1893 has skos:broader https://ld.stadt-zuerich.ch/statistics/code/R00081 (Seefeld)\n",
    "* R30000: Zurich City since 1934 has skos:broader https://ld.stadt-zuerich.ch/statistics/code/Gemeinde\n",
    "\n",
    "to name a few examples. See also the graph visualization in section [3.1.3](#Graph-Database-vs.-Relational-Database).\n",
    "\n",
    "The first part of the query simply SELECTS all the Raum codes and labels them. The two subqueries then match each type of the hierarchy to the same variable:\n",
    "* ```?code skos:broader(narrower) ?hierarchy.``` matches the hierarchies to the variable ?hierarchy\n",
    "* ```?code ?pred ?hierarchy.``` matches the respective relation to ?pred (without it ?pred would be empty)\n",
    "\n",
    "The hierarchies are also labeled for the sake of clarity."
   ]
  },
  {
   "cell_type": "markdown",
   "metadata": {},
   "source": [
    "## 4.14 Example Query: links to other Databases\n",
    "In addition to the example in section [2.3](#Open-Data-and-Linked-Data), other sameAs relations shall be given here:"
   ]
  },
  {
   "cell_type": "code",
   "execution_count": 67,
   "metadata": {},
   "outputs": [
    {
     "data": {
      "text/html": [
       "<div class=\"krn-spql\"><table><tr class=hdr><th>sub</th>\n",
       "<th>obj</th></tr><tr class=odd><td class=val><a href=\"https://ld.stadt-zuerich.ch/statistics/code/R00011\" target=\"_other\">https://ld.stadt-zuerich.ch/statistics/code/R00011</a></td>\n",
       "<td class=val><a href=\"http://www.wikidata.org/entity/Q692511\" target=\"_other\">http://www.wikidata.org/entity/Q692511</a></td></tr><tr class=even><td class=val><a href=\"https://ld.stadt-zuerich.ch/statistics/code/R00012\" target=\"_other\">https://ld.stadt-zuerich.ch/statistics/code/R00012</a></td>\n",
       "<td class=val><a href=\"http://www.wikidata.org/entity/Q39240\" target=\"_other\">http://www.wikidata.org/entity/Q39240</a></td></tr><tr class=odd><td class=val><a href=\"https://ld.stadt-zuerich.ch/statistics/code/R00013\" target=\"_other\">https://ld.stadt-zuerich.ch/statistics/code/R00013</a></td>\n",
       "<td class=val><a href=\"http://www.wikidata.org/entity/Q10987378\" target=\"_other\">http://www.wikidata.org/entity/Q10987378</a></td></tr><tr class=even><td class=val><a href=\"https://ld.stadt-zuerich.ch/statistics/code/R00014\" target=\"_other\">https://ld.stadt-zuerich.ch/statistics/code/R00014</a></td>\n",
       "<td class=val><a href=\"http://www.wikidata.org/entity/Q1093831\" target=\"_other\">http://www.wikidata.org/entity/Q1093831</a></td></tr><tr class=odd><td class=val><a href=\"https://ld.stadt-zuerich.ch/statistics/code/R00021\" target=\"_other\">https://ld.stadt-zuerich.ch/statistics/code/R00021</a></td>\n",
       "<td class=val><a href=\"http://www.wikidata.org/entity/Q642353\" target=\"_other\">http://www.wikidata.org/entity/Q642353</a></td></tr><tr class=even><td class=val><a href=\"https://ld.stadt-zuerich.ch/statistics/code/R00023\" target=\"_other\">https://ld.stadt-zuerich.ch/statistics/code/R00023</a></td>\n",
       "<td class=val><a href=\"http://www.wikidata.org/entity/Q691367\" target=\"_other\">http://www.wikidata.org/entity/Q691367</a></td></tr><tr class=odd><td class=val><a href=\"https://ld.stadt-zuerich.ch/statistics/code/R00024\" target=\"_other\">https://ld.stadt-zuerich.ch/statistics/code/R00024</a></td>\n",
       "<td class=val><a href=\"http://www.wikidata.org/entity/Q648218\" target=\"_other\">http://www.wikidata.org/entity/Q648218</a></td></tr><tr class=even><td class=val><a href=\"https://ld.stadt-zuerich.ch/statistics/code/R00031\" target=\"_other\">https://ld.stadt-zuerich.ch/statistics/code/R00031</a></td>\n",
       "<td class=val><a href=\"http://www.wikidata.org/entity/Q433012\" target=\"_other\">http://www.wikidata.org/entity/Q433012</a></td></tr><tr class=odd><td class=val><a href=\"https://ld.stadt-zuerich.ch/statistics/code/R00033\" target=\"_other\">https://ld.stadt-zuerich.ch/statistics/code/R00033</a></td>\n",
       "<td class=val><a href=\"http://www.wikidata.org/entity/Q693357\" target=\"_other\">http://www.wikidata.org/entity/Q693357</a></td></tr><tr class=even><td class=val><a href=\"https://ld.stadt-zuerich.ch/statistics/code/R00034\" target=\"_other\">https://ld.stadt-zuerich.ch/statistics/code/R00034</a></td>\n",
       "<td class=val><a href=\"http://www.wikidata.org/entity/Q370104\" target=\"_other\">http://www.wikidata.org/entity/Q370104</a></td></tr><tr class=odd><td class=val><a href=\"https://ld.stadt-zuerich.ch/statistics/code/R00041\" target=\"_other\">https://ld.stadt-zuerich.ch/statistics/code/R00041</a></td>\n",
       "<td class=val><a href=\"http://www.wikidata.org/entity/Q531899\" target=\"_other\">http://www.wikidata.org/entity/Q531899</a></td></tr><tr class=even><td class=val><a href=\"https://ld.stadt-zuerich.ch/statistics/code/R00042\" target=\"_other\">https://ld.stadt-zuerich.ch/statistics/code/R00042</a></td>\n",
       "<td class=val><a href=\"http://www.wikidata.org/entity/Q1805410\" target=\"_other\">http://www.wikidata.org/entity/Q1805410</a></td></tr><tr class=odd><td class=val><a href=\"https://ld.stadt-zuerich.ch/statistics/code/R00044\" target=\"_other\">https://ld.stadt-zuerich.ch/statistics/code/R00044</a></td>\n",
       "<td class=val><a href=\"http://www.wikidata.org/entity/Q870084\" target=\"_other\">http://www.wikidata.org/entity/Q870084</a></td></tr><tr class=even><td class=val><a href=\"https://ld.stadt-zuerich.ch/statistics/code/R00051\" target=\"_other\">https://ld.stadt-zuerich.ch/statistics/code/R00051</a></td>\n",
       "<td class=val><a href=\"http://www.wikidata.org/entity/Q693413\" target=\"_other\">http://www.wikidata.org/entity/Q693413</a></td></tr><tr class=odd><td class=val><a href=\"https://ld.stadt-zuerich.ch/statistics/code/R00052\" target=\"_other\">https://ld.stadt-zuerich.ch/statistics/code/R00052</a></td>\n",
       "<td class=val><a href=\"http://www.wikidata.org/entity/Q687052\" target=\"_other\">http://www.wikidata.org/entity/Q687052</a></td></tr><tr class=even><td class=val><a href=\"https://ld.stadt-zuerich.ch/statistics/code/R00061\" target=\"_other\">https://ld.stadt-zuerich.ch/statistics/code/R00061</a></td>\n",
       "<td class=val><a href=\"http://www.wikidata.org/entity/Q656446\" target=\"_other\">http://www.wikidata.org/entity/Q656446</a></td></tr><tr class=odd><td class=val><a href=\"https://ld.stadt-zuerich.ch/statistics/code/R00063\" target=\"_other\">https://ld.stadt-zuerich.ch/statistics/code/R00063</a></td>\n",
       "<td class=val><a href=\"http://www.wikidata.org/entity/Q693483\" target=\"_other\">http://www.wikidata.org/entity/Q693483</a></td></tr><tr class=even><td class=val><a href=\"https://ld.stadt-zuerich.ch/statistics/code/R00071\" target=\"_other\">https://ld.stadt-zuerich.ch/statistics/code/R00071</a></td>\n",
       "<td class=val><a href=\"http://www.wikidata.org/entity/Q693269\" target=\"_other\">http://www.wikidata.org/entity/Q693269</a></td></tr><tr class=odd><td class=val><a href=\"https://ld.stadt-zuerich.ch/statistics/code/R00072\" target=\"_other\">https://ld.stadt-zuerich.ch/statistics/code/R00072</a></td>\n",
       "<td class=val><a href=\"http://www.wikidata.org/entity/Q693454\" target=\"_other\">http://www.wikidata.org/entity/Q693454</a></td></tr><tr class=even><td class=val><a href=\"https://ld.stadt-zuerich.ch/statistics/code/R00073\" target=\"_other\">https://ld.stadt-zuerich.ch/statistics/code/R00073</a></td>\n",
       "<td class=val><a href=\"http://www.wikidata.org/entity/Q476940\" target=\"_other\">http://www.wikidata.org/entity/Q476940</a></td></tr></table><div class=\"tinfo\">Total: 217, Shown: 20</div></div>"
      ]
     },
     "metadata": {},
     "output_type": "display_data"
    }
   ],
   "source": [
    ">SPARQL\n",
    "PREFIX owl: <http://www.w3.org/2002/07/owl#>\n",
    "\n",
    "SELECT *\n",
    "FROM <https://linked.opendata.swiss/graph/zh/statistics>\n",
    "WHERE {\n",
    "    ?sub owl:sameAs ?obj.\n",
    "}\n",
    "ORDER BY ?sub"
   ]
  },
  {
   "cell_type": "markdown",
   "metadata": {},
   "source": [
    "### 4.14.1 Explanation\n",
    "The query simply lists all sameAs relations. Note that not only Wikidata links are present! sameAs is also used to link DataSets or Slices etc. to the corresponding plots of the [SSZVIS-Interface](https://stat.stadt-zuerich.ch/)."
   ]
  },
  {
   "cell_type": "markdown",
   "metadata": {},
   "source": [
    "## 4.15 Example Query: Slices of DataSets\n",
    "Select all Slices of the DataCube:"
   ]
  },
  {
   "cell_type": "code",
   "execution_count": 68,
   "metadata": {},
   "outputs": [
    {
     "data": {
      "text/html": [
       "<div class=\"krn-spql\"><table><tr class=hdr><th>slice</th>\n",
       "<th>label</th></tr><tr class=odd><td class=val><a href=\"https://ld.stadt-zuerich.ch/statistics/dataset/AST-RAUM-ZEIT-BTA/slice\" target=\"_other\">https://ld.stadt-zuerich.ch/statistics/dataset/AST-RAUM-ZEIT-BTA/slice</a></td>\n",
       "<td class=val>Arbeitsstätten nach Betriebsart, Raum, Zeit</td></tr><tr class=even><td class=val><a href=\"https://ld.stadt-zuerich.ch/statistics/dataset/AST-RAUM-ZEIT-BTA/ASTBTA7100/slice\" target=\"_other\">https://ld.stadt-zuerich.ch/statistics/dataset/AST-RAUM-ZEIT-BTA/ASTBTA7100/slice</a></td>\n",
       "<td class=val>Anzahl Horte</td></tr><tr class=odd><td class=val><a href=\"https://ld.stadt-zuerich.ch/statistics/dataset/AST-RAUM-ZEIT-BTA/ASTBTA7101/slice\" target=\"_other\">https://ld.stadt-zuerich.ch/statistics/dataset/AST-RAUM-ZEIT-BTA/ASTBTA7101/slice</a></td>\n",
       "<td class=val>Anzahl Tageshorte</td></tr><tr class=even><td class=val><a href=\"https://ld.stadt-zuerich.ch/statistics/dataset/AST-RAUM-ZEIT-BTA/ASTBTA7102/slice\" target=\"_other\">https://ld.stadt-zuerich.ch/statistics/dataset/AST-RAUM-ZEIT-BTA/ASTBTA7102/slice</a></td>\n",
       "<td class=val>Anzahl Mittagshorte</td></tr><tr class=odd><td class=val><a href=\"https://ld.stadt-zuerich.ch/statistics/dataset/AST-RAUM-ZEIT-BTA/ASTBTA5007/slice\" target=\"_other\">https://ld.stadt-zuerich.ch/statistics/dataset/AST-RAUM-ZEIT-BTA/ASTBTA5007/slice</a></td>\n",
       "<td class=val>Kostengebereien und Privatpensionen</td></tr><tr class=even><td class=val><a href=\"https://ld.stadt-zuerich.ch/statistics/dataset/AST-RAUM-ZEIT-BTA/ASTBTA5000/slice\" target=\"_other\">https://ld.stadt-zuerich.ch/statistics/dataset/AST-RAUM-ZEIT-BTA/ASTBTA5000/slice</a></td>\n",
       "<td class=val>Anzahl Verpflegungsbetriebe</td></tr><tr class=odd><td class=val><a href=\"https://ld.stadt-zuerich.ch/statistics/dataset/AST-RAUM-ZEIT-BTA/ASTBTA5091/slice\" target=\"_other\">https://ld.stadt-zuerich.ch/statistics/dataset/AST-RAUM-ZEIT-BTA/ASTBTA5091/slice</a></td>\n",
       "<td class=val>Total (Summe aller aktiven Verpflegungsbetriebe)</td></tr><tr class=even><td class=val><a href=\"https://ld.stadt-zuerich.ch/statistics/dataset/AST-RAUM-ZEIT-BTA/ASTBTA5008/slice\" target=\"_other\">https://ld.stadt-zuerich.ch/statistics/dataset/AST-RAUM-ZEIT-BTA/ASTBTA5008/slice</a></td>\n",
       "<td class=val>Konditoreiwirtschaften</td></tr><tr class=odd><td class=val><a href=\"https://ld.stadt-zuerich.ch/statistics/dataset/AST-RAUM-ZEIT-BTA/ASTBTA5002/slice\" target=\"_other\">https://ld.stadt-zuerich.ch/statistics/dataset/AST-RAUM-ZEIT-BTA/ASTBTA5002/slice</a></td>\n",
       "<td class=val>Alkoholfreie Gasthöfe</td></tr><tr class=even><td class=val><a href=\"https://ld.stadt-zuerich.ch/statistics/dataset/AST-RAUM-ZEIT-BTA/ASTBTA5006/slice\" target=\"_other\">https://ld.stadt-zuerich.ch/statistics/dataset/AST-RAUM-ZEIT-BTA/ASTBTA5006/slice</a></td>\n",
       "<td class=val>Alkoholfreie Wirtschaften, Tea Rooms</td></tr><tr class=odd><td class=val><a href=\"https://ld.stadt-zuerich.ch/statistics/dataset/AST-RAUM-ZEIT-BTA/ASTBTA5001/slice\" target=\"_other\">https://ld.stadt-zuerich.ch/statistics/dataset/AST-RAUM-ZEIT-BTA/ASTBTA5001/slice</a></td>\n",
       "<td class=val>Hotels und Gasthöfe</td></tr><tr class=even><td class=val><a href=\"https://ld.stadt-zuerich.ch/statistics/dataset/AST-RAUM-ZEIT-BTA/ASTBTA5001/slice\" target=\"_other\">https://ld.stadt-zuerich.ch/statistics/dataset/AST-RAUM-ZEIT-BTA/ASTBTA5001/slice</a></td>\n",
       "<td class=val>Hotels und Gasth��fe</td></tr><tr class=odd><td class=val><a href=\"https://ld.stadt-zuerich.ch/statistics/dataset/AST-RAUM-ZEIT-BTA/ASTBTA5003/slice\" target=\"_other\">https://ld.stadt-zuerich.ch/statistics/dataset/AST-RAUM-ZEIT-BTA/ASTBTA5003/slice</a></td>\n",
       "<td class=val>Fremdenpesionen</td></tr><tr class=even><td class=val><a href=\"https://ld.stadt-zuerich.ch/statistics/dataset/AST-RAUM-ZEIT-BTA/ASTBTA5004/slice\" target=\"_other\">https://ld.stadt-zuerich.ch/statistics/dataset/AST-RAUM-ZEIT-BTA/ASTBTA5004/slice</a></td>\n",
       "<td class=val>Hotel garni</td></tr><tr class=odd><td class=val><a href=\"https://ld.stadt-zuerich.ch/statistics/dataset/AST-RAUM-ZEIT-BTA/ASTBTA5005/slice\" target=\"_other\">https://ld.stadt-zuerich.ch/statistics/dataset/AST-RAUM-ZEIT-BTA/ASTBTA5005/slice</a></td>\n",
       "<td class=val>Speisewirtschaft</td></tr><tr class=even><td class=val><a href=\"https://ld.stadt-zuerich.ch/statistics/dataset/AST-RAUM-ZEIT-BTA/ASTBTA5010/slice\" target=\"_other\">https://ld.stadt-zuerich.ch/statistics/dataset/AST-RAUM-ZEIT-BTA/ASTBTA5010/slice</a></td>\n",
       "<td class=val>Hotes und Pesionen mit Verpflegung</td></tr><tr class=odd><td class=val><a href=\"https://ld.stadt-zuerich.ch/statistics/dataset/AST-RAUM-ZEIT-BTA/ASTBTA5009/slice\" target=\"_other\">https://ld.stadt-zuerich.ch/statistics/dataset/AST-RAUM-ZEIT-BTA/ASTBTA5009/slice</a></td>\n",
       "<td class=val>Kleinbetriebe</td></tr><tr class=even><td class=val><a href=\"https://ld.stadt-zuerich.ch/statistics/dataset/AST-RAUM-ZEIT-BTA/ASTBTA5011/slice\" target=\"_other\">https://ld.stadt-zuerich.ch/statistics/dataset/AST-RAUM-ZEIT-BTA/ASTBTA5011/slice</a></td>\n",
       "<td class=val>Verpflegungsbetrieb mit Alkohol</td></tr><tr class=odd><td class=val><a href=\"https://ld.stadt-zuerich.ch/statistics/dataset/AST-RAUM-ZEIT-BTA/ASTBTA5013/slice\" target=\"_other\">https://ld.stadt-zuerich.ch/statistics/dataset/AST-RAUM-ZEIT-BTA/ASTBTA5013/slice</a></td>\n",
       "<td class=val>Verpflegungsbetrieb ohne Alkohol</td></tr><tr class=even><td class=val><a href=\"https://ld.stadt-zuerich.ch/statistics/dataset/AST-RAUM-ZEIT-BTA/ASTBTA5012/slice\" target=\"_other\">https://ld.stadt-zuerich.ch/statistics/dataset/AST-RAUM-ZEIT-BTA/ASTBTA5012/slice</a></td>\n",
       "<td class=val>Verpflegungsbetrieb mit gebrannten Wassern</td></tr></table><div class=\"tinfo\">Total: 3337, Shown: 20</div></div>"
      ]
     },
     "metadata": {},
     "output_type": "display_data"
    }
   ],
   "source": [
    ">SPARQL\n",
    "PREFIX qb: <http://purl.org/linked-data/cube#>\n",
    "PREFIX rdfs: <http://www.w3.org/2000/01/rdf-schema#> \n",
    "\n",
    "SELECT DISTINCT ?slice ?label\n",
    "FROM <https://linked.opendata.swiss/graph/zh/statistics>\n",
    "WHERE{\n",
    "    {?dataset a qb:slice. ?sub ?pred ?obj. ?obj rdfs:label ?label.}\n",
    "    UNION\n",
    "    {?dataset qb:slice ?slice. ?slice rdfs:label ?label.}\n",
    "}"
   ]
  },
  {
   "cell_type": "markdown",
   "metadata": {},
   "source": [
    "### 4.15.1 Explanation\n",
    "The URI of a Slice already reveals which dimension is fixed. The Slice \"BEWSEX0002\" for example, fixes the sex and reduces the DataSet \"population as a function of area, sex, date\" to \"female population as a function of area, date\". See [3.3](#Concepts-of-the-RDF-Data-Cube) for more details on Slices."
   ]
  },
  {
   "cell_type": "markdown",
   "metadata": {},
   "source": [
    "## 4.16 Example Query: Shapes\n",
    "Select all Shapes of the DataCube:"
   ]
  },
  {
   "cell_type": "code",
   "execution_count": 69,
   "metadata": {},
   "outputs": [
    {
     "data": {
      "text/html": [
       "<div class=\"krn-spql\"><table><tr class=hdr><th>shape</th></tr><tr class=odd><td class=val><a href=\"https://ld.stadt-zuerich.ch/statistics/dataset/AST-RAUM-ZEIT-BTA/shape\" target=\"_other\">https://ld.stadt-zuerich.ch/statistics/dataset/AST-RAUM-ZEIT-BTA/shape</a></td></tr><tr class=even><td class=val><a href=\"https://ld.stadt-zuerich.ch/statistics/dataset/BES-RAUM-ZEIT-BTA-SEX/shape\" target=\"_other\">https://ld.stadt-zuerich.ch/statistics/dataset/BES-RAUM-ZEIT-BTA-SEX/shape</a></td></tr><tr class=odd><td class=val><a href=\"https://ld.stadt-zuerich.ch/statistics/dataset/BES-RAUM-ZEIT-BTA/shape\" target=\"_other\">https://ld.stadt-zuerich.ch/statistics/dataset/BES-RAUM-ZEIT-BTA/shape</a></td></tr><tr class=even><td class=val><a href=\"https://ld.stadt-zuerich.ch/statistics/dataset/ZUS-RAUM-ZEIT-BTA-HEL/shape\" target=\"_other\">https://ld.stadt-zuerich.ch/statistics/dataset/ZUS-RAUM-ZEIT-BTA-HEL/shape</a></td></tr><tr class=odd><td class=val><a href=\"https://ld.stadt-zuerich.ch/statistics/dataset/ZUS-RAUM-ZEIT-BTA-SEX/shape\" target=\"_other\">https://ld.stadt-zuerich.ch/statistics/dataset/ZUS-RAUM-ZEIT-BTA-SEX/shape</a></td></tr><tr class=even><td class=val><a href=\"https://ld.stadt-zuerich.ch/statistics/dataset/ZUS-RAUM-ZEIT-BTA/shape\" target=\"_other\">https://ld.stadt-zuerich.ch/statistics/dataset/ZUS-RAUM-ZEIT-BTA/shape</a></td></tr><tr class=odd><td class=val><a href=\"https://ld.stadt-zuerich.ch/statistics/dataset/SCH-RAUM-ZEIT-BTA-SST/shape\" target=\"_other\">https://ld.stadt-zuerich.ch/statistics/dataset/SCH-RAUM-ZEIT-BTA-SST/shape</a></td></tr><tr class=even><td class=val><a href=\"https://ld.stadt-zuerich.ch/statistics/dataset/SCH-RAUM-ZEIT-BTA/shape\" target=\"_other\">https://ld.stadt-zuerich.ch/statistics/dataset/SCH-RAUM-ZEIT-BTA/shape</a></td></tr><tr class=odd><td class=val><a href=\"https://ld.stadt-zuerich.ch/statistics/dataset/AST-RAUM-ZEIT-BEW-BTA/shape\" target=\"_other\">https://ld.stadt-zuerich.ch/statistics/dataset/AST-RAUM-ZEIT-BEW-BTA/shape</a></td></tr><tr class=even><td class=val><a href=\"https://ld.stadt-zuerich.ch/statistics/dataset/BEW-RAUM-ZEIT/shape\" target=\"_other\">https://ld.stadt-zuerich.ch/statistics/dataset/BEW-RAUM-ZEIT/shape</a></td></tr><tr class=odd><td class=val><a href=\"https://ld.stadt-zuerich.ch/statistics/dataset/BEW-RAUM-ZEIT-SEX/shape\" target=\"_other\">https://ld.stadt-zuerich.ch/statistics/dataset/BEW-RAUM-ZEIT-SEX/shape</a></td></tr><tr class=even><td class=val><a href=\"https://ld.stadt-zuerich.ch/statistics/dataset/BEW-RAUM-ZEIT-HEL-SEX/shape\" target=\"_other\">https://ld.stadt-zuerich.ch/statistics/dataset/BEW-RAUM-ZEIT-HEL-SEX/shape</a></td></tr><tr class=odd><td class=val><a href=\"https://ld.stadt-zuerich.ch/statistics/dataset/BEW-RAUM-ZEIT-HEL/shape\" target=\"_other\">https://ld.stadt-zuerich.ch/statistics/dataset/BEW-RAUM-ZEIT-HEL/shape</a></td></tr><tr class=even><td class=val><a href=\"https://ld.stadt-zuerich.ch/statistics/dataset/ANT-RAUM-ZEIT-GGH-HEL/shape\" target=\"_other\">https://ld.stadt-zuerich.ch/statistics/dataset/ANT-RAUM-ZEIT-GGH-HEL/shape</a></td></tr><tr class=odd><td class=val><a href=\"https://ld.stadt-zuerich.ch/statistics/dataset/BEW-RAUM-ZEIT-KON/shape\" target=\"_other\">https://ld.stadt-zuerich.ch/statistics/dataset/BEW-RAUM-ZEIT-KON/shape</a></td></tr><tr class=even><td class=val><a href=\"https://ld.stadt-zuerich.ch/statistics/dataset/BEW-RAUM-ZEIT-ALT/shape\" target=\"_other\">https://ld.stadt-zuerich.ch/statistics/dataset/BEW-RAUM-ZEIT-ALT/shape</a></td></tr><tr class=odd><td class=val><a href=\"https://ld.stadt-zuerich.ch/statistics/dataset/VER-RAUM-ZEIT-BTA-PRA/shape\" target=\"_other\">https://ld.stadt-zuerich.ch/statistics/dataset/VER-RAUM-ZEIT-BTA-PRA/shape</a></td></tr><tr class=even><td class=val><a href=\"https://ld.stadt-zuerich.ch/statistics/dataset/VER-RAUM-ZEIT-BTA/shape\" target=\"_other\">https://ld.stadt-zuerich.ch/statistics/dataset/VER-RAUM-ZEIT-BTA/shape</a></td></tr><tr class=odd><td class=val><a href=\"https://ld.stadt-zuerich.ch/statistics/dataset/VER-RAUM-ZEIT-BTA-VSA/shape\" target=\"_other\">https://ld.stadt-zuerich.ch/statistics/dataset/VER-RAUM-ZEIT-BTA-VSA/shape</a></td></tr><tr class=even><td class=val><a href=\"https://ld.stadt-zuerich.ch/statistics/dataset/PLB-RAUM-ZEIT-BTA-VSA/shape\" target=\"_other\">https://ld.stadt-zuerich.ch/statistics/dataset/PLB-RAUM-ZEIT-BTA-VSA/shape</a></td></tr></table><div class=\"tinfo\">Total: 85, Shown: 20</div></div>"
      ]
     },
     "metadata": {},
     "output_type": "display_data"
    }
   ],
   "source": [
    ">SPARQL\n",
    "PREFIX shacl: <http://www.w3.org/ns/shacl#>\n",
    "\n",
    "SELECT DISTINCT ?shape\n",
    "FROM <https://linked.opendata.swiss/graph/zh/statistics>\n",
    "WHERE{\n",
    "    {?shape a shacl:NodeShape.}\n",
    "    UNION\n",
    "    {?dataset shacl:shapesGraph ?shape.}\n",
    "}"
   ]
  },
  {
   "cell_type": "markdown",
   "metadata": {},
   "source": [
    "### 4.16.1 Explanation\n",
    "See section [3.4](#Other-important-concepts) for details on shapes."
   ]
  },
  {
   "cell_type": "markdown",
   "metadata": {},
   "source": [
    "## 4.17 Example Query: Metadata of Observations\n",
    "Metadata is extracted from five randomly selected observations of a random DataSet:"
   ]
  },
  {
   "cell_type": "code",
   "execution_count": 70,
   "metadata": {},
   "outputs": [
    {
     "data": {
      "text/html": [
       "<div class=\"krn-spql\"><table><tr class=hdr><th>observation</th>\n",
       "<th>predicate</th>\n",
       "<th>attribute</th></tr><tr class=odd><td class=val><a href=\"https://ld.stadt-zuerich.ch/statistics/observation/STF/R00012/Z31121986/BBA3100\" target=\"_other\">https://ld.stadt-zuerich.ch/statistics/observation/STF/R00012/Z31121986/BBA3100</a></td>\n",
       "<td class=val><a href=\"https://ld.stadt-zuerich.ch/statistics/attribute/KORREKTUR\" target=\"_other\">https://ld.stadt-zuerich.ch/statistics/attribute/KORREKTUR</a></td>\n",
       "<td class=val>false</td></tr><tr class=even><td class=val><a href=\"https://ld.stadt-zuerich.ch/statistics/observation/VER/R30000/ZXXXX1962/BTA1102\" target=\"_other\">https://ld.stadt-zuerich.ch/statistics/observation/VER/R30000/ZXXXX1962/BTA1102</a></td>\n",
       "<td class=val><a href=\"https://ld.stadt-zuerich.ch/statistics/attribute/KORREKTUR\" target=\"_other\">https://ld.stadt-zuerich.ch/statistics/attribute/KORREKTUR</a></td>\n",
       "<td class=val>false</td></tr><tr class=odd><td class=val><a href=\"https://ld.stadt-zuerich.ch/statistics/observation/STF/R01100/Z31121990/BBA1224\" target=\"_other\">https://ld.stadt-zuerich.ch/statistics/observation/STF/R01100/Z31121990/BBA1224</a></td>\n",
       "<td class=val><a href=\"https://ld.stadt-zuerich.ch/statistics/attribute/KORREKTUR\" target=\"_other\">https://ld.stadt-zuerich.ch/statistics/attribute/KORREKTUR</a></td>\n",
       "<td class=val>false</td></tr><tr class=even><td class=val><a href=\"https://ld.stadt-zuerich.ch/statistics/observation/STF/R00063/Z31121984/BBA3310\" target=\"_other\">https://ld.stadt-zuerich.ch/statistics/observation/STF/R00063/Z31121984/BBA3310</a></td>\n",
       "<td class=val><a href=\"https://ld.stadt-zuerich.ch/statistics/attribute/KORREKTUR\" target=\"_other\">https://ld.stadt-zuerich.ch/statistics/attribute/KORREKTUR</a></td>\n",
       "<td class=val>false</td></tr><tr class=odd><td class=val><a href=\"https://ld.stadt-zuerich.ch/statistics/observation/BEW/R00011/Z31121995/HEL1000/SEX0002\" target=\"_other\">https://ld.stadt-zuerich.ch/statistics/observation/BEW/R00011/Z31121995/HEL1000/SEX0002</a></td>\n",
       "<td class=val><a href=\"https://ld.stadt-zuerich.ch/statistics/attribute/KORREKTUR\" target=\"_other\">https://ld.stadt-zuerich.ch/statistics/attribute/KORREKTUR</a></td>\n",
       "<td class=val>false</td></tr><tr class=even><td class=val><a href=\"https://ld.stadt-zuerich.ch/statistics/observation/VER/R30000/ZXXXX1962/BTA1102\" target=\"_other\">https://ld.stadt-zuerich.ch/statistics/observation/VER/R30000/ZXXXX1962/BTA1102</a></td>\n",
       "<td class=val><a href=\"https://ld.stadt-zuerich.ch/statistics/attribute/BEZUGSZEIT\" target=\"_other\">https://ld.stadt-zuerich.ch/statistics/attribute/BEZUGSZEIT</a></td>\n",
       "<td class=val>Tag;Tag;Monat;Quartal;Trimester;Semester;Jahr</td></tr><tr class=odd><td class=val><a href=\"https://ld.stadt-zuerich.ch/statistics/observation/STF/R00012/Z31121986/BBA3100\" target=\"_other\">https://ld.stadt-zuerich.ch/statistics/observation/STF/R00012/Z31121986/BBA3100</a></td>\n",
       "<td class=val><a href=\"https://ld.stadt-zuerich.ch/statistics/attribute/BEZUGSZEIT\" target=\"_other\">https://ld.stadt-zuerich.ch/statistics/attribute/BEZUGSZEIT</a></td>\n",
       "<td class=val>Tag;Monat</td></tr><tr class=even><td class=val><a href=\"https://ld.stadt-zuerich.ch/statistics/observation/BEW/R00011/Z31121995/HEL1000/SEX0002\" target=\"_other\">https://ld.stadt-zuerich.ch/statistics/observation/BEW/R00011/Z31121995/HEL1000/SEX0002</a></td>\n",
       "<td class=val><a href=\"https://ld.stadt-zuerich.ch/statistics/attribute/BEZUGSZEIT\" target=\"_other\">https://ld.stadt-zuerich.ch/statistics/attribute/BEZUGSZEIT</a></td>\n",
       "<td class=val>Tag;Monat</td></tr><tr class=odd><td class=val><a href=\"https://ld.stadt-zuerich.ch/statistics/observation/STF/R01100/Z31121990/BBA1224\" target=\"_other\">https://ld.stadt-zuerich.ch/statistics/observation/STF/R01100/Z31121990/BBA1224</a></td>\n",
       "<td class=val><a href=\"https://ld.stadt-zuerich.ch/statistics/attribute/BEZUGSZEIT\" target=\"_other\">https://ld.stadt-zuerich.ch/statistics/attribute/BEZUGSZEIT</a></td>\n",
       "<td class=val>Tag;Monat</td></tr><tr class=even><td class=val><a href=\"https://ld.stadt-zuerich.ch/statistics/observation/STF/R00063/Z31121984/BBA3310\" target=\"_other\">https://ld.stadt-zuerich.ch/statistics/observation/STF/R00063/Z31121984/BBA3310</a></td>\n",
       "<td class=val><a href=\"https://ld.stadt-zuerich.ch/statistics/attribute/BEZUGSZEIT\" target=\"_other\">https://ld.stadt-zuerich.ch/statistics/attribute/BEZUGSZEIT</a></td>\n",
       "<td class=val>Tag;Monat</td></tr><tr class=odd><td class=val><a href=\"https://ld.stadt-zuerich.ch/statistics/observation/VER/R30000/ZXXXX1962/BTA1102\" target=\"_other\">https://ld.stadt-zuerich.ch/statistics/observation/VER/R30000/ZXXXX1962/BTA1102</a></td>\n",
       "<td class=val><a href=\"https://ld.stadt-zuerich.ch/statistics/attribute/DATENSTAND\" target=\"_other\">https://ld.stadt-zuerich.ch/statistics/attribute/DATENSTAND</a></td>\n",
       "<td class=val>2018-08-21</td></tr><tr class=even><td class=val><a href=\"https://ld.stadt-zuerich.ch/statistics/observation/BEW/R00011/Z31121995/HEL1000/SEX0002\" target=\"_other\">https://ld.stadt-zuerich.ch/statistics/observation/BEW/R00011/Z31121995/HEL1000/SEX0002</a></td>\n",
       "<td class=val><a href=\"https://ld.stadt-zuerich.ch/statistics/attribute/DATENSTAND\" target=\"_other\">https://ld.stadt-zuerich.ch/statistics/attribute/DATENSTAND</a></td>\n",
       "<td class=val>2018-08-17</td></tr><tr class=odd><td class=val><a href=\"https://ld.stadt-zuerich.ch/statistics/observation/STF/R00063/Z31121984/BBA3310\" target=\"_other\">https://ld.stadt-zuerich.ch/statistics/observation/STF/R00063/Z31121984/BBA3310</a></td>\n",
       "<td class=val><a href=\"https://ld.stadt-zuerich.ch/statistics/attribute/DATENSTAND\" target=\"_other\">https://ld.stadt-zuerich.ch/statistics/attribute/DATENSTAND</a></td>\n",
       "<td class=val>2018-08-09</td></tr><tr class=even><td class=val><a href=\"https://ld.stadt-zuerich.ch/statistics/observation/STF/R00012/Z31121986/BBA3100\" target=\"_other\">https://ld.stadt-zuerich.ch/statistics/observation/STF/R00012/Z31121986/BBA3100</a></td>\n",
       "<td class=val><a href=\"https://ld.stadt-zuerich.ch/statistics/attribute/DATENSTAND\" target=\"_other\">https://ld.stadt-zuerich.ch/statistics/attribute/DATENSTAND</a></td>\n",
       "<td class=val>2018-08-09</td></tr><tr class=odd><td class=val><a href=\"https://ld.stadt-zuerich.ch/statistics/observation/STF/R01100/Z31121990/BBA1224\" target=\"_other\">https://ld.stadt-zuerich.ch/statistics/observation/STF/R01100/Z31121990/BBA1224</a></td>\n",
       "<td class=val><a href=\"https://ld.stadt-zuerich.ch/statistics/attribute/DATENSTAND\" target=\"_other\">https://ld.stadt-zuerich.ch/statistics/attribute/DATENSTAND</a></td>\n",
       "<td class=val>2018-08-09</td></tr><tr class=even><td class=val><a href=\"https://ld.stadt-zuerich.ch/statistics/observation/STF/R01100/Z31121990/BBA1224\" target=\"_other\">https://ld.stadt-zuerich.ch/statistics/observation/STF/R01100/Z31121990/BBA1224</a></td>\n",
       "<td class=val><a href=\"https://ld.stadt-zuerich.ch/statistics/attribute/QUELLE\" target=\"_other\">https://ld.stadt-zuerich.ch/statistics/attribute/QUELLE</a></td>\n",
       "<td class=val><a href=\"https://ld.stadt-zuerich.ch/statistics/quelle/TED003\" target=\"_other\">https://ld.stadt-zuerich.ch/statistics/quelle/TED003</a></td></tr><tr class=odd><td class=val><a href=\"https://ld.stadt-zuerich.ch/statistics/observation/STF/R00063/Z31121984/BBA3310\" target=\"_other\">https://ld.stadt-zuerich.ch/statistics/observation/STF/R00063/Z31121984/BBA3310</a></td>\n",
       "<td class=val><a href=\"https://ld.stadt-zuerich.ch/statistics/attribute/QUELLE\" target=\"_other\">https://ld.stadt-zuerich.ch/statistics/attribute/QUELLE</a></td>\n",
       "<td class=val><a href=\"https://ld.stadt-zuerich.ch/statistics/quelle/TED003\" target=\"_other\">https://ld.stadt-zuerich.ch/statistics/quelle/TED003</a></td></tr><tr class=even><td class=val><a href=\"https://ld.stadt-zuerich.ch/statistics/observation/STF/R00012/Z31121986/BBA3100\" target=\"_other\">https://ld.stadt-zuerich.ch/statistics/observation/STF/R00012/Z31121986/BBA3100</a></td>\n",
       "<td class=val><a href=\"https://ld.stadt-zuerich.ch/statistics/attribute/QUELLE\" target=\"_other\">https://ld.stadt-zuerich.ch/statistics/attribute/QUELLE</a></td>\n",
       "<td class=val><a href=\"https://ld.stadt-zuerich.ch/statistics/quelle/TED003\" target=\"_other\">https://ld.stadt-zuerich.ch/statistics/quelle/TED003</a></td></tr><tr class=odd><td class=val><a href=\"https://ld.stadt-zuerich.ch/statistics/observation/BEW/R00011/Z31121995/HEL1000/SEX0002\" target=\"_other\">https://ld.stadt-zuerich.ch/statistics/observation/BEW/R00011/Z31121995/HEL1000/SEX0002</a></td>\n",
       "<td class=val><a href=\"https://ld.stadt-zuerich.ch/statistics/attribute/QUELLE\" target=\"_other\">https://ld.stadt-zuerich.ch/statistics/attribute/QUELLE</a></td>\n",
       "<td class=val><a href=\"https://ld.stadt-zuerich.ch/statistics/quelle/SSZ002\" target=\"_other\">https://ld.stadt-zuerich.ch/statistics/quelle/SSZ002</a></td></tr><tr class=even><td class=val><a href=\"https://ld.stadt-zuerich.ch/statistics/observation/STF/R00012/Z31121986/BBA3100\" target=\"_other\">https://ld.stadt-zuerich.ch/statistics/observation/STF/R00012/Z31121986/BBA3100</a></td>\n",
       "<td class=val><a href=\"https://ld.stadt-zuerich.ch/statistics/attribute/QUELLE\" target=\"_other\">https://ld.stadt-zuerich.ch/statistics/attribute/QUELLE</a></td>\n",
       "<td class=val><a href=\"https://ld.stadt-zuerich.ch/statistics/quelle/SSZ001\" target=\"_other\">https://ld.stadt-zuerich.ch/statistics/quelle/SSZ001</a></td></tr></table><div class=\"tinfo\">Total: 26, Shown: 20</div></div>"
      ]
     },
     "metadata": {},
     "output_type": "display_data"
    }
   ],
   "source": [
    ">SPARQL\n",
    "PREFIX qb: <http://purl.org/linked-data/cube#>\n",
    "PREFIX schema: <https://ld.stadt-zuerich.ch/schema/>\n",
    "PREFIX attribute: <https://ld.stadt-zuerich.ch/statistics/attribute/>\n",
    "\n",
    "SELECT DISTINCT ?observation ?predicate ?attribute\n",
    "FROM <https://linked.opendata.swiss/graph/zh/statistics>\n",
    "WHERE{\n",
    "    {\n",
    "    SELECT ?dataset WHERE{\n",
    "        ?dataset a qb:DataSet\n",
    "        }\n",
    "    ORDER BY RAND()\n",
    "    LIMIT 1\n",
    "    }\n",
    "    {\n",
    "    SELECT ?observation WHERE{\n",
    "        ?observation qb:dataSet ?dataset\n",
    "        }\n",
    "    ORDER BY RAND()\n",
    "    LIMIT 5\n",
    "    }\n",
    "    {?observation schema:korrektur ?attribute. ?observation ?predicate ?attribute}\n",
    "    UNION\n",
    "    {?observation schema:lastUpdate ?attribute. ?observation ?predicate ?attribute}\n",
    "    UNION\n",
    "    {?observation schema:nextUpdate ?attribute. ?observation ?predicate ?attribute}\n",
    "    UNION\n",
    "    {?observation attribute:DATENSTAND ?attribute. ?observation ?predicate ?attribute} \n",
    "    UNION\n",
    "    {?observation attribute:RWARTETE_AKTUALISIERUNG ?attribute. ?observation ?predicate ?attribute}\n",
    "    UNION\n",
    "    {?observation attribute:FUSSNOTE ?attribute. ?observation ?predicate ?attribute}\n",
    "    UNION\n",
    "    {?observation attribute:GLOSSAR ?attribute. ?observation ?predicate ?attribute}\n",
    "    UNION\n",
    "    {?observation attribute:KORREKTUR ?attribute. ?observation ?predicate ?attribute}\n",
    "    UNION\n",
    "    {?observation attribute:QUELLE ?attribute. ?observation ?predicate ?attribute}\n",
    "    UNION\n",
    "    {?observation attribute:UPDATE ?attribute. ?observation ?predicate ?attribute}\n",
    "    UNION\n",
    "    {?observation attribute:BEZUGSZEIT ?attribute. ?observation ?predicate ?attribute}\n",
    "}\n",
    "ORDER BY DESC(?attribute)"
   ]
  },
  {
   "cell_type": "markdown",
   "metadata": {},
   "source": [
    "### 4.17.1 Explanation\n",
    "The first two subqueries select randomly a DataSet and Observations of it. Then the Metadata is extracted individually and merged by UNION. DESC orders the list in a way that the literal values come first."
   ]
  },
  {
   "cell_type": "markdown",
   "metadata": {},
   "source": [
    "## 4.18 Example Query: more Metadata of Observations\n",
    "Every DataSet and all of the Observations with the respective metadata are queried. Per DataSet, a particular metadata value is only selected once (thanks to DISTINCT):"
   ]
  },
  {
   "cell_type": "code",
   "execution_count": 71,
   "metadata": {},
   "outputs": [
    {
     "data": {
      "text/html": [
       "<div class=\"krn-spql\"><table><tr class=hdr><th>dataset</th>\n",
       "<th>pred</th>\n",
       "<th>obj</th></tr><tr class=odd><td class=val><a href=\"https://ld.stadt-zuerich.ch/statistics/dataset/AVA-RAUM-ZEIT-GGH-HEL\" target=\"_other\">https://ld.stadt-zuerich.ch/statistics/dataset/AVA-RAUM-ZEIT-GGH-HEL</a></td>\n",
       "<td class=val><a href=\"http://purl.org/dc/terms/license\" target=\"_other\">http://purl.org/dc/terms/license</a></td>\n",
       "<td class=val>CCBY</td></tr><tr class=even><td class=val><a href=\"https://ld.stadt-zuerich.ch/statistics/dataset/AVA-RAUM-ZEIT-GGH-SEX\" target=\"_other\">https://ld.stadt-zuerich.ch/statistics/dataset/AVA-RAUM-ZEIT-GGH-SEX</a></td>\n",
       "<td class=val><a href=\"http://purl.org/dc/terms/license\" target=\"_other\">http://purl.org/dc/terms/license</a></td>\n",
       "<td class=val>CCBY</td></tr><tr class=odd><td class=val><a href=\"https://ld.stadt-zuerich.ch/statistics/dataset/AVA-RAUM-ZEIT-GGH-HEL-SEX\" target=\"_other\">https://ld.stadt-zuerich.ch/statistics/dataset/AVA-RAUM-ZEIT-GGH-HEL-SEX</a></td>\n",
       "<td class=val><a href=\"http://purl.org/dc/terms/license\" target=\"_other\">http://purl.org/dc/terms/license</a></td>\n",
       "<td class=val>CCBY</td></tr><tr class=even><td class=val><a href=\"https://ld.stadt-zuerich.ch/statistics/dataset/NAF-RAUM-ZEIT-BTA\" target=\"_other\">https://ld.stadt-zuerich.ch/statistics/dataset/NAF-RAUM-ZEIT-BTA</a></td>\n",
       "<td class=val><a href=\"http://purl.org/dc/terms/license\" target=\"_other\">http://purl.org/dc/terms/license</a></td>\n",
       "<td class=val>CCBY</td></tr><tr class=odd><td class=val><a href=\"https://ld.stadt-zuerich.ch/statistics/dataset/ADA-RAUM-ZEIT-BTA\" target=\"_other\">https://ld.stadt-zuerich.ch/statistics/dataset/ADA-RAUM-ZEIT-BTA</a></td>\n",
       "<td class=val><a href=\"http://purl.org/dc/terms/license\" target=\"_other\">http://purl.org/dc/terms/license</a></td>\n",
       "<td class=val>CCBY</td></tr><tr class=even><td class=val><a href=\"https://ld.stadt-zuerich.ch/statistics/dataset/FAU-RAUM-ZEIT-BTA\" target=\"_other\">https://ld.stadt-zuerich.ch/statistics/dataset/FAU-RAUM-ZEIT-BTA</a></td>\n",
       "<td class=val><a href=\"http://purl.org/dc/terms/license\" target=\"_other\">http://purl.org/dc/terms/license</a></td>\n",
       "<td class=val>CCBY</td></tr><tr class=odd><td class=val><a href=\"https://ld.stadt-zuerich.ch/statistics/dataset/TIA-RAUM-ZEIT-BTA-TIG\" target=\"_other\">https://ld.stadt-zuerich.ch/statistics/dataset/TIA-RAUM-ZEIT-BTA-TIG</a></td>\n",
       "<td class=val><a href=\"http://purl.org/dc/terms/license\" target=\"_other\">http://purl.org/dc/terms/license</a></td>\n",
       "<td class=val>CCBY</td></tr><tr class=even><td class=val><a href=\"https://ld.stadt-zuerich.ch/statistics/dataset/TII-RAUM-ZEIT-BTA-TIG\" target=\"_other\">https://ld.stadt-zuerich.ch/statistics/dataset/TII-RAUM-ZEIT-BTA-TIG</a></td>\n",
       "<td class=val><a href=\"http://purl.org/dc/terms/license\" target=\"_other\">http://purl.org/dc/terms/license</a></td>\n",
       "<td class=val>CCBY</td></tr><tr class=odd><td class=val><a href=\"https://ld.stadt-zuerich.ch/statistics/dataset/WRT-RAUM-ZEIT-BTA-EAP\" target=\"_other\">https://ld.stadt-zuerich.ch/statistics/dataset/WRT-RAUM-ZEIT-BTA-EAP</a></td>\n",
       "<td class=val><a href=\"http://purl.org/dc/terms/license\" target=\"_other\">http://purl.org/dc/terms/license</a></td>\n",
       "<td class=val>CCBY</td></tr><tr class=even><td class=val><a href=\"https://ld.stadt-zuerich.ch/statistics/dataset/TII-RAUM-ZEIT-BTA\" target=\"_other\">https://ld.stadt-zuerich.ch/statistics/dataset/TII-RAUM-ZEIT-BTA</a></td>\n",
       "<td class=val><a href=\"http://purl.org/dc/terms/license\" target=\"_other\">http://purl.org/dc/terms/license</a></td>\n",
       "<td class=val>CCBY</td></tr><tr class=odd><td class=val><a href=\"https://ld.stadt-zuerich.ch/statistics/dataset/TIA-RAUM-ZEIT-BTA\" target=\"_other\">https://ld.stadt-zuerich.ch/statistics/dataset/TIA-RAUM-ZEIT-BTA</a></td>\n",
       "<td class=val><a href=\"http://purl.org/dc/terms/license\" target=\"_other\">http://purl.org/dc/terms/license</a></td>\n",
       "<td class=val>CCBY</td></tr><tr class=even><td class=val><a href=\"https://ld.stadt-zuerich.ch/statistics/dataset/AUL-RAUM-ZEIT-BTA-MEA\" target=\"_other\">https://ld.stadt-zuerich.ch/statistics/dataset/AUL-RAUM-ZEIT-BTA-MEA</a></td>\n",
       "<td class=val><a href=\"http://purl.org/dc/terms/license\" target=\"_other\">http://purl.org/dc/terms/license</a></td>\n",
       "<td class=val>CCBY</td></tr><tr class=odd><td class=val><a href=\"https://ld.stadt-zuerich.ch/statistics/dataset/PUB-RAUM-ZEIT-BTA-SGR\" target=\"_other\">https://ld.stadt-zuerich.ch/statistics/dataset/PUB-RAUM-ZEIT-BTA-SGR</a></td>\n",
       "<td class=val><a href=\"http://purl.org/dc/terms/license\" target=\"_other\">http://purl.org/dc/terms/license</a></td>\n",
       "<td class=val>CCBY</td></tr><tr class=even><td class=val><a href=\"https://ld.stadt-zuerich.ch/statistics/dataset/MED-RAUM-ZEIT-BTA\" target=\"_other\">https://ld.stadt-zuerich.ch/statistics/dataset/MED-RAUM-ZEIT-BTA</a></td>\n",
       "<td class=val><a href=\"http://purl.org/dc/terms/license\" target=\"_other\">http://purl.org/dc/terms/license</a></td>\n",
       "<td class=val>CCBY</td></tr><tr class=odd><td class=val><a href=\"https://ld.stadt-zuerich.ch/statistics/dataset/AUL-RAUM-ZEIT-BTA\" target=\"_other\">https://ld.stadt-zuerich.ch/statistics/dataset/AUL-RAUM-ZEIT-BTA</a></td>\n",
       "<td class=val><a href=\"http://purl.org/dc/terms/license\" target=\"_other\">http://purl.org/dc/terms/license</a></td>\n",
       "<td class=val>CCBY</td></tr><tr class=even><td class=val><a href=\"https://ld.stadt-zuerich.ch/statistics/dataset/TXA-RAUM-ZEIT-BTA\" target=\"_other\">https://ld.stadt-zuerich.ch/statistics/dataset/TXA-RAUM-ZEIT-BTA</a></td>\n",
       "<td class=val><a href=\"http://purl.org/dc/terms/license\" target=\"_other\">http://purl.org/dc/terms/license</a></td>\n",
       "<td class=val>CC0</td></tr><tr class=odd><td class=val><a href=\"https://ld.stadt-zuerich.ch/statistics/dataset/AUF-RAUM-ZEIT-BTA\" target=\"_other\">https://ld.stadt-zuerich.ch/statistics/dataset/AUF-RAUM-ZEIT-BTA</a></td>\n",
       "<td class=val><a href=\"http://purl.org/dc/terms/license\" target=\"_other\">http://purl.org/dc/terms/license</a></td>\n",
       "<td class=val>CCBY</td></tr><tr class=even><td class=val><a href=\"https://ld.stadt-zuerich.ch/statistics/dataset/ZUV-RAUM-ZEIT-BTA\" target=\"_other\">https://ld.stadt-zuerich.ch/statistics/dataset/ZUV-RAUM-ZEIT-BTA</a></td>\n",
       "<td class=val><a href=\"http://purl.org/dc/terms/license\" target=\"_other\">http://purl.org/dc/terms/license</a></td>\n",
       "<td class=val>CC0</td></tr><tr class=odd><td class=val><a href=\"https://ld.stadt-zuerich.ch/statistics/dataset/MED-RAUM-ZEIT-BTA-MEA\" target=\"_other\">https://ld.stadt-zuerich.ch/statistics/dataset/MED-RAUM-ZEIT-BTA-MEA</a></td>\n",
       "<td class=val><a href=\"http://purl.org/dc/terms/license\" target=\"_other\">http://purl.org/dc/terms/license</a></td>\n",
       "<td class=val>CCBY</td></tr><tr class=even><td class=val><a href=\"https://ld.stadt-zuerich.ch/statistics/dataset/PLA-RAUM-ZEIT-BTA\" target=\"_other\">https://ld.stadt-zuerich.ch/statistics/dataset/PLA-RAUM-ZEIT-BTA</a></td>\n",
       "<td class=val><a href=\"http://purl.org/dc/terms/license\" target=\"_other\">http://purl.org/dc/terms/license</a></td>\n",
       "<td class=val>CCBY</td></tr></table><div class=\"tinfo\">Total: 921, Shown: 20</div></div>"
      ]
     },
     "metadata": {},
     "output_type": "display_data"
    }
   ],
   "source": [
    ">SPARQL\n",
    "PREFIX attribute: <https://ld.stadt-zuerich.ch/statistics/attribute/>\n",
    "PREFIX rdfs: <http://www.w3.org/2000/01/rdf-schema#>\n",
    "PREFIX qb: <http://purl.org/linked-data/cube#>\n",
    "\n",
    "SELECT ?dataset ?pred ?obj \n",
    "FROM <https://linked.opendata.swiss/graph/zh/statistics>\n",
    "WHERE{  \n",
    "    ?dataset a qb:DataSet.\n",
    "    \n",
    "    {\n",
    "    #Unit\n",
    "    ?dataset <http://purl.org/linked-data/sdmx/2009/attribute#unitMeasure> ?obj.\n",
    "    ?dataset ?pred ?obj.\n",
    "    } \n",
    "\n",
    "    UNION\n",
    "\n",
    "    {\n",
    "    #Lizenz\n",
    "    ?dataset <http://purl.org/dc/terms/license> ?obj.\n",
    "    ?dataset ?pred ?obj.\n",
    "    }\n",
    "\n",
    "    UNION\n",
    "\n",
    "    {\n",
    "    #Fussnoten\n",
    "    SELECT DISTINCT ?dataset ?pred ?obj WHERE{\n",
    "        ?obs a qb:Observation;\n",
    "            attribute:FUSSNOTE ?obj;\n",
    "            ?pred ?obj;\n",
    "            qb:dataSet ?dataset.\n",
    "      }\n",
    "    }\n",
    "\n",
    "    UNION\n",
    "\n",
    "    {\n",
    "    #Glossar\n",
    "    SELECT DISTINCT ?dataset ?pred ?obj WHERE{\n",
    "        ?obs a qb:Observation;\n",
    "            attribute:GLOSSAR ?obj;\n",
    "            ?pred ?obj;\n",
    "            qb:dataSet ?dataset.\n",
    "      }   \n",
    "    }  \n",
    "\n",
    "    UNION\n",
    "\n",
    "    {\n",
    "    #Quelle\n",
    "    SELECT DISTINCT ?dataset ?pred ?obj WHERE{\n",
    "        ?obs a qb:Observation;\n",
    "            attribute:QUELLE ?obj;\n",
    "            ?pred ?obj;\n",
    "            qb:dataSet ?dataset.\n",
    "      }   \n",
    "    }   \n",
    "\n",
    "    UNION\n",
    "\n",
    "    {\n",
    "    #Erwartetes Aktualisierungsdatum\n",
    "    SELECT DISTINCT ?dataset ?pred ?obj WHERE{\n",
    "        ?obs a qb:Observation;\n",
    "            attribute:ERWARTETE_AKTUALISIERUNG ?obj;\n",
    "            ?pred ?obj;\n",
    "            qb:dataSet ?dataset.\n",
    "      }   \n",
    "    }     \n",
    "\n",
    "    UNION\n",
    "\n",
    "    {\n",
    "    #Letztes Aktualisierungsdatum\n",
    "    SELECT DISTINCT ?dataset ?pred ?obj WHERE{\n",
    "        ?obs a qb:Observation;\n",
    "            attribute:DATENSTAND ?obj;\n",
    "            ?pred ?obj;\n",
    "            qb:dataSet ?dataset.\n",
    "      }   \n",
    "    }     \n",
    "\n",
    "    UNION\n",
    "\n",
    "    {\n",
    "    #Korrektur\n",
    "    SELECT DISTINCT ?dataset ?pred ?obj WHERE{\n",
    "        ?obs a qb:Observation;\n",
    "            attribute:KORREKTUR ?obj;\n",
    "            ?pred ?obj;\n",
    "            qb:dataSet ?dataset.\n",
    "      }   \n",
    "    }   \n",
    "    \n",
    "    UNION\n",
    "    \n",
    "    {\n",
    "    #Bezugszeit\n",
    "    SELECT DISTINCT ?dataset ?pred ?obj WHERE{\n",
    "        ?obs a qb:Observation;\n",
    "            attribute:BEZUGSZEIT ?obj;\n",
    "            ?pred ?obj;\n",
    "            qb:dataSet ?dataset.\n",
    "      }   \n",
    "    } \n",
    "}\n",
    "ORDER BY ?pred"
   ]
  },
  {
   "cell_type": "markdown",
   "metadata": {},
   "source": [
    "### 4.18.1 Explanation\n",
    "The first two subqueries simply extract the license and unitMeasure for every DataSet. The other subqueries SELECT all DISTINCT metadata of the Observations of an individual DataSet."
   ]
  },
  {
   "cell_type": "markdown",
   "metadata": {},
   "source": [
    "## 4.19 Example Query: relations of a DataSet\n",
    "For a randomly selected DataSet, this query extracts all nodes with a path length equal to one, originating from the central node:"
   ]
  },
  {
   "cell_type": "code",
   "execution_count": 72,
   "metadata": {},
   "outputs": [
    {
     "data": {
      "text/html": [
       "<div class=\"krn-spql\"><table><tr class=hdr><th>dataset</th>\n",
       "<th>pred</th>\n",
       "<th>property</th></tr><tr class=odd><td class=val><a href=\"https://ld.stadt-zuerich.ch/statistics/dataset/AST-RAUM-ZEIT-BTA\" target=\"_other\">https://ld.stadt-zuerich.ch/statistics/dataset/AST-RAUM-ZEIT-BTA</a></td>\n",
       "<td class=val><a href=\"http://purl.org/dc/terms/license\" target=\"_other\">http://purl.org/dc/terms/license</a></td>\n",
       "<td class=val>CC0</td></tr><tr class=even><td class=val><a href=\"https://ld.stadt-zuerich.ch/statistics/dataset/AST-RAUM-ZEIT-BTA\" target=\"_other\">https://ld.stadt-zuerich.ch/statistics/dataset/AST-RAUM-ZEIT-BTA</a></td>\n",
       "<td class=val><a href=\"http://www.w3.org/2000/01/rdf-schema#label\" target=\"_other\">http://www.w3.org/2000/01/rdf-schema#label</a></td>\n",
       "<td class=val>Arbeitsstätten nach Betriebsart, Raum, Zeit</td></tr><tr class=odd><td class=val><a href=\"https://ld.stadt-zuerich.ch/statistics/dataset/AST-RAUM-ZEIT-BTA\" target=\"_other\">https://ld.stadt-zuerich.ch/statistics/dataset/AST-RAUM-ZEIT-BTA</a></td>\n",
       "<td class=val><a href=\"http://www.w3.org/2004/02/skos/core#notation\" target=\"_other\">http://www.w3.org/2004/02/skos/core#notation</a></td>\n",
       "<td class=val>AST-RAUM-ZEIT-BTA</td></tr><tr class=even><td class=val><a href=\"https://ld.stadt-zuerich.ch/statistics/dataset/AST-RAUM-ZEIT-BTA\" target=\"_other\">https://ld.stadt-zuerich.ch/statistics/dataset/AST-RAUM-ZEIT-BTA</a></td>\n",
       "<td class=val><a href=\"http://www.w3.org/2002/07/owl#sameAs\" target=\"_other\">http://www.w3.org/2002/07/owl#sameAs</a></td>\n",
       "<td class=val><a href=\"https://stat.stadt-zuerich.ch/dataset/AST-RAUM-ZEIT-BTA\" target=\"_other\">https://stat.stadt-zuerich.ch/dataset/AST-RAUM-ZEIT-BTA</a></td></tr><tr class=odd><td class=val><a href=\"https://ld.stadt-zuerich.ch/statistics/dataset/AST-RAUM-ZEIT-BTA\" target=\"_other\">https://ld.stadt-zuerich.ch/statistics/dataset/AST-RAUM-ZEIT-BTA</a></td>\n",
       "<td class=val><a href=\"http://purl.org/linked-data/sdmx/2009/attribute#unitMeasure\" target=\"_other\">http://purl.org/linked-data/sdmx/2009/attribute#unitMeasure</a></td>\n",
       "<td class=val><a href=\"https://ld.stadt-zuerich.ch/statistics/unit/arbeitsstaette\" target=\"_other\">https://ld.stadt-zuerich.ch/statistics/unit/arbeitsstaette</a></td></tr><tr class=even><td class=val><a href=\"https://ld.stadt-zuerich.ch/statistics/dataset/AST-RAUM-ZEIT-BTA\" target=\"_other\">https://ld.stadt-zuerich.ch/statistics/dataset/AST-RAUM-ZEIT-BTA</a></td>\n",
       "<td class=val><a href=\"http://purl.org/linked-data/cube#slice\" target=\"_other\">http://purl.org/linked-data/cube#slice</a></td>\n",
       "<td class=val><a href=\"https://ld.stadt-zuerich.ch/statistics/dataset/AST-RAUM-ZEIT-BTA/slice\" target=\"_other\">https://ld.stadt-zuerich.ch/statistics/dataset/AST-RAUM-ZEIT-BTA/slice</a></td></tr><tr class=odd><td class=val><a href=\"https://ld.stadt-zuerich.ch/statistics/dataset/AST-RAUM-ZEIT-BTA\" target=\"_other\">https://ld.stadt-zuerich.ch/statistics/dataset/AST-RAUM-ZEIT-BTA</a></td>\n",
       "<td class=val><a href=\"http://purl.org/linked-data/cube#slice\" target=\"_other\">http://purl.org/linked-data/cube#slice</a></td>\n",
       "<td class=val><a href=\"https://ld.stadt-zuerich.ch/statistics/dataset/AST-RAUM-ZEIT-BTA/ASTBTA7102/slice\" target=\"_other\">https://ld.stadt-zuerich.ch/statistics/dataset/AST-RAUM-ZEIT-BTA/ASTBTA7102/slice</a></td></tr><tr class=even><td class=val><a href=\"https://ld.stadt-zuerich.ch/statistics/dataset/AST-RAUM-ZEIT-BTA\" target=\"_other\">https://ld.stadt-zuerich.ch/statistics/dataset/AST-RAUM-ZEIT-BTA</a></td>\n",
       "<td class=val><a href=\"http://purl.org/linked-data/cube#slice\" target=\"_other\">http://purl.org/linked-data/cube#slice</a></td>\n",
       "<td class=val><a href=\"https://ld.stadt-zuerich.ch/statistics/dataset/AST-RAUM-ZEIT-BTA/ASTBTA7101/slice\" target=\"_other\">https://ld.stadt-zuerich.ch/statistics/dataset/AST-RAUM-ZEIT-BTA/ASTBTA7101/slice</a></td></tr><tr class=odd><td class=val><a href=\"https://ld.stadt-zuerich.ch/statistics/dataset/AST-RAUM-ZEIT-BTA\" target=\"_other\">https://ld.stadt-zuerich.ch/statistics/dataset/AST-RAUM-ZEIT-BTA</a></td>\n",
       "<td class=val><a href=\"http://purl.org/linked-data/cube#slice\" target=\"_other\">http://purl.org/linked-data/cube#slice</a></td>\n",
       "<td class=val><a href=\"https://ld.stadt-zuerich.ch/statistics/dataset/AST-RAUM-ZEIT-BTA/ASTBTA7100/slice\" target=\"_other\">https://ld.stadt-zuerich.ch/statistics/dataset/AST-RAUM-ZEIT-BTA/ASTBTA7100/slice</a></td></tr><tr class=even><td class=val><a href=\"https://ld.stadt-zuerich.ch/statistics/dataset/AST-RAUM-ZEIT-BTA\" target=\"_other\">https://ld.stadt-zuerich.ch/statistics/dataset/AST-RAUM-ZEIT-BTA</a></td>\n",
       "<td class=val><a href=\"http://purl.org/linked-data/cube#slice\" target=\"_other\">http://purl.org/linked-data/cube#slice</a></td>\n",
       "<td class=val><a href=\"https://ld.stadt-zuerich.ch/statistics/dataset/AST-RAUM-ZEIT-BTA/ASTBTA5091/slice\" target=\"_other\">https://ld.stadt-zuerich.ch/statistics/dataset/AST-RAUM-ZEIT-BTA/ASTBTA5091/slice</a></td></tr><tr class=odd><td class=val><a href=\"https://ld.stadt-zuerich.ch/statistics/dataset/AST-RAUM-ZEIT-BTA\" target=\"_other\">https://ld.stadt-zuerich.ch/statistics/dataset/AST-RAUM-ZEIT-BTA</a></td>\n",
       "<td class=val><a href=\"http://purl.org/linked-data/cube#slice\" target=\"_other\">http://purl.org/linked-data/cube#slice</a></td>\n",
       "<td class=val><a href=\"https://ld.stadt-zuerich.ch/statistics/dataset/AST-RAUM-ZEIT-BTA/ASTBTA5090/slice\" target=\"_other\">https://ld.stadt-zuerich.ch/statistics/dataset/AST-RAUM-ZEIT-BTA/ASTBTA5090/slice</a></td></tr><tr class=even><td class=val><a href=\"https://ld.stadt-zuerich.ch/statistics/dataset/AST-RAUM-ZEIT-BTA\" target=\"_other\">https://ld.stadt-zuerich.ch/statistics/dataset/AST-RAUM-ZEIT-BTA</a></td>\n",
       "<td class=val><a href=\"http://purl.org/linked-data/cube#slice\" target=\"_other\">http://purl.org/linked-data/cube#slice</a></td>\n",
       "<td class=val><a href=\"https://ld.stadt-zuerich.ch/statistics/dataset/AST-RAUM-ZEIT-BTA/ASTBTA5013/slice\" target=\"_other\">https://ld.stadt-zuerich.ch/statistics/dataset/AST-RAUM-ZEIT-BTA/ASTBTA5013/slice</a></td></tr><tr class=odd><td class=val><a href=\"https://ld.stadt-zuerich.ch/statistics/dataset/AST-RAUM-ZEIT-BTA\" target=\"_other\">https://ld.stadt-zuerich.ch/statistics/dataset/AST-RAUM-ZEIT-BTA</a></td>\n",
       "<td class=val><a href=\"http://purl.org/linked-data/cube#slice\" target=\"_other\">http://purl.org/linked-data/cube#slice</a></td>\n",
       "<td class=val><a href=\"https://ld.stadt-zuerich.ch/statistics/dataset/AST-RAUM-ZEIT-BTA/ASTBTA5012/slice\" target=\"_other\">https://ld.stadt-zuerich.ch/statistics/dataset/AST-RAUM-ZEIT-BTA/ASTBTA5012/slice</a></td></tr><tr class=even><td class=val><a href=\"https://ld.stadt-zuerich.ch/statistics/dataset/AST-RAUM-ZEIT-BTA\" target=\"_other\">https://ld.stadt-zuerich.ch/statistics/dataset/AST-RAUM-ZEIT-BTA</a></td>\n",
       "<td class=val><a href=\"http://purl.org/linked-data/cube#slice\" target=\"_other\">http://purl.org/linked-data/cube#slice</a></td>\n",
       "<td class=val><a href=\"https://ld.stadt-zuerich.ch/statistics/dataset/AST-RAUM-ZEIT-BTA/ASTBTA5011/slice\" target=\"_other\">https://ld.stadt-zuerich.ch/statistics/dataset/AST-RAUM-ZEIT-BTA/ASTBTA5011/slice</a></td></tr><tr class=odd><td class=val><a href=\"https://ld.stadt-zuerich.ch/statistics/dataset/AST-RAUM-ZEIT-BTA\" target=\"_other\">https://ld.stadt-zuerich.ch/statistics/dataset/AST-RAUM-ZEIT-BTA</a></td>\n",
       "<td class=val><a href=\"http://purl.org/linked-data/cube#slice\" target=\"_other\">http://purl.org/linked-data/cube#slice</a></td>\n",
       "<td class=val><a href=\"https://ld.stadt-zuerich.ch/statistics/dataset/AST-RAUM-ZEIT-BTA/ASTBTA5010/slice\" target=\"_other\">https://ld.stadt-zuerich.ch/statistics/dataset/AST-RAUM-ZEIT-BTA/ASTBTA5010/slice</a></td></tr><tr class=even><td class=val><a href=\"https://ld.stadt-zuerich.ch/statistics/dataset/AST-RAUM-ZEIT-BTA\" target=\"_other\">https://ld.stadt-zuerich.ch/statistics/dataset/AST-RAUM-ZEIT-BTA</a></td>\n",
       "<td class=val><a href=\"http://purl.org/linked-data/cube#slice\" target=\"_other\">http://purl.org/linked-data/cube#slice</a></td>\n",
       "<td class=val><a href=\"https://ld.stadt-zuerich.ch/statistics/dataset/AST-RAUM-ZEIT-BTA/ASTBTA5009/slice\" target=\"_other\">https://ld.stadt-zuerich.ch/statistics/dataset/AST-RAUM-ZEIT-BTA/ASTBTA5009/slice</a></td></tr><tr class=odd><td class=val><a href=\"https://ld.stadt-zuerich.ch/statistics/dataset/AST-RAUM-ZEIT-BTA\" target=\"_other\">https://ld.stadt-zuerich.ch/statistics/dataset/AST-RAUM-ZEIT-BTA</a></td>\n",
       "<td class=val><a href=\"http://purl.org/linked-data/cube#slice\" target=\"_other\">http://purl.org/linked-data/cube#slice</a></td>\n",
       "<td class=val><a href=\"https://ld.stadt-zuerich.ch/statistics/dataset/AST-RAUM-ZEIT-BTA/ASTBTA5008/slice\" target=\"_other\">https://ld.stadt-zuerich.ch/statistics/dataset/AST-RAUM-ZEIT-BTA/ASTBTA5008/slice</a></td></tr><tr class=even><td class=val><a href=\"https://ld.stadt-zuerich.ch/statistics/dataset/AST-RAUM-ZEIT-BTA\" target=\"_other\">https://ld.stadt-zuerich.ch/statistics/dataset/AST-RAUM-ZEIT-BTA</a></td>\n",
       "<td class=val><a href=\"http://purl.org/linked-data/cube#slice\" target=\"_other\">http://purl.org/linked-data/cube#slice</a></td>\n",
       "<td class=val><a href=\"https://ld.stadt-zuerich.ch/statistics/dataset/AST-RAUM-ZEIT-BTA/ASTBTA5007/slice\" target=\"_other\">https://ld.stadt-zuerich.ch/statistics/dataset/AST-RAUM-ZEIT-BTA/ASTBTA5007/slice</a></td></tr><tr class=odd><td class=val><a href=\"https://ld.stadt-zuerich.ch/statistics/dataset/AST-RAUM-ZEIT-BTA\" target=\"_other\">https://ld.stadt-zuerich.ch/statistics/dataset/AST-RAUM-ZEIT-BTA</a></td>\n",
       "<td class=val><a href=\"http://purl.org/linked-data/cube#slice\" target=\"_other\">http://purl.org/linked-data/cube#slice</a></td>\n",
       "<td class=val><a href=\"https://ld.stadt-zuerich.ch/statistics/dataset/AST-RAUM-ZEIT-BTA/ASTBTA5006/slice\" target=\"_other\">https://ld.stadt-zuerich.ch/statistics/dataset/AST-RAUM-ZEIT-BTA/ASTBTA5006/slice</a></td></tr><tr class=even><td class=val><a href=\"https://ld.stadt-zuerich.ch/statistics/dataset/AST-RAUM-ZEIT-BTA\" target=\"_other\">https://ld.stadt-zuerich.ch/statistics/dataset/AST-RAUM-ZEIT-BTA</a></td>\n",
       "<td class=val><a href=\"http://purl.org/linked-data/cube#slice\" target=\"_other\">http://purl.org/linked-data/cube#slice</a></td>\n",
       "<td class=val><a href=\"https://ld.stadt-zuerich.ch/statistics/dataset/AST-RAUM-ZEIT-BTA/ASTBTA5005/slice\" target=\"_other\">https://ld.stadt-zuerich.ch/statistics/dataset/AST-RAUM-ZEIT-BTA/ASTBTA5005/slice</a></td></tr></table><div class=\"tinfo\">Total: 27, Shown: 20</div></div>"
      ]
     },
     "metadata": {},
     "output_type": "display_data"
    }
   ],
   "source": [
    ">SPARQL\n",
    "PREFIX qb: <http://purl.org/linked-data/cube#>\n",
    "PREFIX rdfs: <http://www.w3.org/2000/01/rdf-schema#>\n",
    "PREFIX skos: <http://www.w3.org/2004/02/skos/core#>\n",
    "PREFIX : <arbitrary:relation>\n",
    "\n",
    "SELECT DISTINCT ?dataset ?pred ?property\n",
    "FROM <https://linked.opendata.swiss/graph/zh/statistics>\n",
    "WHERE{\n",
    "    {\n",
    "    SELECT ?dataset WHERE{\n",
    "        ?dataset skos:notation \"AST-RAUM-ZEIT-BTA\".\n",
    "        \n",
    "        #?dataset a qb:DataSet.\n",
    "        #FILTER REGEX(STR(?dataset), \"stadt-zuerich\").\n",
    "        }\n",
    "    ORDER BY RAND()\n",
    "    LIMIT 1\n",
    "    }\n",
    "    {?dataset (:|!:) ?property. ?dataset ?pred ?property}\n",
    "}\n",
    "ORDER BY DESC(?property)"
   ]
  },
  {
   "cell_type": "markdown",
   "metadata": {},
   "source": [
    "### 4.19.1 Explanation\n",
    "* Property Paths are specified [here](https://www.w3.org/TR/sparql11-query/#propertypaths) and explained in more detail [here](https://en.wikibooks.org/wiki/SPARQL/Property_paths)\n",
    "\n",
    "First a DataSet is selected, either randomly (switch the comments in the subselect) or a specific one, then the query tests the relationships originating from the cetral node https://ld.stadt-zuerich.ch/statistics/dataset/&lt;DataSet&gt;. The property path ```(:|!:)``` checks wheter there is a relation connecting two resources and ```?dataset ?pred ?property``` matches these relation. The following list gives an overview of the required regular expressions:\n",
    "* **(a|b)** means either path __a__ OR **b**\n",
    "* **!a** means negation, i.e. NOT **a**\n",
    "* **^a** means the inverse path of __a__ (graph is traversed in reverse direction)\n",
    "* **a/b** means a sequence of path __a__ followed by **b**\n",
    "* **a?** is a path that connects the subject and object by zero OR one match of **a**\n",
    "* **a*** is a path that connects the subject and object by zero or more matches of **a**\n",
    "* **a+** is a path that connects the subject and object by one or more matches of **a**\n",
    "* **:** is an empty and arbitrary relation, e.g. PREFIX : <arbitrary:relation>\n",
    "\n",
    "Every relation is certainly either **:** OR __!:__ which implies that the property path simply matches all paths of lenght or depth equal to one. \n",
    "\n",
    "Let's say we want to CONSTRUCT the whole LOSD graph or subgraphs for visualisation purposes. Would the expression above be enough to completely traverse a graph? NO, because if we want to traverse a directed graph in both directions, we have to consider inverse paths of the form ```^(:|!:)``` as well. To match every single path one would need the following subquery:\n",
    "\n",
    "```{<origin> ((:|!:)|^(:|!:))* ?sub. ?sub ?pred ?obj}```\n",
    "\n",
    "which can then be used in a CONSTRUCT query (after **replacing** <source> with an arbitrary node):"
   ]
  },
  {
   "cell_type": "code",
   "execution_count": 74,
   "metadata": {},
   "outputs": [
    {
     "data": {
      "text/html": [
       "<div class=\"krn-spql\"><div class=\"krn-error\"><span class=\"title\">Error:</span> Unexpected response format: text/turtle</div></div>"
      ],
      "text/plain": [
       "Error: Unexpected response format: text/turtle"
      ]
     },
     "metadata": {},
     "output_type": "display_data"
    }
   ],
   "source": [
    ">SPARQL\n",
    "PREFIX : <arbitrary:relation>\n",
    "\n",
    "CONSTRUCT{?sub ?pred ?obj}\n",
    "FROM <https://linked.opendata.swiss/graph/zh/statistics>\n",
    "WHERE{<origin> ((:|!:)|^(:|!:))* ?sub. ?sub ?pred ?obj}\n",
    "LIMIT 100"
   ]
  },
  {
   "cell_type": "markdown",
   "metadata": {},
   "source": [
    "Note that you can change the output format of such CONSTRUCT queries through the SPARQL-Interface (RDF-XML, JSON, Turtle etc.). Other options are available such as URL arguments or HTTP headers:\n",
    "<img src=\"images/interface_config.png\" width=\"800px\" align=\"left\">"
   ]
  },
  {
   "cell_type": "markdown",
   "metadata": {},
   "source": [
    "## 4.20 Example Query: relations of an Observation\n",
    "For a randomly selected Observation, this query extracts all nodes with a path length equal to one, originating from the central node:"
   ]
  },
  {
   "cell_type": "code",
   "execution_count": 77,
   "metadata": {},
   "outputs": [
    {
     "data": {
      "text/html": [
       "<div class=\"krn-spql\"><table><tr class=hdr><th>observation</th>\n",
       "<th>pred</th>\n",
       "<th>property</th></tr><tr class=odd><td class=val><a href=\"https://ld.stadt-zuerich.ch/statistics/observation/AST/R00031/Z31121978/BTA5005\" target=\"_other\">https://ld.stadt-zuerich.ch/statistics/observation/AST/R00031/Z31121978/BTA5005</a></td>\n",
       "<td class=val><a href=\"http://www.w3.org/1999/02/22-rdf-syntax-ns#type\" target=\"_other\">http://www.w3.org/1999/02/22-rdf-syntax-ns#type</a></td>\n",
       "<td class=val><a href=\"http://purl.org/linked-data/cube#Observation\" target=\"_other\">http://purl.org/linked-data/cube#Observation</a></td></tr><tr class=even><td class=val><a href=\"https://ld.stadt-zuerich.ch/statistics/observation/AST/R00031/Z31121978/BTA5005\" target=\"_other\">https://ld.stadt-zuerich.ch/statistics/observation/AST/R00031/Z31121978/BTA5005</a></td>\n",
       "<td class=val><a href=\"https://ld.stadt-zuerich.ch/statistics/property/BTA\" target=\"_other\">https://ld.stadt-zuerich.ch/statistics/property/BTA</a></td>\n",
       "<td class=val><a href=\"https://ld.stadt-zuerich.ch/statistics/code/BTA5005\" target=\"_other\">https://ld.stadt-zuerich.ch/statistics/code/BTA5005</a></td></tr><tr class=odd><td class=val><a href=\"https://ld.stadt-zuerich.ch/statistics/observation/AST/R00031/Z31121978/BTA5005\" target=\"_other\">https://ld.stadt-zuerich.ch/statistics/observation/AST/R00031/Z31121978/BTA5005</a></td>\n",
       "<td class=val><a href=\"https://ld.stadt-zuerich.ch/statistics/property/RAUM\" target=\"_other\">https://ld.stadt-zuerich.ch/statistics/property/RAUM</a></td>\n",
       "<td class=val><a href=\"https://ld.stadt-zuerich.ch/statistics/code/R00031\" target=\"_other\">https://ld.stadt-zuerich.ch/statistics/code/R00031</a></td></tr><tr class=even><td class=val><a href=\"https://ld.stadt-zuerich.ch/statistics/observation/AST/R00031/Z31121978/BTA5005\" target=\"_other\">https://ld.stadt-zuerich.ch/statistics/observation/AST/R00031/Z31121978/BTA5005</a></td>\n",
       "<td class=val><a href=\"http://purl.org/linked-data/cube#dataSet\" target=\"_other\">http://purl.org/linked-data/cube#dataSet</a></td>\n",
       "<td class=val><a href=\"https://ld.stadt-zuerich.ch/statistics/dataset/AST-RAUM-ZEIT-BTA\" target=\"_other\">https://ld.stadt-zuerich.ch/statistics/dataset/AST-RAUM-ZEIT-BTA</a></td></tr><tr class=odd><td class=val><a href=\"https://ld.stadt-zuerich.ch/statistics/observation/AST/R00031/Z31121978/BTA5005\" target=\"_other\">https://ld.stadt-zuerich.ch/statistics/observation/AST/R00031/Z31121978/BTA5005</a></td>\n",
       "<td class=val><a href=\"https://ld.stadt-zuerich.ch/statistics/attribute/GLOSSAR\" target=\"_other\">https://ld.stadt-zuerich.ch/statistics/attribute/GLOSSAR</a></td>\n",
       "<td class=val><a href=\"https://ld.stadt-zuerich.ch/statistics/glossary/GBTA5000\" target=\"_other\">https://ld.stadt-zuerich.ch/statistics/glossary/GBTA5000</a></td></tr><tr class=even><td class=val><a href=\"https://ld.stadt-zuerich.ch/statistics/observation/AST/R00031/Z31121978/BTA5005\" target=\"_other\">https://ld.stadt-zuerich.ch/statistics/observation/AST/R00031/Z31121978/BTA5005</a></td>\n",
       "<td class=val><a href=\"https://ld.stadt-zuerich.ch/statistics/attribute/QUELLE\" target=\"_other\">https://ld.stadt-zuerich.ch/statistics/attribute/QUELLE</a></td>\n",
       "<td class=val><a href=\"https://ld.stadt-zuerich.ch/statistics/quelle/PD006\" target=\"_other\">https://ld.stadt-zuerich.ch/statistics/quelle/PD006</a></td></tr><tr class=odd><td class=val><a href=\"https://ld.stadt-zuerich.ch/statistics/observation/AST/R00031/Z31121978/BTA5005\" target=\"_other\">https://ld.stadt-zuerich.ch/statistics/observation/AST/R00031/Z31121978/BTA5005</a></td>\n",
       "<td class=val><a href=\"https://ld.stadt-zuerich.ch/statistics/property/ZEIT\" target=\"_other\">https://ld.stadt-zuerich.ch/statistics/property/ZEIT</a></td>\n",
       "<td class=val>1978-12-31</td></tr><tr class=even><td class=val><a href=\"https://ld.stadt-zuerich.ch/statistics/observation/AST/R00031/Z31121978/BTA5005\" target=\"_other\">https://ld.stadt-zuerich.ch/statistics/observation/AST/R00031/Z31121978/BTA5005</a></td>\n",
       "<td class=val><a href=\"https://ld.stadt-zuerich.ch/statistics/measure/AST\" target=\"_other\">https://ld.stadt-zuerich.ch/statistics/measure/AST</a></td>\n",
       "<td class=val>20.0</td></tr><tr class=odd><td class=val><a href=\"https://ld.stadt-zuerich.ch/statistics/observation/AST/R00031/Z31121978/BTA5005\" target=\"_other\">https://ld.stadt-zuerich.ch/statistics/observation/AST/R00031/Z31121978/BTA5005</a></td>\n",
       "<td class=val><a href=\"https://ld.stadt-zuerich.ch/statistics/attribute/DATENSTAND\" target=\"_other\">https://ld.stadt-zuerich.ch/statistics/attribute/DATENSTAND</a></td>\n",
       "<td class=val>2018-08-08</td></tr><tr class=even><td class=val><a href=\"https://ld.stadt-zuerich.ch/statistics/observation/AST/R00031/Z31121978/BTA5005\" target=\"_other\">https://ld.stadt-zuerich.ch/statistics/observation/AST/R00031/Z31121978/BTA5005</a></td>\n",
       "<td class=val><a href=\"https://ld.stadt-zuerich.ch/statistics/attribute/ERWARTETE_AKTUALISIERUNG\" target=\"_other\">https://ld.stadt-zuerich.ch/statistics/attribute/ERWARTETE_AKTUALISIERUNG</a></td>\n",
       "<td class=val>2019-08-22</td></tr><tr class=odd><td class=val><a href=\"https://ld.stadt-zuerich.ch/statistics/observation/AST/R00031/Z31121978/BTA5005\" target=\"_other\">https://ld.stadt-zuerich.ch/statistics/observation/AST/R00031/Z31121978/BTA5005</a></td>\n",
       "<td class=val><a href=\"https://ld.stadt-zuerich.ch/statistics/attribute/BEZUGSZEIT\" target=\"_other\">https://ld.stadt-zuerich.ch/statistics/attribute/BEZUGSZEIT</a></td>\n",
       "<td class=val>Tag;Monat</td></tr><tr class=even><td class=val><a href=\"https://ld.stadt-zuerich.ch/statistics/observation/AST/R00031/Z31121978/BTA5005\" target=\"_other\">https://ld.stadt-zuerich.ch/statistics/observation/AST/R00031/Z31121978/BTA5005</a></td>\n",
       "<td class=val><a href=\"http://www.w3.org/2004/02/skos/core#notation\" target=\"_other\">http://www.w3.org/2004/02/skos/core#notation</a></td>\n",
       "<td class=val>Z31121978R00031ASTBTA5005XXX0000XXX0000XXX0000XXX0000</td></tr><tr class=odd><td class=val><a href=\"https://ld.stadt-zuerich.ch/statistics/observation/AST/R00031/Z31121978/BTA5005\" target=\"_other\">https://ld.stadt-zuerich.ch/statistics/observation/AST/R00031/Z31121978/BTA5005</a></td>\n",
       "<td class=val><a href=\"https://ld.stadt-zuerich.ch/statistics/attribute/KORREKTUR\" target=\"_other\">https://ld.stadt-zuerich.ch/statistics/attribute/KORREKTUR</a></td>\n",
       "<td class=val>false</td></tr></table><div class=\"tinfo\">Total: 13, Shown: 13</div></div>"
      ]
     },
     "metadata": {},
     "output_type": "display_data"
    }
   ],
   "source": [
    ">SPARQL\n",
    "PREFIX qb: <http://purl.org/linked-data/cube#>\n",
    "PREFIX rdfs: <http://www.w3.org/2000/01/rdf-schema#>\n",
    "PREFIX skos: <http://www.w3.org/2004/02/skos/core#>\n",
    "PREFIX : <arbitrary:relation>\n",
    "\n",
    "SELECT DISTINCT ?observation ?pred ?property\n",
    "FROM <https://linked.opendata.swiss/graph/zh/statistics>\n",
    "WHERE{\n",
    "    {\n",
    "    SELECT ?observation WHERE{\n",
    "        ?observation skos:notation \"Z31121978R00031ASTBTA5005XXX0000XXX0000XXX0000XXX0000\".\n",
    "        \n",
    "        #?observation a qb:Observation.\n",
    "        #FILTER REGEX(STR(?observation), \"stadt-zuerich\").\n",
    "        }\n",
    "    ORDER BY RAND()\n",
    "    LIMIT 1\n",
    "    }\n",
    "    {?observation (:|!:) ?property. ?observation ?pred ?property}\n",
    "}\n",
    "ORDER BY ?property"
   ]
  },
  {
   "cell_type": "markdown",
   "metadata": {},
   "source": [
    "### 4.20.1 Explanation\n",
    "First an Observation is selected, either randomly (switch the comments in the subselect) or a specific one, then the query tests the relationships originating from the cetral node https://ld.stadt-zuerich.ch/statistics/dataset/&lt;Observation&gt;. The property path **(:|!:)** checks wheter there is a relation connecting two resources and ```?dataset ?pred ?property``` matches these relations. For more detail see the [previous section](#Example-Query:-relations-of-a-DataSet)."
   ]
  },
  {
   "cell_type": "markdown",
   "metadata": {},
   "source": [
    "## 4.21 Example Query: evolution of the plot area without forest\n",
    "This query shall display the evolution of plot area, without forest, in Zurich over the years. We can extract the respective DataSet and code with the help of a FILTER REGEX(), for instance. The data is then plotted with the Google Chart feature of the SPARQL-Interface (a plot via notebook is not possible):"
   ]
  },
  {
   "cell_type": "code",
   "execution_count": 78,
   "metadata": {},
   "outputs": [
    {
     "data": {
      "text/html": [
       "<div class=\"krn-spql\"><table><tr class=hdr><th>year</th>\n",
       "<th>area</th></tr><tr class=odd><td class=val>1934</td>\n",
       "<td class=val>6473.1</td></tr><tr class=even><td class=val>1935</td>\n",
       "<td class=val>6473.1</td></tr><tr class=odd><td class=val>1936</td>\n",
       "<td class=val>6473.1</td></tr><tr class=even><td class=val>1937</td>\n",
       "<td class=val>6473.1</td></tr><tr class=odd><td class=val>1938</td>\n",
       "<td class=val>6504.4</td></tr><tr class=even><td class=val>1939</td>\n",
       "<td class=val>6504.4</td></tr><tr class=odd><td class=val>1940</td>\n",
       "<td class=val>6504.4</td></tr><tr class=even><td class=val>1941</td>\n",
       "<td class=val>6382.2</td></tr><tr class=odd><td class=val>1942</td>\n",
       "<td class=val>6403.6</td></tr><tr class=even><td class=val>1943</td>\n",
       "<td class=val>6403.6</td></tr><tr class=odd><td class=val>1944</td>\n",
       "<td class=val>6406.3</td></tr><tr class=even><td class=val>1945</td>\n",
       "<td class=val>6530.6</td></tr><tr class=odd><td class=val>1946</td>\n",
       "<td class=val>6493.4</td></tr><tr class=even><td class=val>1947</td>\n",
       "<td class=val>6493.3</td></tr><tr class=odd><td class=val>1948</td>\n",
       "<td class=val>6493.6</td></tr><tr class=even><td class=val>1949</td>\n",
       "<td class=val>6494.4</td></tr><tr class=odd><td class=val>1950</td>\n",
       "<td class=val>6494.4</td></tr><tr class=even><td class=val>1951</td>\n",
       "<td class=val>6495.4</td></tr><tr class=odd><td class=val>1952</td>\n",
       "<td class=val>6494.0</td></tr><tr class=even><td class=val>1953</td>\n",
       "<td class=val>6494.0</td></tr></table><div class=\"tinfo\">Total: 69, Shown: 20</div></div>"
      ]
     },
     "metadata": {},
     "output_type": "display_data"
    }
   ],
   "source": [
    ">SPARQL\n",
    "BASE <https://ld.stadt-zuerich.ch/statistics/>\n",
    "PREFIX qb: <http://purl.org/linked-data/cube#>                                                                                                                   \n",
    "PREFIX skos: <http://www.w3.org/2004/02/skos/core#>                                                              \n",
    "PREFIX rdfs: <http://www.w3.org/2000/01/rdf-schema#>                   \n",
    "\n",
    "SELECT ?year ?area \n",
    "FROM <https://linked.opendata.swiss/graph/zh/statistics>\n",
    "WHERE{ \n",
    "    ?observation qb:dataSet <dataset/STF-RAUM-ZEIT-BBA>;\n",
    "        <measure/STF> ?area;\n",
    "        <property/ZEIT> ?date;\n",
    "        <property/BBA>/skos:notation ?Bodenbedeckungsart;\n",
    "        <property/RAUM>/skos:notation ?Raum.\n",
    "    \n",
    "    #required for Google Chart\n",
    "    BIND(SUBSTR(STR(?date),1,4) AS ?year).  \n",
    "    \n",
    "    #set Raum=Zurich and Bodenbedeckungsart=Land area without forest\n",
    "    FILTER(?Raum IN (\"R30000\")).                                                                         \n",
    "    FILTER(?Bodenbedeckungsart IN (\"BBA1000\")).                                                                                                                                                                                                                                                                                                      \n",
    "} \n",
    "ORDER BY ?year"
   ]
  },
  {
   "cell_type": "markdown",
   "metadata": {},
   "source": [
    "<img src=\"images/plotarea_query.png\" width=\"550px\" align=\"left\">"
   ]
  },
  {
   "cell_type": "markdown",
   "metadata": {},
   "source": [
    "### 4.21.1 Explanation\n",
    "* R30000: Zurich City\n",
    "* BBA: Bodenbedeckungsart https://ld.stadt-zuerich.ch/statistics/property/BBA\n",
    "* BBA1000: Plot area without forest https://ld.stadt-zuerich.ch/statistics/code/BBA1000\n",
    "* unitMeasure of plot area: Hectare https://ld.stadt-zuerich.ch/statistics/measure/STF\n",
    "* the year has to be extracted from the date and bound to a String value for Google Chart to plot it properly\n",
    "\n",
    "This query uses the Google Chart feature of the [SPARQL interface](https://ld.stadt-zuerich.ch/sparql/) and is not displayable by the notebook. Google Chart offers various chart types along with font, color, axis and other customization options:\n",
    "<img src=\"images/googlechart.png\" width=\"800px\" align=\"left\">"
   ]
  },
  {
   "cell_type": "markdown",
   "metadata": {},
   "source": [
    "## 4.22 Example Query: females of swiss origin in 2016\n",
    "This query corresponds to the year book excerpt in section [3.2](#Concepts-of-the-Historic-Data). A single measurement of the residential population in dependance of homeland, sex and urban district in the year 2016 shall be given for the district \"Rathaus\":"
   ]
  },
  {
   "cell_type": "code",
   "execution_count": 79,
   "metadata": {},
   "outputs": [
    {
     "data": {
      "text/html": [
       "<div class=\"krn-spql\"><table><tr class=hdr><th>Observation</th>\n",
       "<th>Bevoelkerung</th>\n",
       "<th>Raum</th>\n",
       "<th>Zeit</th>\n",
       "<th>Herkunft</th>\n",
       "<th>Geschlecht</th></tr><tr class=odd><td class=val><a href=\"https://ld.stadt-zuerich.ch/statistics/observation/BEW/R00011/Z31122016/HEL1000/SEX0002\" target=\"_other\">https://ld.stadt-zuerich.ch/statistics/observation/BEW/R00011/Z31122016/HEL1000/SEX0002</a></td>\n",
       "<td class=val>1090.0</td>\n",
       "<td class=val><a href=\"https://ld.stadt-zuerich.ch/statistics/code/R00011\" target=\"_other\">https://ld.stadt-zuerich.ch/statistics/code/R00011</a></td>\n",
       "<td class=val>2016-12-31</td>\n",
       "<td class=val><a href=\"https://ld.stadt-zuerich.ch/statistics/code/HEL1000\" target=\"_other\">https://ld.stadt-zuerich.ch/statistics/code/HEL1000</a></td>\n",
       "<td class=val><a href=\"https://ld.stadt-zuerich.ch/statistics/code/SEX0002\" target=\"_other\">https://ld.stadt-zuerich.ch/statistics/code/SEX0002</a></td></tr></table><div class=\"tinfo\">Total: 1, Shown: 1</div></div>"
      ]
     },
     "metadata": {},
     "output_type": "display_data"
    }
   ],
   "source": [
    ">SPARQL\n",
    "PREFIX qb: <http://purl.org/linked-data/cube#>\n",
    "PREFIX dataset: <https://ld.stadt-zuerich.ch/statistics/dataset/>\n",
    "PREFIX measure: <https://ld.stadt-zuerich.ch/statistics/measure/>\n",
    "PREFIX property: <https://ld.stadt-zuerich.ch/statistics/property/>\n",
    "PREFIX code: <https://ld.stadt-zuerich.ch/statistics/code/>\n",
    "\n",
    "SELECT * \n",
    "FROM <https://linked.opendata.swiss/graph/zh/statistics>\n",
    "WHERE {\n",
    "    ?Observation a qb:Observation;\n",
    "        qb:dataSet dataset:BEW-RAUM-ZEIT-HEL-SEX;\n",
    "        measure:BEW   ?Bevoelkerung;\n",
    "        property:RAUM ?Raum; \n",
    "        property:ZEIT ?Zeit;\n",
    "        property:HEL  ?Herkunft;\n",
    "        property:SEX  ?Geschlecht.\n",
    "    \n",
    "      FILTER (YEAR(?Zeit)=2016 && ?Raum=code:R00011 && ?Herkunft=code:HEL1000 && ?Geschlecht=code:SEX0002)\n",
    "} \n",
    "ORDER BY ?Zeit"
   ]
  },
  {
   "cell_type": "markdown",
   "metadata": {},
   "source": [
    "### 4.22.1 Explanation\n",
    "With HEL1000 corresponding to swiss origin and SEX0002 representing female, the query result indeed agrees with the statistical table of the yearbook: \n",
    "<img src=\"images/yearbook2016_query.png\" width=\"600px\" align=\"left\">"
   ]
  },
  {
   "cell_type": "markdown",
   "metadata": {},
   "source": [
    "## 4.23 Example Query: evolution of the number of unemployed\n",
    "The number of unemployed citizens in the district \"Rathaus\" as a function of time shall be given:"
   ]
  },
  {
   "cell_type": "code",
   "execution_count": 85,
   "metadata": {},
   "outputs": [
    {
     "data": {
      "text/html": [
       "<div class=\"krn-spql\"><table><tr class=hdr><th>unemployed</th>\n",
       "<th>year</th></tr><tr class=odd><td class=val>88.0</td>\n",
       "<td class=val>2004</td></tr><tr class=even><td class=val>60.0</td>\n",
       "<td class=val>2005</td></tr><tr class=odd><td class=val>35.0</td>\n",
       "<td class=val>2006</td></tr><tr class=even><td class=val>35.0</td>\n",
       "<td class=val>2007</td></tr><tr class=odd><td class=val>37.0</td>\n",
       "<td class=val>2008</td></tr><tr class=even><td class=val>55.0</td>\n",
       "<td class=val>2009</td></tr><tr class=odd><td class=val>63.0</td>\n",
       "<td class=val>2010</td></tr><tr class=even><td class=val>45.0</td>\n",
       "<td class=val>2011</td></tr><tr class=odd><td class=val>47.0</td>\n",
       "<td class=val>2012</td></tr><tr class=even><td class=val>59.0</td>\n",
       "<td class=val>2013</td></tr><tr class=odd><td class=val>60.0</td>\n",
       "<td class=val>2014</td></tr><tr class=even><td class=val>66.0</td>\n",
       "<td class=val>2015</td></tr><tr class=odd><td class=val>62.0</td>\n",
       "<td class=val>2016</td></tr></table><div class=\"tinfo\">Total: 13, Shown: 13</div></div>"
      ]
     },
     "metadata": {},
     "output_type": "display_data"
    }
   ],
   "source": [
    ">SPARQL\n",
    "PREFIX qb: <http://purl.org/linked-data/cube#>\n",
    "PREFIX dataset: <https://ld.stadt-zuerich.ch/statistics/dataset/>\n",
    "PREFIX measure: <https://ld.stadt-zuerich.ch/statistics/measure/>\n",
    "PREFIX property: <https://ld.stadt-zuerich.ch/statistics/property/>\n",
    "PREFIX code: <https://ld.stadt-zuerich.ch/statistics/code/>\n",
    "\n",
    "SELECT ?unemployed ?year\n",
    "FROM <https://linked.opendata.swiss/graph/zh/statistics>\n",
    "WHERE {\n",
    "    ?observation a qb:Observation;\n",
    "        qb:dataSet dataset:ABL-RAUM-ZEIT;\n",
    "        measure:ABL ?unemployed;\n",
    "        property:RAUM ?Raum; \n",
    "        property:ZEIT ?Zeit.\n",
    "    \n",
    "    BIND(SUBSTR(STR(?Zeit), 1, 4) as ?year)\n",
    "    \n",
    "    FILTER (?Raum=code:R00011)\n",
    "} \n",
    "ORDER BY ?Zeit"
   ]
  },
  {
   "cell_type": "markdown",
   "metadata": {},
   "source": [
    "### 4.23.1 Explanation\n",
    "All observations of the respective DataSet are extracted along with their values for the measure and dimensions (only Raum and Zeit in this case). The year is bound to a separate variable and the query then finalized by filtering out all measurements in the Rathaus district. Feel free to test this query in the interface and plot it in a Google Chart!"
   ]
  },
  {
   "cell_type": "markdown",
   "metadata": {},
   "source": [
    "## 4.24 Example Query: conjunction of Kennzahlen\n",
    "The conjunction and combination of data is considerably simplified thanks to the data harmonization. As an example, the difference between births and deaths in Zurich as a function of the year shall be calculated:"
   ]
  },
  {
   "cell_type": "code",
   "execution_count": 86,
   "metadata": {},
   "outputs": [
    {
     "data": {
      "text/html": [
       "<div class=\"krn-spql\"><table><tr class=hdr><th>year</th>\n",
       "<th>births</th>\n",
       "<th>deaths</th>\n",
       "<th>difference</th></tr><tr class=odd><td class=val>1980-12-31</td>\n",
       "<td class=val>2953.0</td>\n",
       "<td class=val>4482.0</td>\n",
       "<td class=val>-1529.0</td></tr><tr class=even><td class=val>1981-12-31</td>\n",
       "<td class=val>2989.0</td>\n",
       "<td class=val>4480.0</td>\n",
       "<td class=val>-1491.0</td></tr><tr class=odd><td class=val>1982-12-31</td>\n",
       "<td class=val>3076.0</td>\n",
       "<td class=val>4453.0</td>\n",
       "<td class=val>-1377.0</td></tr><tr class=even><td class=val>1983-12-31</td>\n",
       "<td class=val>2994.0</td>\n",
       "<td class=val>4540.0</td>\n",
       "<td class=val>-1546.0</td></tr><tr class=odd><td class=val>1984-12-31</td>\n",
       "<td class=val>2984.0</td>\n",
       "<td class=val>4328.0</td>\n",
       "<td class=val>-1344.0</td></tr><tr class=even><td class=val>1985-12-31</td>\n",
       "<td class=val>2953.0</td>\n",
       "<td class=val>4448.0</td>\n",
       "<td class=val>-1495.0</td></tr><tr class=odd><td class=val>1986-12-31</td>\n",
       "<td class=val>2986.0</td>\n",
       "<td class=val>4489.0</td>\n",
       "<td class=val>-1503.0</td></tr><tr class=even><td class=val>1987-12-31</td>\n",
       "<td class=val>2942.0</td>\n",
       "<td class=val>4281.0</td>\n",
       "<td class=val>-1339.0</td></tr><tr class=odd><td class=val>1988-12-31</td>\n",
       "<td class=val>3036.0</td>\n",
       "<td class=val>4241.0</td>\n",
       "<td class=val>-1205.0</td></tr><tr class=even><td class=val>1989-12-31</td>\n",
       "<td class=val>3044.0</td>\n",
       "<td class=val>4228.0</td>\n",
       "<td class=val>-1184.0</td></tr><tr class=odd><td class=val>1990-12-31</td>\n",
       "<td class=val>3046.0</td>\n",
       "<td class=val>4330.0</td>\n",
       "<td class=val>-1284.0</td></tr><tr class=even><td class=val>1991-12-31</td>\n",
       "<td class=val>3342.0</td>\n",
       "<td class=val>4248.0</td>\n",
       "<td class=val>-906.0</td></tr><tr class=odd><td class=val>1992-12-31</td>\n",
       "<td class=val>3406.0</td>\n",
       "<td class=val>4148.0</td>\n",
       "<td class=val>-742.0</td></tr><tr class=even><td class=val>1993-12-31</td>\n",
       "<td class=val>3400.0</td>\n",
       "<td class=val>4048.0</td>\n",
       "<td class=val>-648.0</td></tr><tr class=odd><td class=val>1994-12-31</td>\n",
       "<td class=val>3483.0</td>\n",
       "<td class=val>4187.0</td>\n",
       "<td class=val>-704.0</td></tr><tr class=even><td class=val>1995-12-31</td>\n",
       "<td class=val>3419.0</td>\n",
       "<td class=val>4168.0</td>\n",
       "<td class=val>-749.0</td></tr><tr class=odd><td class=val>1996-12-31</td>\n",
       "<td class=val>3430.0</td>\n",
       "<td class=val>4105.0</td>\n",
       "<td class=val>-675.0</td></tr><tr class=even><td class=val>1997-12-31</td>\n",
       "<td class=val>3459.0</td>\n",
       "<td class=val>4046.0</td>\n",
       "<td class=val>-587.0</td></tr><tr class=odd><td class=val>1998-12-31</td>\n",
       "<td class=val>3455.0</td>\n",
       "<td class=val>3972.0</td>\n",
       "<td class=val>-517.0</td></tr><tr class=even><td class=val>1999-12-31</td>\n",
       "<td class=val>3489.0</td>\n",
       "<td class=val>3948.0</td>\n",
       "<td class=val>-459.0</td></tr></table><div class=\"tinfo\">Total: 38, Shown: 20</div></div>"
      ]
     },
     "metadata": {},
     "output_type": "display_data"
    }
   ],
   "source": [
    ">SPARQL\n",
    "PREFIX qb: <http://purl.org/linked-data/cube#>\n",
    "PREFIX dataset: <https://ld.stadt-zuerich.ch/statistics/dataset/>\n",
    "PREFIX measure: <https://ld.stadt-zuerich.ch/statistics/measure/>\n",
    "PREFIX property: <https://ld.stadt-zuerich.ch/statistics/property/>\n",
    "PREFIX code: <https://ld.stadt-zuerich.ch/statistics/code/>\n",
    "\n",
    "SELECT ?year (SUM(?births) AS ?births) (SUM(?deaths) AS ?deaths) (SUM(?difference) AS ?difference) \n",
    "FROM <https://linked.opendata.swiss/graph/zh/statistics>\n",
    "WHERE{\n",
    "    ?observation a qb:Observation; \n",
    "        property:RAUM ?Raum;\n",
    "        property:ZEIT ?Zeit.\n",
    "  \n",
    "    #extract births\n",
    "    {\n",
    "    ?observation qb:dataSet dataset:GEB-RAUM-ZEIT;\n",
    "    measure:GEB ?births.\n",
    "    BIND(?births AS ?difference)\n",
    "    }\n",
    "  \n",
    "    UNION\n",
    "  \n",
    "    #extract deaths\n",
    "    {\n",
    "    ?observation qb:dataSet dataset:GES-RAUM-ZEIT;\n",
    "    measure:GES ?deaths.\n",
    "    BIND(?deaths*-1 AS ?difference)\n",
    "    }\n",
    "    \n",
    "    #Raum = Zurich\n",
    "    FILTER(?Raum = code:R30000)\n",
    "  \n",
    "    #date2string for Google Chart\n",
    "    BIND(STR(?Zeit) AS ?year)\n",
    "}\n",
    "GROUP BY ?year\n",
    "ORDER BY ?year"
   ]
  },
  {
   "cell_type": "markdown",
   "metadata": {},
   "source": [
    "<img src=\"images/births-deaths_query.png\" width=\"800px\" align=\"left\">"
   ]
  },
  {
   "cell_type": "markdown",
   "metadata": {},
   "source": [
    "### 4.24.1 Explanation\n",
    "This query uses the Google Chart feature of the [SPARQL interface](https://ld.stadt-zuerich.ch/sparql/) and is not displayable by the notebook. Google Chart offers various chart types along with font, color, axis and other customization options. The BIND command merges the births AND the -deaths value (of every year) into ?difference thanks to the UNION of both subqueries (without UNION, BIND would overwrite ?difference). COUNT then adds or subtracts them respectively."
   ]
  },
  {
   "cell_type": "markdown",
   "metadata": {},
   "source": [
    "# 4.25 Example Query: differences in population numbers\n",
    "The following query is a bit more difficult and its objective is to show the differences in population numbers between SSZ and Wikidata. Only those entries are matched, for which the SSZ and Wikidata numbers are different. This example is a particular nice illustration of the benefits and significance of Linked Data. Without it and SPARQL, this comparison would have been possible only with multiple tools and a tremendous amount of work!"
   ]
  },
  {
   "cell_type": "code",
   "execution_count": 87,
   "metadata": {},
   "outputs": [
    {
     "data": {
      "text/html": [
       "<div class=\"krn-spql\"><table><tr class=hdr><th>Raum</th>\n",
       "<th>RaumLabel</th>\n",
       "<th>ZeitSSZ</th>\n",
       "<th>WikiTime</th>\n",
       "<th>WikidataUID</th>\n",
       "<th>BevSSZ</th>\n",
       "<th>BevWiki</th>\n",
       "<th>Rank</th></tr><tr class=odd><td class=val><a href=\"https://ld.stadt-zuerich.ch/statistics/code/R00013\" target=\"_other\">https://ld.stadt-zuerich.ch/statistics/code/R00013</a></td>\n",
       "<td class=val>Lindenhof</td>\n",
       "<td class=val>2017-12-31</td>\n",
       "<td class=val>2016-01-01T00:00:00Z</td>\n",
       "<td class=val><a href=\"http://www.wikidata.org/entity/Q10987378\" target=\"_other\">http://www.wikidata.org/entity/Q10987378</a></td>\n",
       "<td class=val>955</td>\n",
       "<td class=val>972</td>\n",
       "<td class=val><a href=\"http://wikiba.se/ontology#NormalRank\" target=\"_other\">http://wikiba.se/ontology#NormalRank</a></td></tr><tr class=even><td class=val><a href=\"https://ld.stadt-zuerich.ch/statistics/code/R00013\" target=\"_other\">https://ld.stadt-zuerich.ch/statistics/code/R00013</a></td>\n",
       "<td class=val>Lindenhof</td>\n",
       "<td class=val>2017-12-31</td>\n",
       "<td class=val>2015-01-01T00:00:00Z</td>\n",
       "<td class=val><a href=\"http://www.wikidata.org/entity/Q10987378\" target=\"_other\">http://www.wikidata.org/entity/Q10987378</a></td>\n",
       "<td class=val>955</td>\n",
       "<td class=val>974</td>\n",
       "<td class=val><a href=\"http://wikiba.se/ontology#NormalRank\" target=\"_other\">http://wikiba.se/ontology#NormalRank</a></td></tr><tr class=odd><td class=val><a href=\"https://ld.stadt-zuerich.ch/statistics/code/R00013\" target=\"_other\">https://ld.stadt-zuerich.ch/statistics/code/R00013</a></td>\n",
       "<td class=val>Lindenhof</td>\n",
       "<td class=val>2017-12-31</td>\n",
       "<td class=val>1978-01-01T00:00:00Z</td>\n",
       "<td class=val><a href=\"http://www.wikidata.org/entity/Q10987378\" target=\"_other\">http://www.wikidata.org/entity/Q10987378</a></td>\n",
       "<td class=val>955</td>\n",
       "<td class=val>1490</td>\n",
       "<td class=val><a href=\"http://wikiba.se/ontology#NormalRank\" target=\"_other\">http://wikiba.se/ontology#NormalRank</a></td></tr><tr class=even><td class=val><a href=\"https://ld.stadt-zuerich.ch/statistics/code/R00013\" target=\"_other\">https://ld.stadt-zuerich.ch/statistics/code/R00013</a></td>\n",
       "<td class=val>Lindenhof</td>\n",
       "<td class=val>2017-12-31</td>\n",
       "<td class=val>1983-01-01T00:00:00Z</td>\n",
       "<td class=val><a href=\"http://www.wikidata.org/entity/Q10987378\" target=\"_other\">http://www.wikidata.org/entity/Q10987378</a></td>\n",
       "<td class=val>955</td>\n",
       "<td class=val>1178</td>\n",
       "<td class=val><a href=\"http://wikiba.se/ontology#NormalRank\" target=\"_other\">http://wikiba.se/ontology#NormalRank</a></td></tr><tr class=odd><td class=val><a href=\"https://ld.stadt-zuerich.ch/statistics/code/R00013\" target=\"_other\">https://ld.stadt-zuerich.ch/statistics/code/R00013</a></td>\n",
       "<td class=val>Lindenhof</td>\n",
       "<td class=val>2017-12-31</td>\n",
       "<td class=val>2000-01-01T00:00:00Z</td>\n",
       "<td class=val><a href=\"http://www.wikidata.org/entity/Q10987378\" target=\"_other\">http://www.wikidata.org/entity/Q10987378</a></td>\n",
       "<td class=val>955</td>\n",
       "<td class=val>989</td>\n",
       "<td class=val><a href=\"http://wikiba.se/ontology#NormalRank\" target=\"_other\">http://wikiba.se/ontology#NormalRank</a></td></tr><tr class=even><td class=val><a href=\"https://ld.stadt-zuerich.ch/statistics/code/R00013\" target=\"_other\">https://ld.stadt-zuerich.ch/statistics/code/R00013</a></td>\n",
       "<td class=val>Lindenhof</td>\n",
       "<td class=val>2017-12-31</td>\n",
       "<td class=val>1981-01-01T00:00:00Z</td>\n",
       "<td class=val><a href=\"http://www.wikidata.org/entity/Q10987378\" target=\"_other\">http://www.wikidata.org/entity/Q10987378</a></td>\n",
       "<td class=val>955</td>\n",
       "<td class=val>1304</td>\n",
       "<td class=val><a href=\"http://wikiba.se/ontology#NormalRank\" target=\"_other\">http://wikiba.se/ontology#NormalRank</a></td></tr><tr class=odd><td class=val><a href=\"https://ld.stadt-zuerich.ch/statistics/code/R00013\" target=\"_other\">https://ld.stadt-zuerich.ch/statistics/code/R00013</a></td>\n",
       "<td class=val>Lindenhof</td>\n",
       "<td class=val>2017-12-31</td>\n",
       "<td class=val>1974-01-01T00:00:00Z</td>\n",
       "<td class=val><a href=\"http://www.wikidata.org/entity/Q10987378\" target=\"_other\">http://www.wikidata.org/entity/Q10987378</a></td>\n",
       "<td class=val>955</td>\n",
       "<td class=val>1679</td>\n",
       "<td class=val><a href=\"http://wikiba.se/ontology#NormalRank\" target=\"_other\">http://wikiba.se/ontology#NormalRank</a></td></tr><tr class=even><td class=val><a href=\"https://ld.stadt-zuerich.ch/statistics/code/R00013\" target=\"_other\">https://ld.stadt-zuerich.ch/statistics/code/R00013</a></td>\n",
       "<td class=val>Lindenhof</td>\n",
       "<td class=val>2017-12-31</td>\n",
       "<td class=val>1976-01-01T00:00:00Z</td>\n",
       "<td class=val><a href=\"http://www.wikidata.org/entity/Q10987378\" target=\"_other\">http://www.wikidata.org/entity/Q10987378</a></td>\n",
       "<td class=val>955</td>\n",
       "<td class=val>1463</td>\n",
       "<td class=val><a href=\"http://wikiba.se/ontology#NormalRank\" target=\"_other\">http://wikiba.se/ontology#NormalRank</a></td></tr><tr class=odd><td class=val><a href=\"https://ld.stadt-zuerich.ch/statistics/code/R00013\" target=\"_other\">https://ld.stadt-zuerich.ch/statistics/code/R00013</a></td>\n",
       "<td class=val>Lindenhof</td>\n",
       "<td class=val>2017-12-31</td>\n",
       "<td class=val>1985-01-01T00:00:00Z</td>\n",
       "<td class=val><a href=\"http://www.wikidata.org/entity/Q10987378\" target=\"_other\">http://www.wikidata.org/entity/Q10987378</a></td>\n",
       "<td class=val>955</td>\n",
       "<td class=val>1084</td>\n",
       "<td class=val><a href=\"http://wikiba.se/ontology#NormalRank\" target=\"_other\">http://wikiba.se/ontology#NormalRank</a></td></tr><tr class=even><td class=val><a href=\"https://ld.stadt-zuerich.ch/statistics/code/R00013\" target=\"_other\">https://ld.stadt-zuerich.ch/statistics/code/R00013</a></td>\n",
       "<td class=val>Lindenhof</td>\n",
       "<td class=val>2017-12-31</td>\n",
       "<td class=val>1971-01-01T00:00:00Z</td>\n",
       "<td class=val><a href=\"http://www.wikidata.org/entity/Q10987378\" target=\"_other\">http://www.wikidata.org/entity/Q10987378</a></td>\n",
       "<td class=val>955</td>\n",
       "<td class=val>1956</td>\n",
       "<td class=val><a href=\"http://wikiba.se/ontology#NormalRank\" target=\"_other\">http://wikiba.se/ontology#NormalRank</a></td></tr></table><div class=\"tinfo\">Total: 10, Shown: 10</div></div>"
      ]
     },
     "metadata": {},
     "output_type": "display_data"
    }
   ],
   "source": [
    ">SPARQL\n",
    "PREFIX rdf: <http://www.w3.org/1999/02/22-rdf-syntax-ns#>\n",
    "PREFIX rdfs: <http://www.w3.org/2000/01/rdf-schema#>\n",
    "PREFIX qb: <http://purl.org/linked-data/cube#>\n",
    "PREFIX owl: <http://www.w3.org/2002/07/owl#>\n",
    "PREFIX skos: <http://www.w3.org/2004/02/skos/core#>\n",
    "PREFIX wdt: <http://www.wikidata.org/prop/direct/>\n",
    "PREFIX wd: <http://www.wikidata.org/entity/>\n",
    "PREFIX pq: <http://www.wikidata.org/prop/qualifier/>\n",
    "PREFIX ps: <http://www.wikidata.org/prop/statement/>\n",
    "PREFIX p: <http://www.wikidata.org/prop/>\n",
    "PREFIX wikibase: <http://wikiba.se/ontology#>\n",
    "PREFIX dataset: <https://ld.stadt-zuerich.ch/statistics/dataset/>\n",
    "PREFIX measure: <https://ld.stadt-zuerich.ch/statistics/measure/>\n",
    "PREFIX dimension: <https://ld.stadt-zuerich.ch/statistics/property/>\n",
    "PREFIX attribute: <https://ld.stadt-zuerich.ch/statistics/attribute/>\n",
    "PREFIX code: <https://ld.stadt-zuerich.ch/statistics/code/>\n",
    "\n",
    "SELECT ?Raum ?RaumLabel ?ZeitSSZ ?WikiTime ?WikidataUID ?BevSSZ ?BevWiki ?Rank\n",
    "WHERE{\n",
    "    ?sub a qb:Observation;\n",
    "        qb:dataSet dataset:BEW-RAUM-ZEIT;\n",
    "        measure:BEW ?Bevoelkerung;\n",
    "        dimension:RAUM ?Raum;\n",
    "        dimension:ZEIT ?ZeitSSZ.\n",
    "\n",
    "    ?Raum owl:sameAs ?WikidataUID;\n",
    "        skos:broader code:Quartier;\n",
    "        rdfs:label ?RaumLabel.\n",
    "\n",
    "    BIND(xsd:decimal(?Bevoelkerung) AS ?BevSSZ)\n",
    "    \n",
    "    SERVICE <https://query.wikidata.org/bigdata/namespace/wdq/sparql>{\n",
    "    SELECT ?BevWiki ?WikiTime ?WikidataUID ?Rank \n",
    "    WHERE{\n",
    "        ?WikidataUID wdt:P31 wd:Q19644586;\n",
    "            p:P1082 ?EinwohnerProperty.\n",
    "    \n",
    "        ?EinwohnerProperty ps:P1082 ?BevWiki;\n",
    "            pq:P585 ?WikiTime;\n",
    "            wikibase:rank ?Rank.\n",
    "        }\n",
    "    }\n",
    "}\n",
    "HAVING (?BevSSZ != ?BevWiki)\n",
    "ORDER BY DESC(?ZeitSSZ)\n",
    "LIMIT 10"
   ]
  },
  {
   "cell_type": "markdown",
   "metadata": {},
   "source": [
    "### 4.25.1 Explanation\n",
    "* [Here](https://www.mediawiki.org/wiki/Wikibase/Indexing/RDF_Dump_Format#Full_list_of_prefixes) is the list of the PREFIXes and explanations of them \n",
    "* [Here](https://www.wikidata.org/wiki/Wikidata:SPARQL_query_service/queries#Working_with_qualifiers) is the Wikidata introduction to SPARQL queries\n",
    "\n",
    "Except for the Wikidata vocabulary, the query is not that difficult:\n",
    "* BIND to display the SSZ population (double) in the same format as Wikidata (decimal)\n",
    "* SERVICE to give the Wikidata SELECT access to the Wikidata SPARQL endpoint\n",
    "* HAVING to select only those matches for which the population numbers are different"
   ]
  },
  {
   "cell_type": "markdown",
   "metadata": {},
   "source": [
    "## 4.26 Example Query: Time and Date\n",
    "There exist monthly and annual DataSets. They are distinguished by the attribute BEZUGSZEIT which is a string value that states in what intervals the data is acquired, e.g. \"Tag;Monat\", \"Periode;Jahr\", \"Tag;Tag;Monat;Quartal;Trimester;Semester;Jahr\" etc.\n",
    "\n",
    "A few examples shall be given here..\n",
    "\n",
    "<span class=\"mark\">LATER</span>"
   ]
  },
  {
   "cell_type": "markdown",
   "metadata": {},
   "source": [
    "# 5 SSZVIS\n",
    "\n",
    "SSZVIS is a visualization library of Statistik Stadt Zürich. The data model and the chart system is defined [here](https://sszvis-components.netlify.com/#/chart-system).\n",
    "\n",
    "The resources can be found here:\n",
    "* https://www.npmjs.com/package/sszvis\n",
    "* https://github.com/statistikstadtzuerich/sszvis-components\n",
    "* https://github.com/statistikstadtzuerich/stip-frontend\n",
    "* http://stip-frontend-docs.interactivethings.io/\n",
    "* http://www.catalog.style/\n",
    "\n",
    "An example:\n",
    "<img src=\"images/SSZVIS_example.png\" width=\"600px\" align=\"left\">"
   ]
  },
  {
   "cell_type": "markdown",
   "metadata": {},
   "source": [
    "# 6 OpenSource and Repositories\n",
    "Statistik Stadt Zürich provides the code for LOSD under the BSD-3-Clause license. The code can freely be used but no support will be provided by Statistik Stadt Zürich.\n",
    "\n",
    "Relevant repositories:\n",
    "* [The documentation](https://github.com/statistikstadtzuerich/documentation)\n",
    "* [The pipeline from the internal data format of SSZ to RDF](https://github.com/statistikstadtzuerich/ld-data)\n",
    "* [The server for managing the Linked Data](https://github.com/statistikstadtzuerich/ld.stadt-zuerich.ch)\n",
    "* [The server to create the API](https://github.com/statistikstadtzuerich/stat.stadt-zuerich.ch)\n",
    "* [The visualization library](https://github.com/statistikstadtzuerich/sszvis-components)\n"
   ]
  }
 ],
 "metadata": {
  "kernelspec": {
   "display_name": "All the Kernels",
   "language": "",
   "name": "atk"
  },
  "language_info": {
   "mimetype": "text/plain",
   "name": "all-of-them"
  },
  "toc": {
   "base_numbering": 1,
   "nav_menu": {},
   "number_sections": true,
   "sideBar": true,
   "skip_h1_title": false,
   "title_cell": "Table of Contents",
   "title_sidebar": "Contents",
   "toc_cell": true,
   "toc_position": {},
   "toc_section_display": true,
   "toc_window_display": false
  }
 },
 "nbformat": 4,
 "nbformat_minor": 2
}
